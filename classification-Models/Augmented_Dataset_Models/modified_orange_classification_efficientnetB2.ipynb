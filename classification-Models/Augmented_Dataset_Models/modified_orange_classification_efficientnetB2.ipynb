{
  "cells": [
    {
      "cell_type": "markdown",
      "metadata": {
        "id": "view-in-github",
        "colab_type": "text"
      },
      "source": [
        "<a href=\"https://colab.research.google.com/github/amr-elbana/AI-driven-post-harvest-sorting-system/blob/main/classification-Models/Augmented_Dataset_Models/modified_orange_classification_efficientnetB2.ipynb\" target=\"_parent\"><img src=\"https://colab.research.google.com/assets/colab-badge.svg\" alt=\"Open In Colab\"/></a>"
      ]
    },
    {
      "cell_type": "code",
      "execution_count": null,
      "metadata": {
        "id": "iV_FZLbMlm-k",
        "colab": {
          "base_uri": "https://localhost:8080/"
        },
        "outputId": "46bedd15-fa6b-4f5e-98b3-a347e76cd55c"
      },
      "outputs": [
        {
          "output_type": "stream",
          "name": "stdout",
          "text": [
            "Drive already mounted at /content/drive; to attempt to forcibly remount, call drive.mount(\"/content/drive\", force_remount=True).\n"
          ]
        }
      ],
      "source": [
        "from google.colab import drive\n",
        "drive.mount('/content/drive')"
      ]
    },
    {
      "cell_type": "code",
      "execution_count": null,
      "metadata": {
        "id": "_DaHPav171SU"
      },
      "outputs": [],
      "source": [
        "import keras,os\n",
        "import numpy as np\n",
        "from keras.models import Sequential\n",
        "from keras.layers import Dense, Conv2D, MaxPool2D , Flatten\n",
        "from tensorflow.keras.preprocessing.image import ImageDataGenerator\n",
        "import tensorflow as tf\n",
        "from tensorflow.keras.layers import Dense, Flatten, Dropout\n",
        "from tensorflow.keras.layers import Input, BatchNormalization\n",
        "from tensorflow.keras.regularizers import l2\n",
        "from tensorflow.keras.models import Model\n",
        "from tensorflow.keras.optimizers import Adam\n",
        "from tensorflow.keras.preprocessing.image import ImageDataGenerator\n",
        "from tensorflow.keras.applications.efficientnet import preprocess_input,EfficientNetB2\n",
        "from tensorflow.keras.callbacks import ModelCheckpoint, EarlyStopping, ReduceLROnPlateau"
      ]
    },
    {
      "cell_type": "markdown",
      "metadata": {
        "id": "nmAz1KhYcAOj"
      },
      "source": [
        "# **DataSet**"
      ]
    },
    {
      "cell_type": "code",
      "execution_count": null,
      "metadata": {
        "id": "Ky6_g65DUSgm"
      },
      "outputs": [],
      "source": [
        "# Define paths and constants\n",
        "train_dir = \"/content/drive/MyDrive/final project/Dataset/original_dataset/train-2\"\n",
        "test_dir = \"/content/drive/MyDrive/final project/Dataset/original_dataset/test\"\n",
        "val_dir = \"/content/drive/MyDrive/final project/Dataset/original_dataset/validation\"\n",
        "batch_size = 32\n",
        "target_size = (224, 224)\n",
        "epochs = 50"
      ]
    },
    {
      "cell_type": "code",
      "execution_count": null,
      "metadata": {
        "colab": {
          "base_uri": "https://localhost:8080/"
        },
        "id": "dIJNGZTjUXGz",
        "outputId": "b09a964d-1092-48a8-856f-d321be4a1141"
      },
      "outputs": [
        {
          "output_type": "stream",
          "name": "stdout",
          "text": [
            "Found 6368 images belonging to 2 classes.\n",
            "Found 297 images belonging to 2 classes.\n",
            "Training samples: 6368\n",
            "Validation samples: 297\n",
            "Training batches per epoch: 199\n",
            "Validation batches per epoch: 10\n"
          ]
        }
      ],
      "source": [
        "\n",
        "# Create an ImageDataGenerator with EfficientNetB2 preprocessing and data augmentation\n",
        "train_datagen = ImageDataGenerator(\n",
        "    preprocessing_function=preprocess_input,  # EfficientNetB2-specific preprocessing\n",
        "    rotation_range=20,      # Randomly rotate images by up to 20 degrees\n",
        "    width_shift_range=0.2,   # Randomly shift images horizontally by up to 20% of the width\n",
        "    height_shift_range=0.2,  # Randomly shift images vertically by up to 20% of the height\n",
        "    shear_range=0.2,        # Randomly apply shearing transformations\n",
        "    zoom_range=0.2,         # Randomly zoom in or out on images\n",
        "    horizontal_flip=True,   # Randomly flip images horizontally\n",
        "    fill_mode='nearest'     # Fill in missing pixels using the nearest neighbor\n",
        ")\n",
        "\n",
        "validation_datagen = ImageDataGenerator(\n",
        "    preprocessing_function=preprocess_input,  # EfficientNetB2-specific preprocessing\n",
        ")\n",
        "\n",
        "# Flow training data from the directory and apply preprocessing and augmentation\n",
        "train_generator = train_datagen.flow_from_directory(\n",
        "    train_dir,\n",
        "    target_size=target_size,      # Resize images to EfficientNetB2 input size\n",
        "    batch_size=batch_size,\n",
        "    class_mode='binary',          # Binary classification (healthy vs rotten)\n",
        "    seed=42,                      # Set seed for reproducibility\n",
        "    shuffle=True                  # Shuffle the data to improve training\n",
        ")\n",
        "\n",
        "# Flow validation data from the directory and apply preprocessing (no augmentation for validation)\n",
        "validation_generator = validation_datagen.flow_from_directory(\n",
        "    val_dir,\n",
        "    target_size=target_size,      # Resize images to EfficientNetB2 input size\n",
        "    batch_size=batch_size,\n",
        "    class_mode='binary',          # Binary classification (healthy vs rotten)\n",
        "    shuffle=False                 # No need to shuffle validation data\n",
        ")\n",
        "\n",
        "# ... (rest of the code remains the same)\n",
        "\n",
        "# Check the number of samples in each generator\n",
        "print(f\"Training samples: {train_generator.samples}\")\n",
        "print(f\"Validation samples: {validation_generator.samples}\")\n",
        "print(f\"Training batches per epoch: {len(train_generator)}\")\n",
        "print(f\"Validation batches per epoch: {len(validation_generator)}\")"
      ]
    },
    {
      "cell_type": "code",
      "execution_count": null,
      "metadata": {
        "colab": {
          "base_uri": "https://localhost:8080/"
        },
        "id": "_vOZ0EYIlWMx",
        "outputId": "db88dcec-c834-4487-e4d2-26b41c482e68"
      },
      "outputs": [
        {
          "output_type": "stream",
          "name": "stdout",
          "text": [
            "Found 373 images belonging to 2 classes.\n",
            "Test samples: 373\n",
            "Test batches: 12\n"
          ]
        }
      ],
      "source": [
        "# Create an ImageDataGenerator for EfficientNetB2 preprocessing (no augmentation for the test set)\n",
        "test_datagen = ImageDataGenerator(\n",
        "    preprocessing_function=preprocess_input  # EfficientNetB2-specific preprocessing\n",
        ")\n",
        "\n",
        "# Flow data from the test directory and apply preprocessing\n",
        "test_generator = test_datagen.flow_from_directory(\n",
        "    test_dir,\n",
        "    target_size=(224, 224),  # efficientnetB2 input size\n",
        "    batch_size=batch_size,\n",
        "    class_mode='binary',     # Binary classification for the test set\n",
        "    shuffle=False            # Do not shuffle test data to keep results consistent\n",
        ")\n",
        "\n",
        "# Check the number of samples in the test set\n",
        "print(f\"Test samples: {test_generator.samples}\")\n",
        "print(f\"Test batches: {len(test_generator)}\")"
      ]
    },
    {
      "cell_type": "markdown",
      "metadata": {
        "id": "VX4Mp5JYcPKP"
      },
      "source": [
        "# **Model Architecture**"
      ]
    },
    {
      "cell_type": "code",
      "execution_count": null,
      "metadata": {
        "id": "xUo7vTHJBypu"
      },
      "outputs": [],
      "source": [
        "\"\"\"EfficientNetB2 is a functional model, and its layers are interdependent.\n",
        "Adding the entire model instead of individual layers ensures the integrity of its structure,\n",
        " preventing errors during training.\n",
        " Using GlobalAveragePooling2D further optimizes the architecture for the task.\"\"\"\n",
        "\n",
        "import os\n",
        "from tensorflow.keras.layers import GlobalAveragePooling2D\n",
        "def create_model():\n",
        "    # Load EfficientNetB2 model with pretrained weights, excluding the top (fully connected) layers\n",
        "    efficientnet_base = EfficientNetB2(weights='imagenet', include_top=False, input_shape=(224, 224, 3))\n",
        "\n",
        "    # Freeze the layers of EfficientNetB2 to retain the pre-trained weights\n",
        "    for layer in efficientnet_base.layers[:-20]:\n",
        "        layer.trainable = False\n",
        "\n",
        "    # Build the model\n",
        "    model = Sequential([\n",
        "        efficientnet_base,  # Add the entire base model\n",
        "        GlobalAveragePooling2D(),  # Replace Flatten with GAP for efficiency\n",
        "        Dense(128, activation='relu', kernel_regularizer=l2(0.01)),  # Regularization\n",
        "        BatchNormalization(),\n",
        "        Dropout(0.7),  # Prevent overfitting\n",
        "        Dense(64, activation='relu',kernel_regularizer=l2(0.01)),\n",
        "        BatchNormalization(),\n",
        "        Dropout(0.6),\n",
        "        Dense(1, activation='sigmoid')  # For binary classification\n",
        "    ])\n",
        "\n",
        "    # Compile the model\n",
        "    optimizer = SGD(learning_rate=0.0001, momentum=0.9)  # Lower learning rate\n",
        "    model.compile(optimizer = optimizer,loss=\"binary_crossentropy\", metrics=[\"accuracy\"])\n",
        "    return model\n",
        "\n",
        "# Ensure the directory for checkpoints exists\n",
        "model_dir = \"/content/drive/MyDrive/final project/modified augmented model\"\n",
        "if not os.path.exists(model_dir):\n",
        "    os.makedirs(model_dir)\n",
        "\n",
        "# Define the model\n",
        "model = create_model()\n"
      ]
    },
    {
      "cell_type": "markdown",
      "metadata": {
        "id": "UVjuz9YVccdV"
      },
      "source": [
        "# **Training**"
      ]
    },
    {
      "cell_type": "code",
      "execution_count": null,
      "metadata": {
        "colab": {
          "base_uri": "https://localhost:8080/"
        },
        "id": "t0lXl3jLnUuR",
        "outputId": "8212eaf3-d667-4482-95be-381703d1c82a"
      },
      "outputs": [
        {
          "output_type": "stream",
          "name": "stdout",
          "text": [
            "Epoch 1/50\n",
            "\u001b[1m199/199\u001b[0m \u001b[32m━━━━━━━━━━━━━━━━━━━━\u001b[0m\u001b[37m\u001b[0m \u001b[1m0s\u001b[0m 832ms/step - accuracy: 0.5841 - loss: 4.1391\n",
            "Epoch 1: val_accuracy improved from -inf to 0.82828, saving model to /content/drive/MyDrive/final project/modified augmented model/EfficientNetB2_01-0.83.keras\n",
            "\u001b[1m199/199\u001b[0m \u001b[32m━━━━━━━━━━━━━━━━━━━━\u001b[0m\u001b[37m\u001b[0m \u001b[1m232s\u001b[0m 973ms/step - accuracy: 0.5844 - loss: 4.1384 - val_accuracy: 0.8283 - val_loss: 3.6196 - learning_rate: 1.0000e-04\n",
            "Epoch 2/50\n",
            "\u001b[1m199/199\u001b[0m \u001b[32m━━━━━━━━━━━━━━━━━━━━\u001b[0m\u001b[37m\u001b[0m \u001b[1m0s\u001b[0m 827ms/step - accuracy: 0.7221 - loss: 3.7868\n",
            "Epoch 2: val_accuracy improved from 0.82828 to 0.86532, saving model to /content/drive/MyDrive/final project/modified augmented model/EfficientNetB2_02-0.87.keras\n",
            "\u001b[1m199/199\u001b[0m \u001b[32m━━━━━━━━━━━━━━━━━━━━\u001b[0m\u001b[37m\u001b[0m \u001b[1m179s\u001b[0m 871ms/step - accuracy: 0.7222 - loss: 3.7866 - val_accuracy: 0.8653 - val_loss: 3.4587 - learning_rate: 1.0000e-04\n",
            "Epoch 3/50\n",
            "\u001b[1m199/199\u001b[0m \u001b[32m━━━━━━━━━━━━━━━━━━━━\u001b[0m\u001b[37m\u001b[0m \u001b[1m0s\u001b[0m 828ms/step - accuracy: 0.7753 - loss: 3.6646\n",
            "Epoch 3: val_accuracy improved from 0.86532 to 0.88215, saving model to /content/drive/MyDrive/final project/modified augmented model/EfficientNetB2_03-0.88.keras\n",
            "\u001b[1m199/199\u001b[0m \u001b[32m━━━━━━━━━━━━━━━━━━━━\u001b[0m\u001b[37m\u001b[0m \u001b[1m182s\u001b[0m 885ms/step - accuracy: 0.7753 - loss: 3.6645 - val_accuracy: 0.8822 - val_loss: 3.3903 - learning_rate: 1.0000e-04\n",
            "Epoch 4/50\n",
            "\u001b[1m199/199\u001b[0m \u001b[32m━━━━━━━━━━━━━━━━━━━━\u001b[0m\u001b[37m\u001b[0m \u001b[1m0s\u001b[0m 825ms/step - accuracy: 0.8083 - loss: 3.5776\n",
            "Epoch 4: val_accuracy improved from 0.88215 to 0.89226, saving model to /content/drive/MyDrive/final project/modified augmented model/EfficientNetB2_04-0.89.keras\n",
            "\u001b[1m199/199\u001b[0m \u001b[32m━━━━━━━━━━━━━━━━━━━━\u001b[0m\u001b[37m\u001b[0m \u001b[1m202s\u001b[0m 882ms/step - accuracy: 0.8083 - loss: 3.5776 - val_accuracy: 0.8923 - val_loss: 3.3420 - learning_rate: 1.0000e-04\n",
            "Epoch 5/50\n",
            "\u001b[1m199/199\u001b[0m \u001b[32m━━━━━━━━━━━━━━━━━━━━\u001b[0m\u001b[37m\u001b[0m \u001b[1m0s\u001b[0m 828ms/step - accuracy: 0.8315 - loss: 3.5093\n",
            "Epoch 5: val_accuracy improved from 0.89226 to 0.89899, saving model to /content/drive/MyDrive/final project/modified augmented model/EfficientNetB2_05-0.90.keras\n",
            "\u001b[1m199/199\u001b[0m \u001b[32m━━━━━━━━━━━━━━━━━━━━\u001b[0m\u001b[37m\u001b[0m \u001b[1m198s\u001b[0m 869ms/step - accuracy: 0.8315 - loss: 3.5093 - val_accuracy: 0.8990 - val_loss: 3.3025 - learning_rate: 1.0000e-04\n",
            "Epoch 6/50\n",
            "\u001b[1m199/199\u001b[0m \u001b[32m━━━━━━━━━━━━━━━━━━━━\u001b[0m\u001b[37m\u001b[0m \u001b[1m0s\u001b[0m 825ms/step - accuracy: 0.8391 - loss: 3.4701\n",
            "Epoch 6: val_accuracy improved from 0.89899 to 0.90236, saving model to /content/drive/MyDrive/final project/modified augmented model/EfficientNetB2_06-0.90.keras\n",
            "\u001b[1m199/199\u001b[0m \u001b[32m━━━━━━━━━━━━━━━━━━━━\u001b[0m\u001b[37m\u001b[0m \u001b[1m180s\u001b[0m 868ms/step - accuracy: 0.8392 - loss: 3.4699 - val_accuracy: 0.9024 - val_loss: 3.2651 - learning_rate: 1.0000e-04\n",
            "Epoch 7/50\n",
            "\u001b[1m199/199\u001b[0m \u001b[32m━━━━━━━━━━━━━━━━━━━━\u001b[0m\u001b[37m\u001b[0m \u001b[1m0s\u001b[0m 836ms/step - accuracy: 0.8475 - loss: 3.4019\n",
            "Epoch 7: val_accuracy did not improve from 0.90236\n",
            "\u001b[1m199/199\u001b[0m \u001b[32m━━━━━━━━━━━━━━━━━━━━\u001b[0m\u001b[37m\u001b[0m \u001b[1m178s\u001b[0m 869ms/step - accuracy: 0.8475 - loss: 3.4019 - val_accuracy: 0.9024 - val_loss: 3.2307 - learning_rate: 1.0000e-04\n",
            "Epoch 8/50\n",
            "\u001b[1m199/199\u001b[0m \u001b[32m━━━━━━━━━━━━━━━━━━━━\u001b[0m\u001b[37m\u001b[0m \u001b[1m0s\u001b[0m 838ms/step - accuracy: 0.8578 - loss: 3.3675\n",
            "Epoch 8: val_accuracy improved from 0.90236 to 0.91582, saving model to /content/drive/MyDrive/final project/modified augmented model/EfficientNetB2_08-0.92.keras\n",
            "\u001b[1m199/199\u001b[0m \u001b[32m━━━━━━━━━━━━━━━━━━━━\u001b[0m\u001b[37m\u001b[0m \u001b[1m205s\u001b[0m 881ms/step - accuracy: 0.8578 - loss: 3.3673 - val_accuracy: 0.9158 - val_loss: 3.1972 - learning_rate: 1.0000e-04\n",
            "Epoch 9/50\n",
            "\u001b[1m199/199\u001b[0m \u001b[32m━━━━━━━━━━━━━━━━━━━━\u001b[0m\u001b[37m\u001b[0m \u001b[1m0s\u001b[0m 820ms/step - accuracy: 0.8702 - loss: 3.3263\n",
            "Epoch 9: val_accuracy did not improve from 0.91582\n",
            "\u001b[1m199/199\u001b[0m \u001b[32m━━━━━━━━━━━━━━━━━━━━\u001b[0m\u001b[37m\u001b[0m \u001b[1m175s\u001b[0m 853ms/step - accuracy: 0.8702 - loss: 3.3262 - val_accuracy: 0.9125 - val_loss: 3.1646 - learning_rate: 1.0000e-04\n",
            "Epoch 10/50\n",
            "\u001b[1m199/199\u001b[0m \u001b[32m━━━━━━━━━━━━━━━━━━━━\u001b[0m\u001b[37m\u001b[0m \u001b[1m0s\u001b[0m 824ms/step - accuracy: 0.8902 - loss: 3.2682\n",
            "Epoch 10: val_accuracy improved from 0.91582 to 0.93266, saving model to /content/drive/MyDrive/final project/modified augmented model/EfficientNetB2_10-0.93.keras\n",
            "\u001b[1m199/199\u001b[0m \u001b[32m━━━━━━━━━━━━━━━━━━━━\u001b[0m\u001b[37m\u001b[0m \u001b[1m206s\u001b[0m 867ms/step - accuracy: 0.8902 - loss: 3.2682 - val_accuracy: 0.9327 - val_loss: 3.1319 - learning_rate: 1.0000e-04\n",
            "Epoch 11/50\n",
            "\u001b[1m199/199\u001b[0m \u001b[32m━━━━━━━━━━━━━━━━━━━━\u001b[0m\u001b[37m\u001b[0m \u001b[1m0s\u001b[0m 828ms/step - accuracy: 0.8949 - loss: 3.2292\n",
            "Epoch 11: val_accuracy did not improve from 0.93266\n",
            "\u001b[1m199/199\u001b[0m \u001b[32m━━━━━━━━━━━━━━━━━━━━\u001b[0m\u001b[37m\u001b[0m \u001b[1m176s\u001b[0m 861ms/step - accuracy: 0.8949 - loss: 3.2292 - val_accuracy: 0.9293 - val_loss: 3.1030 - learning_rate: 1.0000e-04\n",
            "Epoch 12/50\n",
            "\u001b[1m199/199\u001b[0m \u001b[32m━━━━━━━━━━━━━━━━━━━━\u001b[0m\u001b[37m\u001b[0m \u001b[1m0s\u001b[0m 824ms/step - accuracy: 0.8905 - loss: 3.2139\n",
            "Epoch 12: val_accuracy improved from 0.93266 to 0.93939, saving model to /content/drive/MyDrive/final project/modified augmented model/EfficientNetB2_12-0.94.keras\n",
            "\u001b[1m199/199\u001b[0m \u001b[32m━━━━━━━━━━━━━━━━━━━━\u001b[0m\u001b[37m\u001b[0m \u001b[1m181s\u001b[0m 880ms/step - accuracy: 0.8905 - loss: 3.2138 - val_accuracy: 0.9394 - val_loss: 3.0736 - learning_rate: 1.0000e-04\n",
            "Epoch 13/50\n",
            "\u001b[1m199/199\u001b[0m \u001b[32m━━━━━━━━━━━━━━━━━━━━\u001b[0m\u001b[37m\u001b[0m \u001b[1m0s\u001b[0m 834ms/step - accuracy: 0.8930 - loss: 3.1633\n",
            "Epoch 13: val_accuracy improved from 0.93939 to 0.94276, saving model to /content/drive/MyDrive/final project/modified augmented model/EfficientNetB2_13-0.94.keras\n",
            "\u001b[1m199/199\u001b[0m \u001b[32m━━━━━━━━━━━━━━━━━━━━\u001b[0m\u001b[37m\u001b[0m \u001b[1m179s\u001b[0m 876ms/step - accuracy: 0.8930 - loss: 3.1633 - val_accuracy: 0.9428 - val_loss: 3.0432 - learning_rate: 1.0000e-04\n",
            "Epoch 14/50\n",
            "\u001b[1m199/199\u001b[0m \u001b[32m━━━━━━━━━━━━━━━━━━━━\u001b[0m\u001b[37m\u001b[0m \u001b[1m0s\u001b[0m 836ms/step - accuracy: 0.9132 - loss: 3.1209\n",
            "Epoch 14: val_accuracy improved from 0.94276 to 0.94949, saving model to /content/drive/MyDrive/final project/modified augmented model/EfficientNetB2_14-0.95.keras\n",
            "\u001b[1m199/199\u001b[0m \u001b[32m━━━━━━━━━━━━━━━━━━━━\u001b[0m\u001b[37m\u001b[0m \u001b[1m204s\u001b[0m 879ms/step - accuracy: 0.9132 - loss: 3.1209 - val_accuracy: 0.9495 - val_loss: 3.0154 - learning_rate: 1.0000e-04\n",
            "Epoch 15/50\n",
            "\u001b[1m199/199\u001b[0m \u001b[32m━━━━━━━━━━━━━━━━━━━━\u001b[0m\u001b[37m\u001b[0m \u001b[1m0s\u001b[0m 834ms/step - accuracy: 0.9048 - loss: 3.1140\n",
            "Epoch 15: val_accuracy did not improve from 0.94949\n",
            "\u001b[1m199/199\u001b[0m \u001b[32m━━━━━━━━━━━━━━━━━━━━\u001b[0m\u001b[37m\u001b[0m \u001b[1m181s\u001b[0m 876ms/step - accuracy: 0.9048 - loss: 3.1140 - val_accuracy: 0.9495 - val_loss: 2.9889 - learning_rate: 1.0000e-04\n",
            "Epoch 16/50\n",
            "\u001b[1m199/199\u001b[0m \u001b[32m━━━━━━━━━━━━━━━━━━━━\u001b[0m\u001b[37m\u001b[0m \u001b[1m0s\u001b[0m 840ms/step - accuracy: 0.9054 - loss: 3.1006\n",
            "Epoch 16: val_accuracy did not improve from 0.94949\n",
            "\u001b[1m199/199\u001b[0m \u001b[32m━━━━━━━━━━━━━━━━━━━━\u001b[0m\u001b[37m\u001b[0m \u001b[1m179s\u001b[0m 873ms/step - accuracy: 0.9055 - loss: 3.1004 - val_accuracy: 0.9495 - val_loss: 2.9615 - learning_rate: 1.0000e-04\n",
            "Epoch 17/50\n",
            "\u001b[1m199/199\u001b[0m \u001b[32m━━━━━━━━━━━━━━━━━━━━\u001b[0m\u001b[37m\u001b[0m \u001b[1m0s\u001b[0m 824ms/step - accuracy: 0.9102 - loss: 3.0549\n",
            "Epoch 17: val_accuracy improved from 0.94949 to 0.95623, saving model to /content/drive/MyDrive/final project/modified augmented model/EfficientNetB2_17-0.96.keras\n",
            "\u001b[1m199/199\u001b[0m \u001b[32m━━━━━━━━━━━━━━━━━━━━\u001b[0m\u001b[37m\u001b[0m \u001b[1m199s\u001b[0m 861ms/step - accuracy: 0.9102 - loss: 3.0548 - val_accuracy: 0.9562 - val_loss: 2.9354 - learning_rate: 1.0000e-04\n",
            "Epoch 18/50\n",
            "\u001b[1m199/199\u001b[0m \u001b[32m━━━━━━━━━━━━━━━━━━━━\u001b[0m\u001b[37m\u001b[0m \u001b[1m0s\u001b[0m 829ms/step - accuracy: 0.9125 - loss: 3.0275\n",
            "Epoch 18: val_accuracy did not improve from 0.95623\n",
            "\u001b[1m199/199\u001b[0m \u001b[32m━━━━━━━━━━━━━━━━━━━━\u001b[0m\u001b[37m\u001b[0m \u001b[1m180s\u001b[0m 869ms/step - accuracy: 0.9125 - loss: 3.0275 - val_accuracy: 0.9562 - val_loss: 2.9082 - learning_rate: 1.0000e-04\n",
            "Epoch 19/50\n",
            "\u001b[1m199/199\u001b[0m \u001b[32m━━━━━━━━━━━━━━━━━━━━\u001b[0m\u001b[37m\u001b[0m \u001b[1m0s\u001b[0m 821ms/step - accuracy: 0.9278 - loss: 2.9809\n",
            "Epoch 19: val_accuracy did not improve from 0.95623\n",
            "\u001b[1m199/199\u001b[0m \u001b[32m━━━━━━━━━━━━━━━━━━━━\u001b[0m\u001b[37m\u001b[0m \u001b[1m199s\u001b[0m 860ms/step - accuracy: 0.9278 - loss: 2.9809 - val_accuracy: 0.9562 - val_loss: 2.8814 - learning_rate: 1.0000e-04\n",
            "Epoch 20/50\n",
            "\u001b[1m199/199\u001b[0m \u001b[32m━━━━━━━━━━━━━━━━━━━━\u001b[0m\u001b[37m\u001b[0m \u001b[1m0s\u001b[0m 841ms/step - accuracy: 0.9181 - loss: 2.9658\n",
            "Epoch 20: val_accuracy did not improve from 0.95623\n",
            "\u001b[1m199/199\u001b[0m \u001b[32m━━━━━━━━━━━━━━━━━━━━\u001b[0m\u001b[37m\u001b[0m \u001b[1m179s\u001b[0m 874ms/step - accuracy: 0.9181 - loss: 2.9657 - val_accuracy: 0.9562 - val_loss: 2.8548 - learning_rate: 1.0000e-04\n",
            "Epoch 21/50\n",
            "\u001b[1m199/199\u001b[0m \u001b[32m━━━━━━━━━━━━━━━━━━━━\u001b[0m\u001b[37m\u001b[0m \u001b[1m0s\u001b[0m 834ms/step - accuracy: 0.9230 - loss: 2.9480\n",
            "Epoch 21: val_accuracy improved from 0.95623 to 0.96296, saving model to /content/drive/MyDrive/final project/modified augmented model/EfficientNetB2_21-0.96.keras\n",
            "\u001b[1m199/199\u001b[0m \u001b[32m━━━━━━━━━━━━━━━━━━━━\u001b[0m\u001b[37m\u001b[0m \u001b[1m206s\u001b[0m 890ms/step - accuracy: 0.9230 - loss: 2.9480 - val_accuracy: 0.9630 - val_loss: 2.8306 - learning_rate: 1.0000e-04\n",
            "Epoch 22/50\n",
            "\u001b[1m199/199\u001b[0m \u001b[32m━━━━━━━━━━━━━━━━━━━━\u001b[0m\u001b[37m\u001b[0m \u001b[1m0s\u001b[0m 848ms/step - accuracy: 0.9287 - loss: 2.9100\n",
            "Epoch 22: val_accuracy improved from 0.96296 to 0.96633, saving model to /content/drive/MyDrive/final project/modified augmented model/EfficientNetB2_22-0.97.keras\n",
            "\u001b[1m199/199\u001b[0m \u001b[32m━━━━━━━━━━━━━━━━━━━━\u001b[0m\u001b[37m\u001b[0m \u001b[1m185s\u001b[0m 904ms/step - accuracy: 0.9287 - loss: 2.9100 - val_accuracy: 0.9663 - val_loss: 2.8050 - learning_rate: 1.0000e-04\n",
            "Epoch 23/50\n",
            "\u001b[1m199/199\u001b[0m \u001b[32m━━━━━━━━━━━━━━━━━━━━\u001b[0m\u001b[37m\u001b[0m \u001b[1m0s\u001b[0m 820ms/step - accuracy: 0.9313 - loss: 2.8884\n",
            "Epoch 23: val_accuracy did not improve from 0.96633\n",
            "\u001b[1m199/199\u001b[0m \u001b[32m━━━━━━━━━━━━━━━━━━━━\u001b[0m\u001b[37m\u001b[0m \u001b[1m197s\u001b[0m 873ms/step - accuracy: 0.9313 - loss: 2.8883 - val_accuracy: 0.9663 - val_loss: 2.7798 - learning_rate: 1.0000e-04\n",
            "Epoch 24/50\n",
            "\u001b[1m199/199\u001b[0m \u001b[32m━━━━━━━━━━━━━━━━━━━━\u001b[0m\u001b[37m\u001b[0m \u001b[1m0s\u001b[0m 825ms/step - accuracy: 0.9308 - loss: 2.8565\n",
            "Epoch 24: val_accuracy improved from 0.96633 to 0.96970, saving model to /content/drive/MyDrive/final project/modified augmented model/EfficientNetB2_24-0.97.keras\n",
            "\u001b[1m199/199\u001b[0m \u001b[32m━━━━━━━━━━━━━━━━━━━━\u001b[0m\u001b[37m\u001b[0m \u001b[1m200s\u001b[0m 868ms/step - accuracy: 0.9308 - loss: 2.8565 - val_accuracy: 0.9697 - val_loss: 2.7547 - learning_rate: 1.0000e-04\n",
            "Epoch 25/50\n",
            "\u001b[1m199/199\u001b[0m \u001b[32m━━━━━━━━━━━━━━━━━━━━\u001b[0m\u001b[37m\u001b[0m \u001b[1m0s\u001b[0m 818ms/step - accuracy: 0.9284 - loss: 2.8324\n",
            "Epoch 25: val_accuracy improved from 0.96970 to 0.97306, saving model to /content/drive/MyDrive/final project/modified augmented model/EfficientNetB2_25-0.97.keras\n",
            "\u001b[1m199/199\u001b[0m \u001b[32m━━━━━━━━━━━━━━━━━━━━\u001b[0m\u001b[37m\u001b[0m \u001b[1m176s\u001b[0m 855ms/step - accuracy: 0.9284 - loss: 2.8324 - val_accuracy: 0.9731 - val_loss: 2.7316 - learning_rate: 1.0000e-04\n",
            "Epoch 26/50\n",
            "\u001b[1m199/199\u001b[0m \u001b[32m━━━━━━━━━━━━━━━━━━━━\u001b[0m\u001b[37m\u001b[0m \u001b[1m0s\u001b[0m 824ms/step - accuracy: 0.9273 - loss: 2.8238\n",
            "Epoch 26: val_accuracy did not improve from 0.97306\n",
            "\u001b[1m199/199\u001b[0m \u001b[32m━━━━━━━━━━━━━━━━━━━━\u001b[0m\u001b[37m\u001b[0m \u001b[1m203s\u001b[0m 863ms/step - accuracy: 0.9273 - loss: 2.8237 - val_accuracy: 0.9731 - val_loss: 2.7078 - learning_rate: 1.0000e-04\n",
            "Epoch 27/50\n",
            "\u001b[1m199/199\u001b[0m \u001b[32m━━━━━━━━━━━━━━━━━━━━\u001b[0m\u001b[37m\u001b[0m \u001b[1m0s\u001b[0m 828ms/step - accuracy: 0.9325 - loss: 2.7979\n",
            "Epoch 27: val_accuracy did not improve from 0.97306\n",
            "\u001b[1m199/199\u001b[0m \u001b[32m━━━━━━━━━━━━━━━━━━━━\u001b[0m\u001b[37m\u001b[0m \u001b[1m176s\u001b[0m 861ms/step - accuracy: 0.9325 - loss: 2.7979 - val_accuracy: 0.9731 - val_loss: 2.6839 - learning_rate: 1.0000e-04\n",
            "Epoch 28/50\n",
            "\u001b[1m199/199\u001b[0m \u001b[32m━━━━━━━━━━━━━━━━━━━━\u001b[0m\u001b[37m\u001b[0m \u001b[1m0s\u001b[0m 845ms/step - accuracy: 0.9332 - loss: 2.7747\n",
            "Epoch 28: val_accuracy improved from 0.97306 to 0.97643, saving model to /content/drive/MyDrive/final project/modified augmented model/EfficientNetB2_28-0.98.keras\n",
            "\u001b[1m199/199\u001b[0m \u001b[32m━━━━━━━━━━━━━━━━━━━━\u001b[0m\u001b[37m\u001b[0m \u001b[1m184s\u001b[0m 890ms/step - accuracy: 0.9333 - loss: 2.7746 - val_accuracy: 0.9764 - val_loss: 2.6589 - learning_rate: 1.0000e-04\n",
            "Epoch 29/50\n",
            "\u001b[1m199/199\u001b[0m \u001b[32m━━━━━━━━━━━━━━━━━━━━\u001b[0m\u001b[37m\u001b[0m \u001b[1m0s\u001b[0m 845ms/step - accuracy: 0.9342 - loss: 2.7429\n",
            "Epoch 29: val_accuracy did not improve from 0.97643\n",
            "\u001b[1m199/199\u001b[0m \u001b[32m━━━━━━━━━━━━━━━━━━━━\u001b[0m\u001b[37m\u001b[0m \u001b[1m200s\u001b[0m 885ms/step - accuracy: 0.9342 - loss: 2.7429 - val_accuracy: 0.9731 - val_loss: 2.6369 - learning_rate: 1.0000e-04\n",
            "Epoch 30/50\n",
            "\u001b[1m199/199\u001b[0m \u001b[32m━━━━━━━━━━━━━━━━━━━━\u001b[0m\u001b[37m\u001b[0m \u001b[1m0s\u001b[0m 854ms/step - accuracy: 0.9382 - loss: 2.7252\n",
            "Epoch 30: val_accuracy did not improve from 0.97643\n",
            "\u001b[1m199/199\u001b[0m \u001b[32m━━━━━━━━━━━━━━━━━━━━\u001b[0m\u001b[37m\u001b[0m \u001b[1m202s\u001b[0m 889ms/step - accuracy: 0.9382 - loss: 2.7251 - val_accuracy: 0.9731 - val_loss: 2.6147 - learning_rate: 1.0000e-04\n",
            "Epoch 31/50\n",
            "\u001b[1m199/199\u001b[0m \u001b[32m━━━━━━━━━━━━━━━━━━━━\u001b[0m\u001b[37m\u001b[0m \u001b[1m0s\u001b[0m 846ms/step - accuracy: 0.9384 - loss: 2.6873\n",
            "Epoch 31: val_accuracy did not improve from 0.97643\n",
            "\u001b[1m199/199\u001b[0m \u001b[32m━━━━━━━━━━━━━━━━━━━━\u001b[0m\u001b[37m\u001b[0m \u001b[1m200s\u001b[0m 881ms/step - accuracy: 0.9384 - loss: 2.6873 - val_accuracy: 0.9764 - val_loss: 2.5927 - learning_rate: 1.0000e-04\n",
            "Epoch 32/50\n",
            "\u001b[1m199/199\u001b[0m \u001b[32m━━━━━━━━━━━━━━━━━━━━\u001b[0m\u001b[37m\u001b[0m \u001b[1m0s\u001b[0m 849ms/step - accuracy: 0.9438 - loss: 2.6652\n",
            "Epoch 32: val_accuracy did not improve from 0.97643\n",
            "\u001b[1m199/199\u001b[0m \u001b[32m━━━━━━━━━━━━━━━━━━━━\u001b[0m\u001b[37m\u001b[0m \u001b[1m205s\u001b[0m 889ms/step - accuracy: 0.9438 - loss: 2.6652 - val_accuracy: 0.9764 - val_loss: 2.5694 - learning_rate: 1.0000e-04\n",
            "Epoch 33/50\n",
            "\u001b[1m199/199\u001b[0m \u001b[32m━━━━━━━━━━━━━━━━━━━━\u001b[0m\u001b[37m\u001b[0m \u001b[1m0s\u001b[0m 819ms/step - accuracy: 0.9437 - loss: 2.6486\n",
            "Epoch 33: val_accuracy did not improve from 0.97643\n",
            "\u001b[1m199/199\u001b[0m \u001b[32m━━━━━━━━━━━━━━━━━━━━\u001b[0m\u001b[37m\u001b[0m \u001b[1m198s\u001b[0m 871ms/step - accuracy: 0.9436 - loss: 2.6486 - val_accuracy: 0.9764 - val_loss: 2.5472 - learning_rate: 1.0000e-04\n",
            "Epoch 34/50\n",
            "\u001b[1m199/199\u001b[0m \u001b[32m━━━━━━━━━━━━━━━━━━━━\u001b[0m\u001b[37m\u001b[0m \u001b[1m0s\u001b[0m 821ms/step - accuracy: 0.9423 - loss: 2.6241\n",
            "Epoch 34: val_accuracy improved from 0.97643 to 0.97980, saving model to /content/drive/MyDrive/final project/modified augmented model/EfficientNetB2_34-0.98.keras\n",
            "\u001b[1m199/199\u001b[0m \u001b[32m━━━━━━━━━━━━━━━━━━━━\u001b[0m\u001b[37m\u001b[0m \u001b[1m200s\u001b[0m 866ms/step - accuracy: 0.9423 - loss: 2.6241 - val_accuracy: 0.9798 - val_loss: 2.5264 - learning_rate: 1.0000e-04\n",
            "Epoch 35/50\n",
            "\u001b[1m199/199\u001b[0m \u001b[32m━━━━━━━━━━━━━━━━━━━━\u001b[0m\u001b[37m\u001b[0m \u001b[1m0s\u001b[0m 837ms/step - accuracy: 0.9389 - loss: 2.6055\n",
            "Epoch 35: val_accuracy did not improve from 0.97980\n",
            "\u001b[1m199/199\u001b[0m \u001b[32m━━━━━━━━━━━━━━━━━━━━\u001b[0m\u001b[37m\u001b[0m \u001b[1m204s\u001b[0m 874ms/step - accuracy: 0.9389 - loss: 2.6055 - val_accuracy: 0.9798 - val_loss: 2.5052 - learning_rate: 1.0000e-04\n",
            "Epoch 36/50\n",
            "\u001b[1m199/199\u001b[0m \u001b[32m━━━━━━━━━━━━━━━━━━━━\u001b[0m\u001b[37m\u001b[0m \u001b[1m0s\u001b[0m 839ms/step - accuracy: 0.9499 - loss: 2.5693\n",
            "Epoch 36: val_accuracy did not improve from 0.97980\n",
            "\u001b[1m199/199\u001b[0m \u001b[32m━━━━━━━━━━━━━━━━━━━━\u001b[0m\u001b[37m\u001b[0m \u001b[1m204s\u001b[0m 879ms/step - accuracy: 0.9499 - loss: 2.5693 - val_accuracy: 0.9798 - val_loss: 2.4840 - learning_rate: 1.0000e-04\n",
            "Epoch 37/50\n",
            "\u001b[1m199/199\u001b[0m \u001b[32m━━━━━━━━━━━━━━━━━━━━\u001b[0m\u001b[37m\u001b[0m \u001b[1m0s\u001b[0m 838ms/step - accuracy: 0.9457 - loss: 2.5621\n",
            "Epoch 37: val_accuracy did not improve from 0.97980\n",
            "\u001b[1m199/199\u001b[0m \u001b[32m━━━━━━━━━━━━━━━━━━━━\u001b[0m\u001b[37m\u001b[0m \u001b[1m203s\u001b[0m 891ms/step - accuracy: 0.9457 - loss: 2.5621 - val_accuracy: 0.9798 - val_loss: 2.4631 - learning_rate: 1.0000e-04\n",
            "Epoch 38/50\n",
            "\u001b[1m199/199\u001b[0m \u001b[32m━━━━━━━━━━━━━━━━━━━━\u001b[0m\u001b[37m\u001b[0m \u001b[1m0s\u001b[0m 853ms/step - accuracy: 0.9449 - loss: 2.5388\n",
            "Epoch 38: val_accuracy did not improve from 0.97980\n",
            "\u001b[1m199/199\u001b[0m \u001b[32m━━━━━━━━━━━━━━━━━━━━\u001b[0m\u001b[37m\u001b[0m \u001b[1m201s\u001b[0m 888ms/step - accuracy: 0.9449 - loss: 2.5387 - val_accuracy: 0.9798 - val_loss: 2.4430 - learning_rate: 1.0000e-04\n",
            "Epoch 39/50\n",
            "\u001b[1m199/199\u001b[0m \u001b[32m━━━━━━━━━━━━━━━━━━━━\u001b[0m\u001b[37m\u001b[0m \u001b[1m0s\u001b[0m 848ms/step - accuracy: 0.9555 - loss: 2.5047\n",
            "Epoch 39: val_accuracy did not improve from 0.97980\n",
            "\u001b[1m199/199\u001b[0m \u001b[32m━━━━━━━━━━━━━━━━━━━━\u001b[0m\u001b[37m\u001b[0m \u001b[1m205s\u001b[0m 900ms/step - accuracy: 0.9555 - loss: 2.5047 - val_accuracy: 0.9798 - val_loss: 2.4231 - learning_rate: 1.0000e-04\n",
            "Epoch 40/50\n",
            "\u001b[1m199/199\u001b[0m \u001b[32m━━━━━━━━━━━━━━━━━━━━\u001b[0m\u001b[37m\u001b[0m \u001b[1m0s\u001b[0m 853ms/step - accuracy: 0.9485 - loss: 2.4957\n",
            "Epoch 40: val_accuracy improved from 0.97980 to 0.98316, saving model to /content/drive/MyDrive/final project/modified augmented model/EfficientNetB2_40-0.98.keras\n",
            "\u001b[1m199/199\u001b[0m \u001b[32m━━━━━━━━━━━━━━━━━━━━\u001b[0m\u001b[37m\u001b[0m \u001b[1m205s\u001b[0m 910ms/step - accuracy: 0.9485 - loss: 2.4956 - val_accuracy: 0.9832 - val_loss: 2.4024 - learning_rate: 1.0000e-04\n",
            "Epoch 41/50\n",
            "\u001b[1m199/199\u001b[0m \u001b[32m━━━━━━━━━━━━━━━━━━━━\u001b[0m\u001b[37m\u001b[0m \u001b[1m0s\u001b[0m 851ms/step - accuracy: 0.9527 - loss: 2.4676\n",
            "Epoch 41: val_accuracy did not improve from 0.98316\n",
            "\u001b[1m199/199\u001b[0m \u001b[32m━━━━━━━━━━━━━━━━━━━━\u001b[0m\u001b[37m\u001b[0m \u001b[1m198s\u001b[0m 892ms/step - accuracy: 0.9528 - loss: 2.4676 - val_accuracy: 0.9832 - val_loss: 2.3816 - learning_rate: 1.0000e-04\n",
            "Epoch 42/50\n",
            "\u001b[1m199/199\u001b[0m \u001b[32m━━━━━━━━━━━━━━━━━━━━\u001b[0m\u001b[37m\u001b[0m \u001b[1m0s\u001b[0m 857ms/step - accuracy: 0.9459 - loss: 2.4693\n",
            "Epoch 42: val_accuracy did not improve from 0.98316\n",
            "\u001b[1m199/199\u001b[0m \u001b[32m━━━━━━━━━━━━━━━━━━━━\u001b[0m\u001b[37m\u001b[0m \u001b[1m184s\u001b[0m 897ms/step - accuracy: 0.9459 - loss: 2.4693 - val_accuracy: 0.9832 - val_loss: 2.3624 - learning_rate: 1.0000e-04\n",
            "Epoch 43/50\n",
            "\u001b[1m199/199\u001b[0m \u001b[32m━━━━━━━━━━━━━━━━━━━━\u001b[0m\u001b[37m\u001b[0m \u001b[1m0s\u001b[0m 854ms/step - accuracy: 0.9540 - loss: 2.4288\n",
            "Epoch 43: val_accuracy improved from 0.98316 to 0.98653, saving model to /content/drive/MyDrive/final project/modified augmented model/EfficientNetB2_43-0.99.keras\n",
            "\u001b[1m199/199\u001b[0m \u001b[32m━━━━━━━━━━━━━━━━━━━━\u001b[0m\u001b[37m\u001b[0m \u001b[1m183s\u001b[0m 893ms/step - accuracy: 0.9540 - loss: 2.4288 - val_accuracy: 0.9865 - val_loss: 2.3417 - learning_rate: 1.0000e-04\n",
            "Epoch 44/50\n",
            "\u001b[1m199/199\u001b[0m \u001b[32m━━━━━━━━━━━━━━━━━━━━\u001b[0m\u001b[37m\u001b[0m \u001b[1m0s\u001b[0m 867ms/step - accuracy: 0.9538 - loss: 2.4093\n",
            "Epoch 44: val_accuracy improved from 0.98653 to 0.98990, saving model to /content/drive/MyDrive/final project/modified augmented model/EfficientNetB2_44-0.99.keras\n",
            "\u001b[1m199/199\u001b[0m \u001b[32m━━━━━━━━━━━━━━━━━━━━\u001b[0m\u001b[37m\u001b[0m \u001b[1m187s\u001b[0m 906ms/step - accuracy: 0.9538 - loss: 2.4092 - val_accuracy: 0.9899 - val_loss: 2.3213 - learning_rate: 1.0000e-04\n",
            "Epoch 45/50\n",
            "\u001b[1m199/199\u001b[0m \u001b[32m━━━━━━━━━━━━━━━━━━━━\u001b[0m\u001b[37m\u001b[0m \u001b[1m0s\u001b[0m 863ms/step - accuracy: 0.9556 - loss: 2.3941\n",
            "Epoch 45: val_accuracy did not improve from 0.98990\n",
            "\u001b[1m199/199\u001b[0m \u001b[32m━━━━━━━━━━━━━━━━━━━━\u001b[0m\u001b[37m\u001b[0m \u001b[1m186s\u001b[0m 901ms/step - accuracy: 0.9556 - loss: 2.3941 - val_accuracy: 0.9899 - val_loss: 2.3024 - learning_rate: 1.0000e-04\n",
            "Epoch 46/50\n",
            "\u001b[1m199/199\u001b[0m \u001b[32m━━━━━━━━━━━━━━━━━━━━\u001b[0m\u001b[37m\u001b[0m \u001b[1m0s\u001b[0m 865ms/step - accuracy: 0.9515 - loss: 2.3778\n",
            "Epoch 46: val_accuracy did not improve from 0.98990\n",
            "\u001b[1m199/199\u001b[0m \u001b[32m━━━━━━━━━━━━━━━━━━━━\u001b[0m\u001b[37m\u001b[0m \u001b[1m202s\u001b[0m 901ms/step - accuracy: 0.9515 - loss: 2.3777 - val_accuracy: 0.9899 - val_loss: 2.2833 - learning_rate: 1.0000e-04\n",
            "Epoch 47/50\n",
            "\u001b[1m199/199\u001b[0m \u001b[32m━━━━━━━━━━━━━━━━━━━━\u001b[0m\u001b[37m\u001b[0m \u001b[1m0s\u001b[0m 864ms/step - accuracy: 0.9573 - loss: 2.3481\n",
            "Epoch 47: val_accuracy did not improve from 0.98990\n",
            "\u001b[1m199/199\u001b[0m \u001b[32m━━━━━━━━━━━━━━━━━━━━\u001b[0m\u001b[37m\u001b[0m \u001b[1m201s\u001b[0m 899ms/step - accuracy: 0.9572 - loss: 2.3481 - val_accuracy: 0.9899 - val_loss: 2.2642 - learning_rate: 1.0000e-04\n",
            "Epoch 48/50\n",
            "\u001b[1m199/199\u001b[0m \u001b[32m━━━━━━━━━━━━━━━━━━━━\u001b[0m\u001b[37m\u001b[0m \u001b[1m0s\u001b[0m 873ms/step - accuracy: 0.9485 - loss: 2.3402\n",
            "Epoch 48: val_accuracy did not improve from 0.98990\n",
            "\u001b[1m199/199\u001b[0m \u001b[32m━━━━━━━━━━━━━━━━━━━━\u001b[0m\u001b[37m\u001b[0m \u001b[1m203s\u001b[0m 912ms/step - accuracy: 0.9486 - loss: 2.3402 - val_accuracy: 0.9899 - val_loss: 2.2458 - learning_rate: 1.0000e-04\n",
            "Epoch 49/50\n",
            "\u001b[1m199/199\u001b[0m \u001b[32m━━━━━━━━━━━━━━━━━━━━\u001b[0m\u001b[37m\u001b[0m \u001b[1m0s\u001b[0m 860ms/step - accuracy: 0.9484 - loss: 2.3262\n",
            "Epoch 49: val_accuracy did not improve from 0.98990\n",
            "\u001b[1m199/199\u001b[0m \u001b[32m━━━━━━━━━━━━━━━━━━━━\u001b[0m\u001b[37m\u001b[0m \u001b[1m184s\u001b[0m 895ms/step - accuracy: 0.9484 - loss: 2.3261 - val_accuracy: 0.9899 - val_loss: 2.2267 - learning_rate: 1.0000e-04\n",
            "Epoch 50/50\n",
            "\u001b[1m199/199\u001b[0m \u001b[32m━━━━━━━━━━━━━━━━━━━━\u001b[0m\u001b[37m\u001b[0m \u001b[1m0s\u001b[0m 873ms/step - accuracy: 0.9521 - loss: 2.3067\n",
            "Epoch 50: val_accuracy did not improve from 0.98990\n",
            "\u001b[1m199/199\u001b[0m \u001b[32m━━━━━━━━━━━━━━━━━━━━\u001b[0m\u001b[37m\u001b[0m \u001b[1m207s\u001b[0m 925ms/step - accuracy: 0.9521 - loss: 2.3067 - val_accuracy: 0.9899 - val_loss: 2.2088 - learning_rate: 1.0000e-04\n"
          ]
        },
        {
          "output_type": "stream",
          "name": "stderr",
          "text": [
            "WARNING:absl:You are saving your model as an HDF5 file via `model.save()` or `keras.saving.save_model(model)`. This file format is considered legacy. We recommend using instead the native Keras format, e.g. `model.save('my_model.keras')` or `keras.saving.save_model(model, 'my_model.keras')`. \n"
          ]
        }
      ],
      "source": [
        "# Define callbacks\n",
        "checkpoint_path = \"/content/drive/MyDrive/final project/modified augmented model/EfficientNetB2_{epoch:02d}-{val_accuracy:0.2f}.keras\"\n",
        "model_dir = \"/content/drive/MyDrive/final project/modified augmented model\"\n",
        "# ModelCheckpoint: Save best model based on val_accuracy\n",
        "checkpoint = ModelCheckpoint(\n",
        "    checkpoint_path,\n",
        "    monitor='val_accuracy',\n",
        "    verbose=1,\n",
        "    save_best_only=True,\n",
        "    mode='max'\n",
        ")\n",
        "\n",
        "from tensorflow.keras.callbacks import ReduceLROnPlateau\n",
        "\n",
        "early_stopping_monitor = EarlyStopping(monitor='val_loss',patience = 3,restore_best_weights=True)\n",
        "lr_scheduler = ReduceLROnPlateau(monitor='val_loss', factor=0.5, patience=3, min_lr=1e-6, verbose=1)\n",
        "# Train the model\n",
        "History = model.fit(\n",
        "    train_generator,\n",
        "    validation_data=validation_generator,\n",
        "    epochs=epochs,\n",
        "    callbacks=[checkpoint, early_stopping_monitor,lr_scheduler]\n",
        ")\n",
        "model.save('/content/drive/MyDrive/final project/modified augmented model/EfficientNetB2_best_model.h5')"
      ]
    },
    {
      "cell_type": "markdown",
      "metadata": {
        "id": "F9aR50ZCdP4u"
      },
      "source": [
        "# **History Plotting**"
      ]
    },
    {
      "cell_type": "code",
      "execution_count": null,
      "metadata": {
        "colab": {
          "base_uri": "https://localhost:8080/",
          "height": 607
        },
        "id": "irlKtp0pLy3N",
        "outputId": "3ef4cce6-5bab-4c4b-a456-209ddec598eb"
      },
      "outputs": [
        {
          "output_type": "display_data",
          "data": {
            "text/plain": [
              "<Figure size 1200x600 with 2 Axes>"
            ],
            "image/png": "[encoded data removed]"
          },
          "metadata": {}
        }
      ],
      "source": [
        "import matplotlib.pyplot as plt\n",
        "\n",
        "# Extract the training history\n",
        "history = History.history\n",
        "\n",
        "# Plot training & validation accuracy\n",
        "plt.figure(figsize=(12, 6))\n",
        "\n",
        "plt.subplot(1, 2, 1)\n",
        "plt.plot(history['accuracy'], label='Train Accuracy')\n",
        "plt.plot(history['val_accuracy'], label='Validation Accuracy')\n",
        "plt.title('Model Accuracy')\n",
        "plt.xlabel('Epochs')\n",
        "plt.ylabel('Accuracy')\n",
        "plt.legend()\n",
        "\n",
        "# Plot training & validation loss\n",
        "plt.subplot(1, 2, 2)\n",
        "plt.plot(history['loss'], label='Train Loss')\n",
        "plt.plot(history['val_loss'], label='Validation Loss')\n",
        "plt.title('Model Loss')\n",
        "plt.xlabel('Epochs')\n",
        "plt.ylabel('Loss')\n",
        "plt.legend()\n",
        "\n",
        "plt.tight_layout()\n",
        "plt.show()"
      ]
    },
    {
      "cell_type": "code",
      "execution_count": null,
      "metadata": {
        "colab": {
          "base_uri": "https://localhost:8080/"
        },
        "id": "2nFYB1A4M09u",
        "outputId": "4bbfc18b-a40d-4db9-843f-7bb5475411b3"
      },
      "outputs": [
        {
          "output_type": "stream",
          "name": "stdout",
          "text": [
            "Final Training Accuracy: 0.9499\n",
            "Final Validation Accuracy: 0.9899\n",
            "Final Training Loss: 2.3080\n",
            "Final Validation Loss: 2.2088\n"
          ]
        }
      ],
      "source": [
        "final_train_acc = History.history['accuracy'][-1]\n",
        "final_val_acc = History.history['val_accuracy'][-1]\n",
        "final_train_loss = History.history['loss'][-1]\n",
        "final_val_loss = History.history['val_loss'][-1]\n",
        "\n",
        "print(f\"Final Training Accuracy: {final_train_acc:.4f}\")\n",
        "print(f\"Final Validation Accuracy: {final_val_acc:.4f}\")\n",
        "print(f\"Final Training Loss: {final_train_loss:.4f}\")\n",
        "print(f\"Final Validation Loss: {final_val_loss:.4f}\")\n"
      ]
    },
    {
      "cell_type": "code",
      "execution_count": null,
      "metadata": {
        "id": "--osi_NzM4af"
      },
      "outputs": [],
      "source": [
        "if 'lr' in History.history:\n",
        "    plt.plot(History.history['lr'], label='Learning Rate')\n",
        "    plt.title('Learning Rate Over Epochs')\n",
        "    plt.xlabel('Epochs')\n",
        "    plt.ylabel('Learning Rate')\n",
        "    plt.legend()\n",
        "    plt.show()"
      ]
    },
    {
      "cell_type": "code",
      "execution_count": null,
      "metadata": {
        "colab": {
          "base_uri": "https://localhost:8080/"
        },
        "id": "yqyyTw4VM8Gw",
        "outputId": "1cd429af-3399-4e8a-89b2-97366c998aef"
      },
      "outputs": [
        {
          "output_type": "stream",
          "name": "stdout",
          "text": [
            "Training stopped at epoch: 50\n"
          ]
        }
      ],
      "source": [
        "print(f\"Training stopped at epoch: {len(History.history['loss'])}\")\n"
      ]
    },
    {
      "cell_type": "markdown",
      "metadata": {
        "id": "-lsXaEavddtj"
      },
      "source": [
        "# **History Saving**"
      ]
    },
    {
      "cell_type": "code",
      "execution_count": null,
      "metadata": {
        "colab": {
          "base_uri": "https://localhost:8080/"
        },
        "id": "PEToKlePM92F",
        "outputId": "71231c72-df6b-4418-94af-7bd04731b8a6"
      },
      "outputs": [
        {
          "output_type": "stream",
          "name": "stdout",
          "text": [
            "{'accuracy': [0.6377198696136475, 0.7401067614555359, 0.7837625741958618, 0.809202253818512, 0.8322864174842834, 0.8484610319137573, 0.8547424674034119, 0.8684045076370239, 0.8787688612937927, 0.8911746144294739, 0.8944723606109619, 0.8935301303863525, 0.8933731317520142, 0.9087625741958618, 0.9051507711410522, 0.9139447212219238, 0.9178705811500549, 0.9130024909973145, 0.9250942468643188, 0.9186557531356812, 0.9236809015274048, 0.9294912219047546, 0.9345163106918335, 0.9293341636657715, 0.9272927045822144, 0.9312185645103455, 0.9291771650314331, 0.9370288848876953, 0.9354585409164429, 0.9390703439712524, 0.9395414590835571, 0.9417399764060974, 0.9409547448158264, 0.9373429417610168, 0.9367148280143738, 0.9484924674034119, 0.9480213522911072, 0.945351779460907, 0.9517902135848999, 0.9489635825157166, 0.9543027877807617, 0.9448806643486023, 0.9532034993171692, 0.9544597864151001, 0.9522613286972046, 0.9508479833602905, 0.9532034993171692, 0.9535176157951355, 0.9530465006828308, 0.9499057531356812], 'loss': [4.002326965332031, 3.754168748855591, 3.645413398742676, 3.570852279663086, 3.499994993209839, 3.442307949066162, 3.3846046924591064, 3.344428062438965, 3.303424835205078, 3.2605538368225098, 3.2277626991271973, 3.199880361557007, 3.164827346801758, 3.118363380432129, 3.1057846546173096, 3.0766241550445557, 3.0416011810302734, 3.0252246856689453, 2.977827310562134, 2.9591314792633057, 2.9378585815429688, 2.9020237922668457, 2.8747246265411377, 2.8496968746185303, 2.8284292221069336, 2.807079315185547, 2.792630672454834, 2.7560060024261475, 2.7350757122039795, 2.7132506370544434, 2.6835973262786865, 2.664046049118042, 2.6451284885406494, 2.627631664276123, 2.609194040298462, 2.567272663116455, 2.55375075340271, 2.5331146717071533, 2.505523920059204, 2.4899556636810303, 2.4656784534454346, 2.4658560752868652, 2.4255945682525635, 2.403514862060547, 2.3954572677612305, 2.3724920749664307, 2.3485586643218994, 2.332461357116699, 2.319197654724121, 2.3080313205718994], 'val_accuracy': [0.8282828330993652, 0.8653198480606079, 0.8821548819541931, 0.8922559022903442, 0.8989899158477783, 0.9023569226264954, 0.9023569226264954, 0.9158248901367188, 0.9124578833580017, 0.932659924030304, 0.9292929172515869, 0.939393937587738, 0.9427609443664551, 0.9494949579238892, 0.9494949579238892, 0.9494949579238892, 0.9562289714813232, 0.9562289714813232, 0.9562289714813232, 0.9562289714813232, 0.9629629850387573, 0.9663299918174744, 0.9663299918174744, 0.9696969985961914, 0.9730639457702637, 0.9730639457702637, 0.9730639457702637, 0.9764309525489807, 0.9730639457702637, 0.9730639457702637, 0.9764309525489807, 0.9764309525489807, 0.9764309525489807, 0.9797979593276978, 0.9797979593276978, 0.9797979593276978, 0.9797979593276978, 0.9797979593276978, 0.9797979593276978, 0.9831649661064148, 0.9831649661064148, 0.9831649661064148, 0.9865319728851318, 0.9898989796638489, 0.9898989796638489, 0.9898989796638489, 0.9898989796638489, 0.9898989796638489, 0.9898989796638489, 0.9898989796638489], 'val_loss': [3.619558572769165, 3.458693742752075, 3.3902828693389893, 3.3420355319976807, 3.3024725914001465, 3.2650532722473145, 3.2307212352752686, 3.1971681118011475, 3.164573907852173, 3.131931781768799, 3.1029891967773438, 3.0736031532287598, 3.043214797973633, 3.0154340267181396, 2.9888603687286377, 2.961519956588745, 2.9353644847869873, 2.9082210063934326, 2.881373405456543, 2.8548378944396973, 2.8305609226226807, 2.80503511428833, 2.77978515625, 2.7546865940093994, 2.731616735458374, 2.707773447036743, 2.6838572025299072, 2.658865213394165, 2.6368956565856934, 2.6146559715270996, 2.592735767364502, 2.5693581104278564, 2.5471608638763428, 2.5263760089874268, 2.505178451538086, 2.4840149879455566, 2.463104486465454, 2.4430277347564697, 2.4230847358703613, 2.4023830890655518, 2.3815829753875732, 2.362384796142578, 2.3417067527770996, 2.3213276863098145, 2.302408456802368, 2.2832865715026855, 2.264163017272949, 2.2458202838897705, 2.2267417907714844, 2.208808422088623], 'learning_rate': [9.999999747378752e-05, 9.999999747378752e-05, 9.999999747378752e-05, 9.999999747378752e-05, 9.999999747378752e-05, 9.999999747378752e-05, 9.999999747378752e-05, 9.999999747378752e-05, 9.999999747378752e-05, 9.999999747378752e-05, 9.999999747378752e-05, 9.999999747378752e-05, 9.999999747378752e-05, 9.999999747378752e-05, 9.999999747378752e-05, 9.999999747378752e-05, 9.999999747378752e-05, 9.999999747378752e-05, 9.999999747378752e-05, 9.999999747378752e-05, 9.999999747378752e-05, 9.999999747378752e-05, 9.999999747378752e-05, 9.999999747378752e-05, 9.999999747378752e-05, 9.999999747378752e-05, 9.999999747378752e-05, 9.999999747378752e-05, 9.999999747378752e-05, 9.999999747378752e-05, 9.999999747378752e-05, 9.999999747378752e-05, 9.999999747378752e-05, 9.999999747378752e-05, 9.999999747378752e-05, 9.999999747378752e-05, 9.999999747378752e-05, 9.999999747378752e-05, 9.999999747378752e-05, 9.999999747378752e-05, 9.999999747378752e-05, 9.999999747378752e-05, 9.999999747378752e-05, 9.999999747378752e-05, 9.999999747378752e-05, 9.999999747378752e-05, 9.999999747378752e-05, 9.999999747378752e-05, 9.999999747378752e-05, 9.999999747378752e-05]}\n"
          ]
        }
      ],
      "source": [
        "import json\n",
        "\n",
        "# Save history to a JSON file on Google Drive\n",
        "with open(\"/content/drive/MyDrive/final project/modified augmented model/training_history.json\", \"w\") as f:\n",
        "    json.dump(History.history, f)\n",
        "\n",
        "# Load the history later\n",
        "with open(\"/content/drive/MyDrive/final project/modified augmented model/training_history.json\", \"r\") as f:\n",
        "    loaded_history = json.load(f)\n",
        "    print(loaded_history)"
      ]
    },
    {
      "cell_type": "markdown",
      "metadata": {
        "id": "LfRJ3N-ydkOn"
      },
      "source": [
        "# **Model Evaluation Using Test Data**"
      ]
    },
    {
      "cell_type": "code",
      "execution_count": null,
      "metadata": {
        "colab": {
          "base_uri": "https://localhost:8080/"
        },
        "id": "QaZYtwgHE8YV",
        "outputId": "f28b1ff2-5a51-477e-f7ae-d8feb39b8c28"
      },
      "outputs": [
        {
          "output_type": "stream",
          "name": "stderr",
          "text": [
            "WARNING:absl:Compiled the loaded model, but the compiled metrics have yet to be built. `model.compile_metrics` will be empty until you train or evaluate the model.\n"
          ]
        },
        {
          "output_type": "stream",
          "name": "stdout",
          "text": [
            "\u001b[1m12/12\u001b[0m \u001b[32m━━━━━━━━━━━━━━━━━━━━\u001b[0m\u001b[37m\u001b[0m \u001b[1m24s\u001b[0m 1s/step\n",
            "Confusion Matrix:\n",
            " [[184   1]\n",
            " [  4 184]]\n",
            "\n",
            "Classification Report:\n",
            "               precision    recall  f1-score   support\n",
            "\n",
            "     Healthy       0.98      0.99      0.99       185\n",
            "      Rotten       0.99      0.98      0.99       188\n",
            "\n",
            "    accuracy                           0.99       373\n",
            "   macro avg       0.99      0.99      0.99       373\n",
            "weighted avg       0.99      0.99      0.99       373\n",
            "\n",
            "\n",
            "Accuracy: 0.9865951742627346\n",
            "\n",
            "F1 Score: 0.9865951742627346\n"
          ]
        }
      ],
      "source": [
        "from sklearn.metrics import confusion_matrix, classification_report, f1_score, accuracy_score\n",
        "import numpy as np\n",
        "import tensorflow as tf\n",
        "checkpoint_path = '/content/drive/MyDrive/final project/modified augmented model/EfficientNetB2_best_model.h5'\n",
        "model = tf.keras.models.load_model(checkpoint_path)\n",
        "\n",
        "test_generator.reset()\n",
        "predictions = model.predict(test_generator, steps=len(test_generator), verbose=1)\n",
        "\n",
        "# Convert predictions to binary labels\n",
        "predicted_labels = np.where(predictions > 0.5, 1, 0).flatten()\n",
        "\n",
        "# Get the true labels\n",
        "true_labels = test_generator.classes\n",
        "\n",
        "# Confusion Matrix\n",
        "conf_matrix = confusion_matrix(true_labels, predicted_labels)\n",
        "print(\"Confusion Matrix:\\n\", conf_matrix)\n",
        "\n",
        "# Classification Report\n",
        "class_report = classification_report(true_labels, predicted_labels, target_names=['Healthy', 'Rotten'])\n",
        "print(\"\\nClassification Report:\\n\", class_report)\n",
        "\n",
        "# Accuracy Score\n",
        "accuracy = accuracy_score(true_labels, predicted_labels)\n",
        "print(\"\\nAccuracy:\", accuracy)\n",
        "\n",
        "# F1 Score\n",
        "f1 = f1_score(true_labels, predicted_labels)\n",
        "print(\"\\nF1 Score:\", f1)\n"
      ]
    },
    {
      "cell_type": "code",
      "execution_count": null,
      "metadata": {
        "colab": {
          "base_uri": "https://localhost:8080/"
        },
        "id": "yhoJ8dKm-Gse",
        "outputId": "f01e371d-871d-40f6-b6ff-835126993af9"
      },
      "outputs": [
        {
          "output_type": "stream",
          "name": "stdout",
          "text": [
            "Results saved to /content/drive/MyDrive/final project/modified augmented model/EfficientNetB2_results.txt\n"
          ]
        }
      ],
      "source": [
        "# Define where to save everything\n",
        "results_save_path = \"/content/drive/MyDrive/final project/modified augmented model/EfficientNetB2_results.txt\"\n",
        "conf_matrix_save_path = \"/content/drive/MyDrive/final project/modified augmented model/EfficientNetB2_confusion_matrix.png\"\n",
        "with open(results_save_path, \"w\") as file:\n",
        "    file.write(f\"Accuracy: {accuracy:.4f}\\n\")\n",
        "    file.write(f\"F1 Score: {f1:.4f}\\n\")\n",
        "    file.write(f\"classification Report:\\n {class_report}\\n\")\n",
        "    file.write(f\"Confusion Matrix:\\n{conf_matrix}\\n\")\n",
        "\n",
        "print(f\"Results saved to {results_save_path}\")"
      ]
    },
    {
      "cell_type": "code",
      "execution_count": null,
      "metadata": {
        "colab": {
          "base_uri": "https://localhost:8080/"
        },
        "id": "AEo7B46bFFX_",
        "outputId": "cf64c24b-0bde-44c6-f75e-10888076d83f"
      },
      "outputs": [
        {
          "output_type": "stream",
          "name": "stdout",
          "text": [
            "Confusion matrix saved to /content/drive/MyDrive/final project/modified augmented model/EfficientNetB2_confusion_matrix.png\n"
          ]
        }
      ],
      "source": [
        "import matplotlib.pyplot as plt  # Import the plotting library and assign it to the alias 'plt'\n",
        "import seaborn as sns\n",
        "# Plot confusion matrix\n",
        "plt.figure(figsize=(6, 6))\n",
        "sns.heatmap(conf_matrix, annot=True, fmt=\"d\", cmap=\"Blues\", xticklabels=[\"Healthy\", \"Rotten\"], yticklabels=[\"Healthy\", \"Rotten\"])\n",
        "plt.xlabel(\"Predicted Labels\")\n",
        "plt.ylabel(\"True Labels\")\n",
        "plt.title(\"Confusion Matrix\")\n",
        "\n",
        "# Save confusion matrix as an image\n",
        "plt.savefig(conf_matrix_save_path)\n",
        "print(f\"Confusion matrix saved to {conf_matrix_save_path}\")\n",
        "from IPython.display import Image\n",
        "Image(filename=conf_matrix_save_path)\n",
        "plt.close()  # Close the plot to free up memory"
      ]
    }
  ],
  "metadata": {
    "accelerator": "GPU",
    "colab": {
      "gpuType": "T4",
      "provenance": [],
      "include_colab_link": true
    },
    "kernelspec": {
      "display_name": "Python 3",
      "name": "python3"
    },
    "language_info": {
      "name": "python"
    }
  },
  "nbformat": 4,
  "nbformat_minor": 0
}
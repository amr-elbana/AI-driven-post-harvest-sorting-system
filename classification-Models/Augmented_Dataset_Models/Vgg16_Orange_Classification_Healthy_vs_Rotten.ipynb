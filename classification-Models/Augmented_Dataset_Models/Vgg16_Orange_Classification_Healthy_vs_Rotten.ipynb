{
  "cells": [
    {
      "cell_type": "markdown",
      "metadata": {
        "id": "view-in-github",
        "colab_type": "text"
      },
      "source": [
        "<a href=\"https://colab.research.google.com/github/amr-elbana/AI-driven-post-harvest-sorting-system/blob/main/classification-Models/Augmented_Dataset_Models/Vgg16_Orange_Classification_Healthy_vs_Rotten.ipynb\" target=\"_parent\"><img src=\"https://colab.research.google.com/assets/colab-badge.svg\" alt=\"Open In Colab\"/></a>"
      ]
    },
    {
      "cell_type": "code",
      "execution_count": 1,
      "metadata": {
        "colab": {
          "base_uri": "https://localhost:8080/"
        },
        "id": "iV_FZLbMlm-k",
        "outputId": "9d71fc57-6f47-41e4-86a6-9b0b1f4dcaf0"
      },
      "outputs": [
        {
          "output_type": "stream",
          "name": "stdout",
          "text": [
            "Mounted at /content/drive\n"
          ]
        }
      ],
      "source": [
        "from google.colab import drive\n",
        "drive.mount('/content/drive')"
      ]
    },
    {
      "cell_type": "code",
      "execution_count": 2,
      "metadata": {
        "id": "_DaHPav171SU"
      },
      "outputs": [],
      "source": [
        "import keras,os\n",
        "import numpy as np\n",
        "from keras.models import Sequential\n",
        "from keras.layers import Dense, Conv2D, MaxPool2D , Flatten\n",
        "from tensorflow.keras.preprocessing.image import ImageDataGenerator\n",
        "import tensorflow as tf\n",
        "from tensorflow.keras.applications.vgg16 import VGG16\n",
        "from tensorflow.keras.layers import Dense, Flatten, Dropout\n",
        "from tensorflow.keras.layers import Input, BatchNormalization\n",
        "from tensorflow.keras.regularizers import l2\n",
        "from tensorflow.keras.models import Model\n",
        "from tensorflow.keras.optimizers import Adam\n",
        "from tensorflow.keras.preprocessing.image import ImageDataGenerator\n",
        "from tensorflow.keras.applications.vgg16 import preprocess_input\n",
        "from tensorflow.keras.callbacks import ModelCheckpoint, EarlyStopping, ReduceLROnPlateau"
      ]
    },
    {
      "cell_type": "markdown",
      "metadata": {
        "id": "RO9_OnWDiCkg"
      },
      "source": [
        "\n",
        "# **Global Varibales For pathes**"
      ]
    },
    {
      "cell_type": "code",
      "execution_count": 3,
      "metadata": {
        "id": "C3goLDJpmP_A"
      },
      "outputs": [],
      "source": [
        "!cp -r \"/content/drive/MyDrive/Graduation Project/Dataset/Splitted dataset\" /content/data\n"
      ]
    },
    {
      "cell_type": "code",
      "execution_count": 7,
      "metadata": {
        "id": "x-F-14xYiB1B"
      },
      "outputs": [],
      "source": [
        "dataset_base_path = \"/content/data\"  # Store the base path\n",
        "model_save_path = \"/content/drive/MyDrive/Graduation Project/Trained Models/VGG16_Model/_FineTuning_VGG16_5_layers_more epochs\"\n",
        "final_model_path = os.path.join(model_save_path, \"Fine_Tuning_vgg16_best_model.keras\")\n",
        "history_file_path = os.path.join(model_save_path, \"training_history.json\")\n",
        "results_save_path = os.path.join(model_save_path, \"orange_vgg16_results.txt\")\n",
        "conf_matrix_save_path = os.path.join(model_save_path, \"orange_vgg16_confusion_matrix.png\")\n"
      ]
    },
    {
      "cell_type": "markdown",
      "metadata": {
        "id": "nmAz1KhYcAOj"
      },
      "source": [
        "# **DataSet**"
      ]
    },
    {
      "cell_type": "code",
      "execution_count": 8,
      "metadata": {
        "id": "Ky6_g65DUSgm"
      },
      "outputs": [],
      "source": [
        "# Define paths and constants\n",
        "data_dir = os.path.join(dataset_base_path, \"train-2\")\n",
        "val_dir = os.path.join(dataset_base_path, \"validation\")\n",
        "test_dir = os.path.join(dataset_base_path, \"test\")\n",
        "batch_size = 32\n",
        "target_size = (224, 224)\n",
        "epochs = 30"
      ]
    },
    {
      "cell_type": "code",
      "execution_count": 9,
      "metadata": {
        "id": "dIJNGZTjUXGz",
        "colab": {
          "base_uri": "https://localhost:8080/"
        },
        "outputId": "4bb156e8-1aa9-4725-a139-a9b03b0d14e2"
      },
      "outputs": [
        {
          "output_type": "stream",
          "name": "stdout",
          "text": [
            "Found 6368 images belonging to 2 classes.\n",
            "Found 297 images belonging to 2 classes.\n",
            "Training samples: 6368\n",
            "Validation samples: 297\n",
            "Training batches per epoch: 199\n",
            "Validation batches per epoch: 10\n"
          ]
        }
      ],
      "source": [
        "# Create an ImageDataGenerator with VGG16 preprocessing and data augmentation\n",
        "train_datagen = ImageDataGenerator(\n",
        "    preprocessing_function=preprocess_input,  # VGG16-specific preprocessing\n",
        "    rotation_range=20,\n",
        "    width_shift_range=0.2,\n",
        "    height_shift_range=0.2,\n",
        "    shear_range=0.2,\n",
        "    zoom_range=0.2,\n",
        "    horizontal_flip=True,\n",
        "    fill_mode='nearest'     # Fill in missing pixels using the nearest neighbor\n",
        ")\n",
        "\n",
        "# Flow training data from the directory and apply preprocessing and augmentation\n",
        "train_generator = train_datagen.flow_from_directory(\n",
        "    data_dir,\n",
        "    target_size=target_size,      # Resize images to VGG16 input size\n",
        "    batch_size=batch_size,\n",
        "    class_mode='binary',          # Binary classification (healthy vs rotten)\n",
        "    subset='training',            # Use 80% of data for training\n",
        "    seed=42,                      # Set seed for reproducibility\n",
        "    shuffle=True                  # Shuffle the data to improve training\n",
        ")\n",
        "\n",
        "# Create an ImageDataGenerator with VGG16 preprocessing and data augmentation\n",
        "validation_datagen = ImageDataGenerator(\n",
        "    preprocessing_function=preprocess_input,  # VGG16-specific preprocessing\n",
        ")\n",
        "\n",
        "# Flow validation data from the directory and apply preprocessing (no augmentation for validation)\n",
        "validation_generator = validation_datagen.flow_from_directory(\n",
        "    val_dir,\n",
        "    target_size=target_size,      # Resize images to VGG16 input size\n",
        "    batch_size=batch_size,\n",
        "    class_mode='binary',          # Binary classification (healthy vs rotten)          # Use 20% of data for validation\n",
        "    shuffle=False                 # No need to shuffle validation data\n",
        ")\n",
        "\n",
        "# ... (rest of the code remains the same)\n",
        "\n",
        "# Check the number of samples in each generator\n",
        "print(f\"Training samples: {train_generator.samples}\")\n",
        "print(f\"Validation samples: {validation_generator.samples}\")\n",
        "print(f\"Training batches per epoch: {len(train_generator)}\")\n",
        "print(f\"Validation batches per epoch: {len(validation_generator)}\")"
      ]
    },
    {
      "cell_type": "code",
      "execution_count": 10,
      "metadata": {
        "colab": {
          "base_uri": "https://localhost:8080/"
        },
        "id": "_vOZ0EYIlWMx",
        "outputId": "2027c602-a8c7-43a5-b508-7abe4acad9f2"
      },
      "outputs": [
        {
          "output_type": "stream",
          "name": "stdout",
          "text": [
            "Found 373 images belonging to 2 classes.\n",
            "Test samples: 373\n",
            "Test batches: 12\n"
          ]
        }
      ],
      "source": [
        "# Create an ImageDataGenerator for VGG16 preprocessing (no augmentation for the test set)\n",
        "test_datagen = ImageDataGenerator(\n",
        "    preprocessing_function=preprocess_input  # VGG16-specific preprocessing\n",
        ")\n",
        "\n",
        "# Flow data from the test directory and apply preprocessing\n",
        "test_generator = test_datagen.flow_from_directory(\n",
        "    test_dir,\n",
        "    target_size=(224, 224),  # VGG16 input size\n",
        "    batch_size=batch_size,\n",
        "    class_mode='binary',     # Binary classification for the test set\n",
        "    shuffle=False            # Do not shuffle test data to keep results consistent\n",
        ")\n",
        "\n",
        "# Check the number of samples in the test set\n",
        "print(f\"Test samples: {test_generator.samples}\")\n",
        "print(f\"Test batches: {len(test_generator)}\")"
      ]
    },
    {
      "cell_type": "markdown",
      "metadata": {
        "id": "VX4Mp5JYcPKP"
      },
      "source": [
        "# **Model Architecture**"
      ]
    },
    {
      "cell_type": "code",
      "execution_count": 13,
      "metadata": {
        "id": "xUo7vTHJBypu"
      },
      "outputs": [],
      "source": [
        "from tensorflow.keras.applications import VGG16\n",
        "from tensorflow.keras import layers, models\n",
        "from tensorflow.keras.optimizers import SGD\n",
        "from tensorflow.keras.regularizers import l2\n",
        "\n",
        "def create_model():\n",
        "    vgg16_base = VGG16(weights='imagenet', include_top=False, input_shape=(224, 224, 3))\n",
        "    vgg16_base.trainable = False  # Freeze all layers initially\n",
        "\n",
        "    # Add custom layers\n",
        "    inputs = layers.Input(shape=(224, 224, 3))\n",
        "    x = vgg16_base(inputs, training=False)\n",
        "    x = layers.GlobalAveragePooling2D()(x)\n",
        "    x = layers.Dense(256, activation='relu', kernel_regularizer=l2(0.001))(x)\n",
        "    x = layers.BatchNormalization()(x)\n",
        "    x = layers.Dropout(0.4)(x)\n",
        "    x = layers.Dense(256, activation='relu', kernel_regularizer=l2(0.001))(x)\n",
        "    x = layers.BatchNormalization()(x)\n",
        "    x = layers.Dropout(0.4)(x)\n",
        "    outputs = layers.Dense(1, activation='sigmoid')(x)\n",
        "\n",
        "    model = models.Model(inputs, outputs)\n",
        "\n",
        "    # Compile model\n",
        "    optimizer = SGD(learning_rate=0.001, momentum=0.9)\n",
        "    model.compile(optimizer=optimizer, loss=\"binary_crossentropy\", metrics=[\"accuracy\"])\n",
        "    model.summary()\n",
        "    return model\n"
      ]
    },
    {
      "cell_type": "markdown",
      "metadata": {
        "id": "UVjuz9YVccdV"
      },
      "source": [
        "# **Training**"
      ]
    },
    {
      "cell_type": "code",
      "execution_count": 15,
      "metadata": {
        "colab": {
          "base_uri": "https://localhost:8080/",
          "height": 1000
        },
        "id": "t0lXl3jLnUuR",
        "outputId": "18791c13-aefc-4cdc-d0a7-fa70bca1455c"
      },
      "outputs": [
        {
          "output_type": "stream",
          "name": "stdout",
          "text": [
            "Downloading data from https://storage.googleapis.com/tensorflow/keras-applications/vgg16/vgg16_weights_tf_dim_ordering_tf_kernels_notop.h5\n",
            "\u001b[1m58889256/58889256\u001b[0m \u001b[32m━━━━━━━━━━━━━━━━━━━━\u001b[0m\u001b[37m\u001b[0m \u001b[1m0s\u001b[0m 0us/step\n"
          ]
        },
        {
          "output_type": "display_data",
          "data": {
            "text/plain": [
              "\u001b[1mModel: \"functional\"\u001b[0m\n"
            ],
            "text/html": [
              "<pre style=\"white-space:pre;overflow-x:auto;line-height:normal;font-family:Menlo,'DejaVu Sans Mono',consolas,'Courier New',monospace\"><span style=\"font-weight: bold\">Model: \"functional\"</span>\n",
              "</pre>\n"
            ]
          },
          "metadata": {}
        },
        {
          "output_type": "display_data",
          "data": {
            "text/plain": [
              "┏━━━━━━━━━━━━━━━━━━━━━━━━━━━━━━━━━━━━━━┳━━━━━━━━━━━━━━━━━━━━━━━━━━━━━┳━━━━━━━━━━━━━━━━━┓\n",
              "┃\u001b[1m \u001b[0m\u001b[1mLayer (type)                        \u001b[0m\u001b[1m \u001b[0m┃\u001b[1m \u001b[0m\u001b[1mOutput Shape               \u001b[0m\u001b[1m \u001b[0m┃\u001b[1m \u001b[0m\u001b[1m        Param #\u001b[0m\u001b[1m \u001b[0m┃\n",
              "┡━━━━━━━━━━━━━━━━━━━━━━━━━━━━━━━━━━━━━━╇━━━━━━━━━━━━━━━━━━━━━━━━━━━━━╇━━━━━━━━━━━━━━━━━┩\n",
              "│ input_layer_1 (\u001b[38;5;33mInputLayer\u001b[0m)           │ (\u001b[38;5;45mNone\u001b[0m, \u001b[38;5;34m224\u001b[0m, \u001b[38;5;34m224\u001b[0m, \u001b[38;5;34m3\u001b[0m)         │               \u001b[38;5;34m0\u001b[0m │\n",
              "├──────────────────────────────────────┼─────────────────────────────┼─────────────────┤\n",
              "│ vgg16 (\u001b[38;5;33mFunctional\u001b[0m)                   │ (\u001b[38;5;45mNone\u001b[0m, \u001b[38;5;34m7\u001b[0m, \u001b[38;5;34m7\u001b[0m, \u001b[38;5;34m512\u001b[0m)           │      \u001b[38;5;34m14,714,688\u001b[0m │\n",
              "├──────────────────────────────────────┼─────────────────────────────┼─────────────────┤\n",
              "│ global_average_pooling2d             │ (\u001b[38;5;45mNone\u001b[0m, \u001b[38;5;34m512\u001b[0m)                 │               \u001b[38;5;34m0\u001b[0m │\n",
              "│ (\u001b[38;5;33mGlobalAveragePooling2D\u001b[0m)             │                             │                 │\n",
              "├──────────────────────────────────────┼─────────────────────────────┼─────────────────┤\n",
              "│ dense (\u001b[38;5;33mDense\u001b[0m)                        │ (\u001b[38;5;45mNone\u001b[0m, \u001b[38;5;34m256\u001b[0m)                 │         \u001b[38;5;34m131,328\u001b[0m │\n",
              "├──────────────────────────────────────┼─────────────────────────────┼─────────────────┤\n",
              "│ batch_normalization                  │ (\u001b[38;5;45mNone\u001b[0m, \u001b[38;5;34m256\u001b[0m)                 │           \u001b[38;5;34m1,024\u001b[0m │\n",
              "│ (\u001b[38;5;33mBatchNormalization\u001b[0m)                 │                             │                 │\n",
              "├──────────────────────────────────────┼─────────────────────────────┼─────────────────┤\n",
              "│ dropout (\u001b[38;5;33mDropout\u001b[0m)                    │ (\u001b[38;5;45mNone\u001b[0m, \u001b[38;5;34m256\u001b[0m)                 │               \u001b[38;5;34m0\u001b[0m │\n",
              "├──────────────────────────────────────┼─────────────────────────────┼─────────────────┤\n",
              "│ dense_1 (\u001b[38;5;33mDense\u001b[0m)                      │ (\u001b[38;5;45mNone\u001b[0m, \u001b[38;5;34m256\u001b[0m)                 │          \u001b[38;5;34m65,792\u001b[0m │\n",
              "├──────────────────────────────────────┼─────────────────────────────┼─────────────────┤\n",
              "│ batch_normalization_1                │ (\u001b[38;5;45mNone\u001b[0m, \u001b[38;5;34m256\u001b[0m)                 │           \u001b[38;5;34m1,024\u001b[0m │\n",
              "│ (\u001b[38;5;33mBatchNormalization\u001b[0m)                 │                             │                 │\n",
              "├──────────────────────────────────────┼─────────────────────────────┼─────────────────┤\n",
              "│ dropout_1 (\u001b[38;5;33mDropout\u001b[0m)                  │ (\u001b[38;5;45mNone\u001b[0m, \u001b[38;5;34m256\u001b[0m)                 │               \u001b[38;5;34m0\u001b[0m │\n",
              "├──────────────────────────────────────┼─────────────────────────────┼─────────────────┤\n",
              "│ dense_2 (\u001b[38;5;33mDense\u001b[0m)                      │ (\u001b[38;5;45mNone\u001b[0m, \u001b[38;5;34m1\u001b[0m)                   │             \u001b[38;5;34m257\u001b[0m │\n",
              "└──────────────────────────────────────┴─────────────────────────────┴─────────────────┘\n"
            ],
            "text/html": [
              "<pre style=\"white-space:pre;overflow-x:auto;line-height:normal;font-family:Menlo,'DejaVu Sans Mono',consolas,'Courier New',monospace\">┏━━━━━━━━━━━━━━━━━━━━━━━━━━━━━━━━━━━━━━┳━━━━━━━━━━━━━━━━━━━━━━━━━━━━━┳━━━━━━━━━━━━━━━━━┓\n",
              "┃<span style=\"font-weight: bold\"> Layer (type)                         </span>┃<span style=\"font-weight: bold\"> Output Shape                </span>┃<span style=\"font-weight: bold\">         Param # </span>┃\n",
              "┡━━━━━━━━━━━━━━━━━━━━━━━━━━━━━━━━━━━━━━╇━━━━━━━━━━━━━━━━━━━━━━━━━━━━━╇━━━━━━━━━━━━━━━━━┩\n",
              "│ input_layer_1 (<span style=\"color: #0087ff; text-decoration-color: #0087ff\">InputLayer</span>)           │ (<span style=\"color: #00d7ff; text-decoration-color: #00d7ff\">None</span>, <span style=\"color: #00af00; text-decoration-color: #00af00\">224</span>, <span style=\"color: #00af00; text-decoration-color: #00af00\">224</span>, <span style=\"color: #00af00; text-decoration-color: #00af00\">3</span>)         │               <span style=\"color: #00af00; text-decoration-color: #00af00\">0</span> │\n",
              "├──────────────────────────────────────┼─────────────────────────────┼─────────────────┤\n",
              "│ vgg16 (<span style=\"color: #0087ff; text-decoration-color: #0087ff\">Functional</span>)                   │ (<span style=\"color: #00d7ff; text-decoration-color: #00d7ff\">None</span>, <span style=\"color: #00af00; text-decoration-color: #00af00\">7</span>, <span style=\"color: #00af00; text-decoration-color: #00af00\">7</span>, <span style=\"color: #00af00; text-decoration-color: #00af00\">512</span>)           │      <span style=\"color: #00af00; text-decoration-color: #00af00\">14,714,688</span> │\n",
              "├──────────────────────────────────────┼─────────────────────────────┼─────────────────┤\n",
              "│ global_average_pooling2d             │ (<span style=\"color: #00d7ff; text-decoration-color: #00d7ff\">None</span>, <span style=\"color: #00af00; text-decoration-color: #00af00\">512</span>)                 │               <span style=\"color: #00af00; text-decoration-color: #00af00\">0</span> │\n",
              "│ (<span style=\"color: #0087ff; text-decoration-color: #0087ff\">GlobalAveragePooling2D</span>)             │                             │                 │\n",
              "├──────────────────────────────────────┼─────────────────────────────┼─────────────────┤\n",
              "│ dense (<span style=\"color: #0087ff; text-decoration-color: #0087ff\">Dense</span>)                        │ (<span style=\"color: #00d7ff; text-decoration-color: #00d7ff\">None</span>, <span style=\"color: #00af00; text-decoration-color: #00af00\">256</span>)                 │         <span style=\"color: #00af00; text-decoration-color: #00af00\">131,328</span> │\n",
              "├──────────────────────────────────────┼─────────────────────────────┼─────────────────┤\n",
              "│ batch_normalization                  │ (<span style=\"color: #00d7ff; text-decoration-color: #00d7ff\">None</span>, <span style=\"color: #00af00; text-decoration-color: #00af00\">256</span>)                 │           <span style=\"color: #00af00; text-decoration-color: #00af00\">1,024</span> │\n",
              "│ (<span style=\"color: #0087ff; text-decoration-color: #0087ff\">BatchNormalization</span>)                 │                             │                 │\n",
              "├──────────────────────────────────────┼─────────────────────────────┼─────────────────┤\n",
              "│ dropout (<span style=\"color: #0087ff; text-decoration-color: #0087ff\">Dropout</span>)                    │ (<span style=\"color: #00d7ff; text-decoration-color: #00d7ff\">None</span>, <span style=\"color: #00af00; text-decoration-color: #00af00\">256</span>)                 │               <span style=\"color: #00af00; text-decoration-color: #00af00\">0</span> │\n",
              "├──────────────────────────────────────┼─────────────────────────────┼─────────────────┤\n",
              "│ dense_1 (<span style=\"color: #0087ff; text-decoration-color: #0087ff\">Dense</span>)                      │ (<span style=\"color: #00d7ff; text-decoration-color: #00d7ff\">None</span>, <span style=\"color: #00af00; text-decoration-color: #00af00\">256</span>)                 │          <span style=\"color: #00af00; text-decoration-color: #00af00\">65,792</span> │\n",
              "├──────────────────────────────────────┼─────────────────────────────┼─────────────────┤\n",
              "│ batch_normalization_1                │ (<span style=\"color: #00d7ff; text-decoration-color: #00d7ff\">None</span>, <span style=\"color: #00af00; text-decoration-color: #00af00\">256</span>)                 │           <span style=\"color: #00af00; text-decoration-color: #00af00\">1,024</span> │\n",
              "│ (<span style=\"color: #0087ff; text-decoration-color: #0087ff\">BatchNormalization</span>)                 │                             │                 │\n",
              "├──────────────────────────────────────┼─────────────────────────────┼─────────────────┤\n",
              "│ dropout_1 (<span style=\"color: #0087ff; text-decoration-color: #0087ff\">Dropout</span>)                  │ (<span style=\"color: #00d7ff; text-decoration-color: #00d7ff\">None</span>, <span style=\"color: #00af00; text-decoration-color: #00af00\">256</span>)                 │               <span style=\"color: #00af00; text-decoration-color: #00af00\">0</span> │\n",
              "├──────────────────────────────────────┼─────────────────────────────┼─────────────────┤\n",
              "│ dense_2 (<span style=\"color: #0087ff; text-decoration-color: #0087ff\">Dense</span>)                      │ (<span style=\"color: #00d7ff; text-decoration-color: #00d7ff\">None</span>, <span style=\"color: #00af00; text-decoration-color: #00af00\">1</span>)                   │             <span style=\"color: #00af00; text-decoration-color: #00af00\">257</span> │\n",
              "└──────────────────────────────────────┴─────────────────────────────┴─────────────────┘\n",
              "</pre>\n"
            ]
          },
          "metadata": {}
        },
        {
          "output_type": "display_data",
          "data": {
            "text/plain": [
              "\u001b[1m Total params: \u001b[0m\u001b[38;5;34m14,914,113\u001b[0m (56.89 MB)\n"
            ],
            "text/html": [
              "<pre style=\"white-space:pre;overflow-x:auto;line-height:normal;font-family:Menlo,'DejaVu Sans Mono',consolas,'Courier New',monospace\"><span style=\"font-weight: bold\"> Total params: </span><span style=\"color: #00af00; text-decoration-color: #00af00\">14,914,113</span> (56.89 MB)\n",
              "</pre>\n"
            ]
          },
          "metadata": {}
        },
        {
          "output_type": "display_data",
          "data": {
            "text/plain": [
              "\u001b[1m Trainable params: \u001b[0m\u001b[38;5;34m198,401\u001b[0m (775.00 KB)\n"
            ],
            "text/html": [
              "<pre style=\"white-space:pre;overflow-x:auto;line-height:normal;font-family:Menlo,'DejaVu Sans Mono',consolas,'Courier New',monospace\"><span style=\"font-weight: bold\"> Trainable params: </span><span style=\"color: #00af00; text-decoration-color: #00af00\">198,401</span> (775.00 KB)\n",
              "</pre>\n"
            ]
          },
          "metadata": {}
        },
        {
          "output_type": "display_data",
          "data": {
            "text/plain": [
              "\u001b[1m Non-trainable params: \u001b[0m\u001b[38;5;34m14,715,712\u001b[0m (56.14 MB)\n"
            ],
            "text/html": [
              "<pre style=\"white-space:pre;overflow-x:auto;line-height:normal;font-family:Menlo,'DejaVu Sans Mono',consolas,'Courier New',monospace\"><span style=\"font-weight: bold\"> Non-trainable params: </span><span style=\"color: #00af00; text-decoration-color: #00af00\">14,715,712</span> (56.14 MB)\n",
              "</pre>\n"
            ]
          },
          "metadata": {}
        },
        {
          "output_type": "stream",
          "name": "stdout",
          "text": [
            "Epoch 1/30\n"
          ]
        },
        {
          "output_type": "stream",
          "name": "stderr",
          "text": [
            "/usr/local/lib/python3.10/dist-packages/keras/src/trainers/data_adapters/py_dataset_adapter.py:122: UserWarning: Your `PyDataset` class should call `super().__init__(**kwargs)` in its constructor. `**kwargs` can include `workers`, `use_multiprocessing`, `max_queue_size`. Do not pass these arguments to `fit()`, as they will be ignored.\n",
            "  self._warn_if_super_not_called()\n"
          ]
        },
        {
          "output_type": "stream",
          "name": "stdout",
          "text": [
            "\u001b[1m199/199\u001b[0m \u001b[32m━━━━━━━━━━━━━━━━━━━━\u001b[0m\u001b[37m\u001b[0m \u001b[1m0s\u001b[0m 750ms/step - accuracy: 0.7519 - loss: 1.1281\n",
            "Epoch 1: val_accuracy improved from -inf to 0.93939, saving model to /content/drive/MyDrive/Graduation Project/Trained Models/VGG16_Model/_FineTuning_VGG16_5_layers_more epochs/vgg16_01-0.94-0.7652.keras\n",
            "\u001b[1m199/199\u001b[0m \u001b[32m━━━━━━━━━━━━━━━━━━━━\u001b[0m\u001b[37m\u001b[0m \u001b[1m195s\u001b[0m 876ms/step - accuracy: 0.7523 - loss: 1.1273 - val_accuracy: 0.9394 - val_loss: 0.7652 - learning_rate: 0.0010\n",
            "Epoch 2/30\n",
            "\u001b[1m199/199\u001b[0m \u001b[32m━━━━━━━━━━━━━━━━━━━━\u001b[0m\u001b[37m\u001b[0m \u001b[1m0s\u001b[0m 741ms/step - accuracy: 0.9023 - loss: 0.8383\n",
            "Epoch 2: val_accuracy improved from 0.93939 to 0.94949, saving model to /content/drive/MyDrive/Graduation Project/Trained Models/VGG16_Model/_FineTuning_VGG16_5_layers_more epochs/vgg16_02-0.95-0.7540.keras\n",
            "\u001b[1m199/199\u001b[0m \u001b[32m━━━━━━━━━━━━━━━━━━━━\u001b[0m\u001b[37m\u001b[0m \u001b[1m160s\u001b[0m 771ms/step - accuracy: 0.9024 - loss: 0.8382 - val_accuracy: 0.9495 - val_loss: 0.7540 - learning_rate: 0.0010\n",
            "Epoch 3/30\n",
            "\u001b[1m199/199\u001b[0m \u001b[32m━━━━━━━━━━━━━━━━━━━━\u001b[0m\u001b[37m\u001b[0m \u001b[1m0s\u001b[0m 741ms/step - accuracy: 0.9342 - loss: 0.7614\n",
            "Epoch 3: val_accuracy improved from 0.94949 to 0.96296, saving model to /content/drive/MyDrive/Graduation Project/Trained Models/VGG16_Model/_FineTuning_VGG16_5_layers_more epochs/vgg16_03-0.96-0.6987.keras\n",
            "\u001b[1m199/199\u001b[0m \u001b[32m━━━━━━━━━━━━━━━━━━━━\u001b[0m\u001b[37m\u001b[0m \u001b[1m159s\u001b[0m 772ms/step - accuracy: 0.9342 - loss: 0.7614 - val_accuracy: 0.9630 - val_loss: 0.6987 - learning_rate: 0.0010\n",
            "Epoch 4/30\n",
            "\u001b[1m199/199\u001b[0m \u001b[32m━━━━━━━━━━━━━━━━━━━━\u001b[0m\u001b[37m\u001b[0m \u001b[1m0s\u001b[0m 739ms/step - accuracy: 0.9416 - loss: 0.7311\n",
            "Epoch 4: val_accuracy did not improve from 0.96296\n",
            "\u001b[1m199/199\u001b[0m \u001b[32m━━━━━━━━━━━━━━━━━━━━\u001b[0m\u001b[37m\u001b[0m \u001b[1m201s\u001b[0m 774ms/step - accuracy: 0.9416 - loss: 0.7311 - val_accuracy: 0.9630 - val_loss: 0.6960 - learning_rate: 0.0010\n",
            "Epoch 5/30\n",
            "\u001b[1m199/199\u001b[0m \u001b[32m━━━━━━━━━━━━━━━━━━━━\u001b[0m\u001b[37m\u001b[0m \u001b[1m0s\u001b[0m 745ms/step - accuracy: 0.9340 - loss: 0.7311\n",
            "Epoch 5: val_accuracy did not improve from 0.96296\n",
            "\u001b[1m199/199\u001b[0m \u001b[32m━━━━━━━━━━━━━━━━━━━━\u001b[0m\u001b[37m\u001b[0m \u001b[1m202s\u001b[0m 773ms/step - accuracy: 0.9340 - loss: 0.7310 - val_accuracy: 0.9630 - val_loss: 0.6549 - learning_rate: 0.0010\n",
            "Epoch 6/30\n",
            "\u001b[1m199/199\u001b[0m \u001b[32m━━━━━━━━━━━━━━━━━━━━\u001b[0m\u001b[37m\u001b[0m \u001b[1m0s\u001b[0m 734ms/step - accuracy: 0.9548 - loss: 0.7042\n",
            "Epoch 6: val_accuracy improved from 0.96296 to 0.96970, saving model to /content/drive/MyDrive/Graduation Project/Trained Models/VGG16_Model/_FineTuning_VGG16_5_layers_more epochs/vgg16_06-0.97-0.6534.keras\n",
            "\u001b[1m199/199\u001b[0m \u001b[32m━━━━━━━━━━━━━━━━━━━━\u001b[0m\u001b[37m\u001b[0m \u001b[1m163s\u001b[0m 788ms/step - accuracy: 0.9548 - loss: 0.7042 - val_accuracy: 0.9697 - val_loss: 0.6534 - learning_rate: 0.0010\n",
            "Epoch 7/30\n",
            "\u001b[1m199/199\u001b[0m \u001b[32m━━━━━━━━━━━━━━━━━━━━\u001b[0m\u001b[37m\u001b[0m \u001b[1m0s\u001b[0m 733ms/step - accuracy: 0.9500 - loss: 0.6952\n",
            "Epoch 7: val_accuracy improved from 0.96970 to 0.97643, saving model to /content/drive/MyDrive/Graduation Project/Trained Models/VGG16_Model/_FineTuning_VGG16_5_layers_more epochs/vgg16_07-0.98-0.6531.keras\n",
            "\u001b[1m199/199\u001b[0m \u001b[32m━━━━━━━━━━━━━━━━━━━━\u001b[0m\u001b[37m\u001b[0m \u001b[1m196s\u001b[0m 763ms/step - accuracy: 0.9500 - loss: 0.6952 - val_accuracy: 0.9764 - val_loss: 0.6531 - learning_rate: 0.0010\n",
            "Epoch 8/30\n",
            "\u001b[1m199/199\u001b[0m \u001b[32m━━━━━━━━━━━━━━━━━━━━\u001b[0m\u001b[37m\u001b[0m \u001b[1m0s\u001b[0m 737ms/step - accuracy: 0.9601 - loss: 0.6709\n",
            "Epoch 8: val_accuracy did not improve from 0.97643\n",
            "\u001b[1m199/199\u001b[0m \u001b[32m━━━━━━━━━━━━━━━━━━━━\u001b[0m\u001b[37m\u001b[0m \u001b[1m158s\u001b[0m 764ms/step - accuracy: 0.9601 - loss: 0.6709 - val_accuracy: 0.9731 - val_loss: 0.6351 - learning_rate: 0.0010\n",
            "Epoch 9/30\n",
            "\u001b[1m199/199\u001b[0m \u001b[32m━━━━━━━━━━━━━━━━━━━━\u001b[0m\u001b[37m\u001b[0m \u001b[1m0s\u001b[0m 744ms/step - accuracy: 0.9588 - loss: 0.6683\n",
            "Epoch 9: val_accuracy did not improve from 0.97643\n",
            "\u001b[1m199/199\u001b[0m \u001b[32m━━━━━━━━━━━━━━━━━━━━\u001b[0m\u001b[37m\u001b[0m \u001b[1m202s\u001b[0m 773ms/step - accuracy: 0.9588 - loss: 0.6683 - val_accuracy: 0.9663 - val_loss: 0.6298 - learning_rate: 0.0010\n",
            "Epoch 10/30\n",
            "\u001b[1m199/199\u001b[0m \u001b[32m━━━━━━━━━━━━━━━━━━━━\u001b[0m\u001b[37m\u001b[0m \u001b[1m0s\u001b[0m 726ms/step - accuracy: 0.9656 - loss: 0.6568\n",
            "Epoch 10: val_accuracy did not improve from 0.97643\n",
            "\u001b[1m199/199\u001b[0m \u001b[32m━━━━━━━━━━━━━━━━━━━━\u001b[0m\u001b[37m\u001b[0m \u001b[1m155s\u001b[0m 754ms/step - accuracy: 0.9656 - loss: 0.6568 - val_accuracy: 0.9731 - val_loss: 0.6294 - learning_rate: 0.0010\n",
            "Epoch 11/30\n",
            "\u001b[1m199/199\u001b[0m \u001b[32m━━━━━━━━━━━━━━━━━━━━\u001b[0m\u001b[37m\u001b[0m \u001b[1m0s\u001b[0m 741ms/step - accuracy: 0.9689 - loss: 0.6386\n",
            "Epoch 11: val_accuracy improved from 0.97643 to 0.97980, saving model to /content/drive/MyDrive/Graduation Project/Trained Models/VGG16_Model/_FineTuning_VGG16_5_layers_more epochs/vgg16_11-0.98-0.6240.keras\n",
            "\u001b[1m199/199\u001b[0m \u001b[32m━━━━━━━━━━━━━━━━━━━━\u001b[0m\u001b[37m\u001b[0m \u001b[1m205s\u001b[0m 771ms/step - accuracy: 0.9689 - loss: 0.6387 - val_accuracy: 0.9798 - val_loss: 0.6240 - learning_rate: 0.0010\n",
            "Epoch 12/30\n",
            "\u001b[1m199/199\u001b[0m \u001b[32m━━━━━━━━━━━━━━━━━━━━\u001b[0m\u001b[37m\u001b[0m \u001b[1m0s\u001b[0m 735ms/step - accuracy: 0.9626 - loss: 0.6442\n",
            "Epoch 12: val_accuracy did not improve from 0.97980\n",
            "\u001b[1m199/199\u001b[0m \u001b[32m━━━━━━━━━━━━━━━━━━━━\u001b[0m\u001b[37m\u001b[0m \u001b[1m158s\u001b[0m 763ms/step - accuracy: 0.9626 - loss: 0.6442 - val_accuracy: 0.9764 - val_loss: 0.6111 - learning_rate: 0.0010\n",
            "Epoch 13/30\n",
            "\u001b[1m199/199\u001b[0m \u001b[32m━━━━━━━━━━━━━━━━━━━━\u001b[0m\u001b[37m\u001b[0m \u001b[1m0s\u001b[0m 728ms/step - accuracy: 0.9640 - loss: 0.6370\n",
            "Epoch 13: val_accuracy did not improve from 0.97980\n",
            "\u001b[1m199/199\u001b[0m \u001b[32m━━━━━━━━━━━━━━━━━━━━\u001b[0m\u001b[37m\u001b[0m \u001b[1m161s\u001b[0m 780ms/step - accuracy: 0.9640 - loss: 0.6370 - val_accuracy: 0.9630 - val_loss: 0.6377 - learning_rate: 0.0010\n",
            "Epoch 14/30\n",
            "\u001b[1m199/199\u001b[0m \u001b[32m━━━━━━━━━━━━━━━━━━━━\u001b[0m\u001b[37m\u001b[0m \u001b[1m0s\u001b[0m 734ms/step - accuracy: 0.9698 - loss: 0.6241\n",
            "Epoch 14: val_accuracy did not improve from 0.97980\n",
            "\u001b[1m199/199\u001b[0m \u001b[32m━━━━━━━━━━━━━━━━━━━━\u001b[0m\u001b[37m\u001b[0m \u001b[1m198s\u001b[0m 763ms/step - accuracy: 0.9698 - loss: 0.6241 - val_accuracy: 0.9731 - val_loss: 0.6265 - learning_rate: 0.0010\n",
            "Epoch 15/30\n",
            "\u001b[1m199/199\u001b[0m \u001b[32m━━━━━━━━━━━━━━━━━━━━\u001b[0m\u001b[37m\u001b[0m \u001b[1m0s\u001b[0m 736ms/step - accuracy: 0.9706 - loss: 0.6258\n",
            "Epoch 15: val_accuracy did not improve from 0.97980\n",
            "\u001b[1m199/199\u001b[0m \u001b[32m━━━━━━━━━━━━━━━━━━━━\u001b[0m\u001b[37m\u001b[0m \u001b[1m158s\u001b[0m 764ms/step - accuracy: 0.9706 - loss: 0.6257 - val_accuracy: 0.9731 - val_loss: 0.5848 - learning_rate: 0.0010\n",
            "Epoch 16/30\n",
            "\u001b[1m199/199\u001b[0m \u001b[32m━━━━━━━━━━━━━━━━━━━━\u001b[0m\u001b[37m\u001b[0m \u001b[1m0s\u001b[0m 727ms/step - accuracy: 0.9719 - loss: 0.6121\n",
            "Epoch 16: val_accuracy did not improve from 0.97980\n",
            "\u001b[1m199/199\u001b[0m \u001b[32m━━━━━━━━━━━━━━━━━━━━\u001b[0m\u001b[37m\u001b[0m \u001b[1m156s\u001b[0m 755ms/step - accuracy: 0.9719 - loss: 0.6121 - val_accuracy: 0.9731 - val_loss: 0.5833 - learning_rate: 0.0010\n",
            "Epoch 17/30\n",
            "\u001b[1m199/199\u001b[0m \u001b[32m━━━━━━━━━━━━━━━━━━━━\u001b[0m\u001b[37m\u001b[0m \u001b[1m0s\u001b[0m 735ms/step - accuracy: 0.9682 - loss: 0.6164\n",
            "Epoch 17: val_accuracy did not improve from 0.97980\n",
            "\u001b[1m199/199\u001b[0m \u001b[32m━━━━━━━━━━━━━━━━━━━━\u001b[0m\u001b[37m\u001b[0m \u001b[1m203s\u001b[0m 763ms/step - accuracy: 0.9682 - loss: 0.6164 - val_accuracy: 0.9798 - val_loss: 0.5792 - learning_rate: 0.0010\n",
            "Epoch 18/30\n",
            "\u001b[1m199/199\u001b[0m \u001b[32m━━━━━━━━━━━━━━━━━━━━\u001b[0m\u001b[37m\u001b[0m \u001b[1m0s\u001b[0m 730ms/step - accuracy: 0.9735 - loss: 0.6003\n",
            "Epoch 18: val_accuracy did not improve from 0.97980\n",
            "\u001b[1m199/199\u001b[0m \u001b[32m━━━━━━━━━━━━━━━━━━━━\u001b[0m\u001b[37m\u001b[0m \u001b[1m157s\u001b[0m 758ms/step - accuracy: 0.9735 - loss: 0.6004 - val_accuracy: 0.9764 - val_loss: 0.5716 - learning_rate: 0.0010\n",
            "Epoch 19/30\n",
            "\u001b[1m199/199\u001b[0m \u001b[32m━━━━━━━━━━━━━━━━━━━━\u001b[0m\u001b[37m\u001b[0m \u001b[1m0s\u001b[0m 734ms/step - accuracy: 0.9693 - loss: 0.5982\n",
            "Epoch 19: val_accuracy did not improve from 0.97980\n",
            "\u001b[1m199/199\u001b[0m \u001b[32m━━━━━━━━━━━━━━━━━━━━\u001b[0m\u001b[37m\u001b[0m \u001b[1m158s\u001b[0m 765ms/step - accuracy: 0.9693 - loss: 0.5982 - val_accuracy: 0.9697 - val_loss: 0.5916 - learning_rate: 0.0010\n"
          ]
        }
      ],
      "source": [
        "from tensorflow.keras.callbacks import EarlyStopping, ModelCheckpoint, ReduceLROnPlateau\n",
        "\n",
        "# Define callbacks\n",
        "# checkpoint_path = \"/content/drive/MyDrive/Models/overfit_vgg16_{epoch:02d}-{val_accuracy:0.2f}.keras\"\n",
        "checkpoint_path = os.path.join(model_save_path, \"vgg16_{epoch:02d}-{val_accuracy:0.2f}-{val_loss:.4f}.keras\")\n",
        "\n",
        "checkpoint = ModelCheckpoint(\n",
        "    checkpoint_path,\n",
        "    monitor='val_accuracy',  # Save the best model based on validation accuracy\n",
        "    verbose=1,\n",
        "    save_best_only=True,\n",
        "    mode='max'\n",
        ")\n",
        "\n",
        "early_stopping_monitor = EarlyStopping(\n",
        "    monitor='val_accuracy',\n",
        "    patience=8,\n",
        "    restore_best_weights=True,\n",
        "    verbose=0\n",
        ")\n",
        "\n",
        "reduce_lr = ReduceLROnPlateau(\n",
        "    monitor='val_loss',  # Adjust learning rate if validation loss doesn't improve\n",
        "    factor=0.5,          # Reduce learning rate by a factor of 5\n",
        "    patience=5,          # Wait 5 epochs before reducing\n",
        "    min_lr=1e-6,         # Set a minimum learning rate\n",
        "    verbose=0\n",
        ")\n",
        "\n",
        "model = create_model()\n",
        "\n",
        "# Train the model with callbacks\n",
        "history = model.fit(\n",
        "    train_generator,\n",
        "    validation_data=validation_generator,\n",
        "    epochs=epochs,  # Set a sufficiently high number; EarlyStopping will handle stopping\n",
        "    callbacks=[checkpoint, early_stopping_monitor, reduce_lr]\n",
        ")\n",
        "# Save the final best model\n",
        "model.save(final_model_path)"
      ]
    },
    {
      "cell_type": "markdown",
      "metadata": {
        "id": "F9aR50ZCdP4u"
      },
      "source": [
        "# **History Plotting**"
      ]
    },
    {
      "cell_type": "code",
      "execution_count": 16,
      "metadata": {
        "colab": {
          "base_uri": "https://localhost:8080/",
          "height": 569
        },
        "id": "irlKtp0pLy3N",
        "outputId": "47f557a0-3b77-4915-9eb3-b1a56a4f47ef"
      },
      "outputs": [
        {
          "output_type": "display_data",
          "data": {
            "text/plain": [
              "<Figure size 1200x600 with 2 Axes>"
            ],
            "image/png": "[encoded data removed]"
          },
          "metadata": {}
        }
      ],
      "source": [
        "import matplotlib.pyplot as plt\n",
        "\n",
        "# Extract the training history\n",
        "history = history.history\n",
        "\n",
        "# Plot training & validation accuracy\n",
        "plt.figure(figsize=(12, 6))\n",
        "\n",
        "plt.subplot(1, 2, 1)\n",
        "plt.plot(history['accuracy'], label='Train Accuracy')\n",
        "plt.plot(history['val_accuracy'], label='Validation Accuracy')\n",
        "plt.title('Model Accuracy')\n",
        "plt.xlabel('Epochs')\n",
        "plt.ylabel('Accuracy')\n",
        "plt.legend()\n",
        "\n",
        "# Plot training & validation loss\n",
        "plt.subplot(1, 2, 2)\n",
        "plt.plot(history['loss'], label='Train Loss')\n",
        "plt.plot(history['val_loss'], label='Validation Loss')\n",
        "plt.title('Model Loss')\n",
        "plt.xlabel('Epochs')\n",
        "plt.ylabel('Loss')\n",
        "plt.legend()\n",
        "\n",
        "plt.tight_layout()\n",
        "plt.show()"
      ]
    },
    {
      "cell_type": "code",
      "execution_count": 17,
      "metadata": {
        "colab": {
          "base_uri": "https://localhost:8080/"
        },
        "id": "2nFYB1A4M09u",
        "outputId": "9fa93109-25f7-4503-ba58-6fbc7f0911ed"
      },
      "outputs": [
        {
          "output_type": "stream",
          "name": "stdout",
          "text": [
            "Final Training Accuracy: 0.9703\n",
            "Final Validation Accuracy: 0.9697\n",
            "Final Training Loss: 0.5974\n",
            "Final Validation Loss: 0.5916\n"
          ]
        }
      ],
      "source": [
        "final_train_acc = history['accuracy'][-1]\n",
        "final_val_acc = history['val_accuracy'][-1]\n",
        "final_train_loss = history['loss'][-1]\n",
        "final_val_loss = history['val_loss'][-1]\n",
        "\n",
        "print(f\"Final Training Accuracy: {final_train_acc:.4f}\")\n",
        "print(f\"Final Validation Accuracy: {final_val_acc:.4f}\")\n",
        "print(f\"Final Training Loss: {final_train_loss:.4f}\")\n",
        "print(f\"Final Validation Loss: {final_val_loss:.4f}\")"
      ]
    },
    {
      "cell_type": "code",
      "execution_count": 18,
      "metadata": {
        "id": "--osi_NzM4af"
      },
      "outputs": [],
      "source": [
        "if 'lr' in history:  # Remove .history as 'history' is already a dictionary\n",
        "    plt.plot(history['lr'], label='Learning Rate')\n",
        "    plt.title('Learning Rate Over Epochs')\n",
        "    plt.xlabel('Epochs')\n",
        "    plt.ylabel('Learning Rate')\n",
        "    plt.legend()\n",
        "    plt.show()"
      ]
    },
    {
      "cell_type": "code",
      "execution_count": 19,
      "metadata": {
        "colab": {
          "base_uri": "https://localhost:8080/"
        },
        "id": "yqyyTw4VM8Gw",
        "outputId": "25efe191-2451-4ff4-9669-1a6dae3c042c"
      },
      "outputs": [
        {
          "output_type": "stream",
          "name": "stdout",
          "text": [
            "Training stopped at epoch: 19\n"
          ]
        }
      ],
      "source": [
        "print(f\"Training stopped at epoch: {len(history['loss'])}\")"
      ]
    },
    {
      "cell_type": "markdown",
      "metadata": {
        "id": "-lsXaEavddtj"
      },
      "source": [
        "# **History Saving**"
      ]
    },
    {
      "cell_type": "code",
      "execution_count": 20,
      "metadata": {
        "colab": {
          "base_uri": "https://localhost:8080/"
        },
        "id": "PEToKlePM92F",
        "outputId": "8254afe7-0e18-4005-a255-072ee578e9dc"
      },
      "outputs": [
        {
          "output_type": "stream",
          "name": "stdout",
          "text": [
            "{'accuracy': [0.8322864174842834, 0.9101758599281311, 0.9367148280143738, 0.9414258599281311, 0.9409547448158264, 0.9528894424438477, 0.9554020166397095, 0.959013819694519, 0.9588567614555359, 0.9648241400718689, 0.9667085409164429, 0.9662374258041382, 0.9651381969451904, 0.9682788848876953, 0.9711055159568787, 0.9714195728302002, 0.9695351719856262, 0.9712625741958618, 0.9703203439712524], 'loss': [0.9697535037994385, 0.8179486989974976, 0.7601833343505859, 0.7287024259567261, 0.7188437581062317, 0.7041325569152832, 0.6848698258399963, 0.6741683483123779, 0.6697466969490051, 0.6535140872001648, 0.6439273357391357, 0.6376124024391174, 0.6366261839866638, 0.6243096590042114, 0.6190879344940186, 0.6162694692611694, 0.6113396286964417, 0.6036680340766907, 0.5974089503288269], 'val_accuracy': [0.939393937587738, 0.9494949579238892, 0.9629629850387573, 0.9629629850387573, 0.9629629850387573, 0.9696969985961914, 0.9764309525489807, 0.9730639457702637, 0.9663299918174744, 0.9730639457702637, 0.9797979593276978, 0.9764309525489807, 0.9629629850387573, 0.9730639457702637, 0.9730639457702637, 0.9730639457702637, 0.9797979593276978, 0.9764309525489807, 0.9696969985961914], 'val_loss': [0.7651824355125427, 0.7540226578712463, 0.6987062096595764, 0.6960105299949646, 0.6548807621002197, 0.6533857583999634, 0.6531094908714294, 0.6351450085639954, 0.6297845840454102, 0.6294325590133667, 0.6240280866622925, 0.6110859513282776, 0.6377248167991638, 0.6265491247177124, 0.5847825407981873, 0.5832895040512085, 0.5791961550712585, 0.5716087222099304, 0.591648519039154], 'learning_rate': [0.0010000000474974513, 0.0010000000474974513, 0.0010000000474974513, 0.0010000000474974513, 0.0010000000474974513, 0.0010000000474974513, 0.0010000000474974513, 0.0010000000474974513, 0.0010000000474974513, 0.0010000000474974513, 0.0010000000474974513, 0.0010000000474974513, 0.0010000000474974513, 0.0010000000474974513, 0.0010000000474974513, 0.0010000000474974513, 0.0010000000474974513, 0.0010000000474974513, 0.0010000000474974513]}\n"
          ]
        }
      ],
      "source": [
        "import json\n",
        "import os  # Import the os module\n",
        "\n",
        "history_file_path = os.path.join(model_save_path, \"training_history.json\")\n",
        "\n",
        "# Save history to a JSON file on Google Drive\n",
        "with open(history_file_path, \"w\") as f:\n",
        "    json.dump(history, f)  # Use 'history' instead of 'History.history'\n",
        "\n",
        "# Load the history later\n",
        "with open(history_file_path, \"r\") as f:\n",
        "    loaded_history = json.load(f)\n",
        "    print(loaded_history)"
      ]
    },
    {
      "cell_type": "markdown",
      "metadata": {
        "id": "LfRJ3N-ydkOn"
      },
      "source": [
        "# **Model Evaluation Using Test Data**"
      ]
    },
    {
      "cell_type": "code",
      "execution_count": 21,
      "metadata": {
        "id": "QaZYtwgHE8YV",
        "colab": {
          "base_uri": "https://localhost:8080/"
        },
        "outputId": "72578f2f-757b-4818-a315-c5677599f4d1"
      },
      "outputs": [
        {
          "output_type": "stream",
          "name": "stderr",
          "text": [
            "/usr/local/lib/python3.10/dist-packages/keras/src/trainers/data_adapters/py_dataset_adapter.py:122: UserWarning: Your `PyDataset` class should call `super().__init__(**kwargs)` in its constructor. `**kwargs` can include `workers`, `use_multiprocessing`, `max_queue_size`. Do not pass these arguments to `fit()`, as they will be ignored.\n",
            "  self._warn_if_super_not_called()\n"
          ]
        },
        {
          "output_type": "stream",
          "name": "stdout",
          "text": [
            "\u001b[1m12/12\u001b[0m \u001b[32m━━━━━━━━━━━━━━━━━━━━\u001b[0m\u001b[37m\u001b[0m \u001b[1m94s\u001b[0m 8s/step\n",
            "Confusion Matrix:\n",
            " [[184   1]\n",
            " [  3 185]]\n",
            "\n",
            "Classification Report:\n",
            "               precision    recall  f1-score   support\n",
            "\n",
            "     Healthy       0.98      0.99      0.99       185\n",
            "      Rotten       0.99      0.98      0.99       188\n",
            "\n",
            "    accuracy                           0.99       373\n",
            "   macro avg       0.99      0.99      0.99       373\n",
            "weighted avg       0.99      0.99      0.99       373\n",
            "\n",
            "\n",
            "Accuracy: 0.9892761394101877\n",
            "\n",
            "F1 Score: 0.9893048128342246\n"
          ]
        }
      ],
      "source": [
        "from sklearn.metrics import confusion_matrix, classification_report, f1_score, accuracy_score\n",
        "import numpy as np\n",
        "import tensorflow as tf\n",
        "model = tf.keras.models.load_model(final_model_path)\n",
        "\n",
        "test_generator.reset()\n",
        "predictions = model.predict(test_generator, steps=len(test_generator), verbose=1)\n",
        "\n",
        "# Convert predictions to binary labels\n",
        "predicted_labels = np.where(predictions > 0.5, 1, 0).flatten()\n",
        "\n",
        "# Get the true labels\n",
        "true_labels = test_generator.classes\n",
        "\n",
        "# Confusion Matrix\n",
        "conf_matrix = confusion_matrix(true_labels, predicted_labels)\n",
        "print(\"Confusion Matrix:\\n\", conf_matrix)\n",
        "\n",
        "# Classification Report\n",
        "class_report = classification_report(true_labels, predicted_labels, target_names=['Healthy', 'Rotten'])\n",
        "print(\"\\nClassification Report:\\n\", class_report)\n",
        "\n",
        "# Accuracy Score\n",
        "accuracy = accuracy_score(true_labels, predicted_labels)\n",
        "print(\"\\nAccuracy:\", accuracy)\n",
        "\n",
        "# F1 Score\n",
        "f1 = f1_score(true_labels, predicted_labels)\n",
        "print(\"\\nF1 Score:\", f1)\n"
      ]
    },
    {
      "cell_type": "code",
      "execution_count": 22,
      "metadata": {
        "id": "yhoJ8dKm-Gse",
        "colab": {
          "base_uri": "https://localhost:8080/"
        },
        "outputId": "1b030708-eecb-4601-8347-afce3a7af282"
      },
      "outputs": [
        {
          "output_type": "stream",
          "name": "stdout",
          "text": [
            "Results saved to /content/drive/MyDrive/Graduation Project/Trained Models/VGG16_Model/_FineTuning_VGG16_5_layers_more epochs/orange_vgg16_results.txt\n"
          ]
        }
      ],
      "source": [
        "# Define where to save everything\n",
        "with open(results_save_path, \"w\") as file:\n",
        "    file.write(f\"Accuracy: {accuracy:.4f}\\n\")\n",
        "    file.write(f\"F1 Score: {f1:.4f}\\n\")\n",
        "    file.write(f\"classification Report:\\n {class_report}\\n\")\n",
        "    file.write(f\"Confusion Matrix:\\n{conf_matrix}\\n\")\n",
        "\n",
        "print(f\"Results saved to {results_save_path}\")"
      ]
    },
    {
      "cell_type": "code",
      "execution_count": 23,
      "metadata": {
        "id": "AEo7B46bFFX_",
        "colab": {
          "base_uri": "https://localhost:8080/"
        },
        "outputId": "ee6e07de-c0b1-4808-d4ec-bb78ab6fe546"
      },
      "outputs": [
        {
          "output_type": "stream",
          "name": "stdout",
          "text": [
            "Confusion matrix saved to /content/drive/MyDrive/Graduation Project/Trained Models/VGG16_Model/_FineTuning_VGG16_5_layers_more epochs/orange_vgg16_confusion_matrix.png\n"
          ]
        }
      ],
      "source": [
        "import matplotlib.pyplot as plt  # Import the plotting library and assign it to the alias 'plt'\n",
        "import seaborn as sns\n",
        "# Plot confusion matrix\n",
        "plt.figure(figsize=(6, 6))\n",
        "sns.heatmap(conf_matrix, annot=True, fmt=\"d\", cmap=\"Blues\", xticklabels=[\"Healthy\", \"Rotten\"], yticklabels=[\"Healthy\", \"Rotten\"])\n",
        "plt.xlabel(\"Predicted Labels\")\n",
        "plt.ylabel(\"True Labels\")\n",
        "plt.title(\"Confusion Matrix\")\n",
        "\n",
        "# Save confusion matrix as an image\n",
        "plt.savefig(conf_matrix_save_path)\n",
        "print(f\"Confusion matrix saved to {conf_matrix_save_path}\")\n",
        "from IPython.display import Image\n",
        "Image(filename=conf_matrix_save_path)\n",
        "plt.close()  # Close the plot to free up memory"
      ]
    },
    {
      "cell_type": "code",
      "execution_count": null,
      "metadata": {
        "id": "AY-PzDZs-pZq"
      },
      "outputs": [],
      "source": [
        "import os\n",
        "os._exit(00)\n"
      ]
    }
  ],
  "metadata": {
    "accelerator": "GPU",
    "colab": {
      "gpuType": "T4",
      "provenance": [],
      "include_colab_link": true
    },
    "kernelspec": {
      "display_name": "Python 3",
      "name": "python3"
    },
    "language_info": {
      "name": "python"
    }
  },
  "nbformat": 4,
  "nbformat_minor": 0
}
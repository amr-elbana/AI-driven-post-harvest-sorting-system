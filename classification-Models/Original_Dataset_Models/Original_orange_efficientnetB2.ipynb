{
  "nbformat": 4,
  "nbformat_minor": 0,
  "metadata": {
    "colab": {
      "provenance": [],
      "gpuType": "T4",
      "include_colab_link": true
    },
    "kernelspec": {
      "name": "python3",
      "display_name": "Python 3"
    },
    "language_info": {
      "name": "python"
    },
    "accelerator": "GPU"
  },
  "cells": [
    {
      "cell_type": "markdown",
      "metadata": {
        "id": "view-in-github",
        "colab_type": "text"
      },
      "source": [
        "<a href=\"https://colab.research.google.com/github/amr-elbana/AI-driven-post-harvest-sorting-system/blob/Shahd-Efficientnet/Original_Dataset_Models/Original_orange_efficientnetB2.ipynb\" target=\"_parent\"><img src=\"https://colab.research.google.com/assets/colab-badge.svg\" alt=\"Open In Colab\"/></a>"
      ]
    },
    {
      "cell_type": "code",
      "execution_count": null,
      "metadata": {
        "colab": {
          "base_uri": "https://localhost:8080/"
        },
        "id": "XVJj1l0N3EDz",
        "outputId": "738cc99c-e353-4d8f-e9ae-f173292da047"
      },
      "outputs": [
        {
          "output_type": "stream",
          "name": "stdout",
          "text": [
            "Mounted at /content/drive\n"
          ]
        }
      ],
      "source": [
        "from google.colab import drive\n",
        "drive.mount('/content/drive')"
      ]
    },
    {
      "cell_type": "code",
      "source": [
        "import keras,os\n",
        "import numpy as np\n",
        "from keras.models import Sequential\n",
        "from keras.layers import Dense, Conv2D, MaxPool2D , Flatten\n",
        "from tensorflow.keras.preprocessing.image import ImageDataGenerator\n",
        "import tensorflow as tf\n",
        "from tensorflow.keras.layers import Dense, Flatten, Dropout\n",
        "from tensorflow.keras.layers import Input, BatchNormalization\n",
        "from tensorflow.keras.regularizers import l2\n",
        "from tensorflow.keras.models import Model\n",
        "from tensorflow.keras.optimizers import Adam\n",
        "from tensorflow.keras.preprocessing.image import ImageDataGenerator\n",
        "from tensorflow.keras.callbacks import ModelCheckpoint, EarlyStopping, ReduceLROnPlateau\n",
        "from tensorflow.keras.applications.efficientnet import preprocess_input, EfficientNetB2"
      ],
      "metadata": {
        "id": "2x7mYa8T3Yr5"
      },
      "execution_count": null,
      "outputs": []
    },
    {
      "cell_type": "code",
      "source": [],
      "metadata": {
        "id": "Ue1AeVU-61Ix"
      },
      "execution_count": null,
      "outputs": []
    },
    {
      "cell_type": "code",
      "source": [
        "# Define paths and constants\n",
        "data_dir = \"/content/drive/MyDrive/sh/final project/Original-Models/train\"\n",
        "test_dir = \"/content/drive/MyDrive/sh/final project/Original-Models/test\"\n",
        "batch_size = 32\n",
        "target_size = (224, 224)\n",
        "epochs = 30"
      ],
      "metadata": {
        "id": "F2k2Atad3Yt6"
      },
      "execution_count": null,
      "outputs": []
    },
    {
      "cell_type": "code",
      "source": [
        "# Create an ImageDataGenerator with EfficientNetB2 preprocessing and data augmentation\n",
        "train_datagen = ImageDataGenerator(\n",
        "    preprocessing_function=preprocess_input,  # EfficientNetB2-specific preprocessing\n",
        "    validation_split=0.2,  # Use 20% of data for validation\n",
        "    rotation_range=20,      # Randomly rotate images by up to 20 degrees\n",
        "    width_shift_range=0.2,   # Randomly shift images horizontally by up to 20% of the width\n",
        "    height_shift_range=0.2,  # Randomly shift images vertically by up to 20% of the height\n",
        "    shear_range=0.2,        # Randomly apply shearing transformations\n",
        "    zoom_range=0.2,         # Randomly zoom in or out on images\n",
        "    horizontal_flip=True,   # Randomly flip images horizontally\n",
        "    fill_mode='nearest'     # Fill in missing pixels using the nearest neighbor\n",
        ")\n",
        "\n",
        "# Flow training data from the directory and apply preprocessing and augmentation\n",
        "train_generator = train_datagen.flow_from_directory(\n",
        "    data_dir,\n",
        "    target_size=target_size,      # Resize images to EfficientNetB2 input size\n",
        "    batch_size=batch_size,\n",
        "    class_mode='binary',          # Binary classification (healthy vs rotten)\n",
        "    subset='training',            # Use 80% of data for training\n",
        "    seed=42,                      # Set seed for reproducibility\n",
        "    shuffle=True                  # Shuffle the data to improve training\n",
        ")\n",
        "\n",
        "# Flow validation data from the directory and apply preprocessing (no augmentation for validation)\n",
        "validation_generator = train_datagen.flow_from_directory(\n",
        "    data_dir,\n",
        "    target_size=target_size,      # Resize images to EfficientNetB2 input size\n",
        "    batch_size=batch_size,\n",
        "    class_mode='binary',          # Binary classification (healthy vs rotten)\n",
        "    subset='validation',          # Use 20% of data for validation\n",
        "    shuffle=False                 # No need to shuffle validation data\n",
        ")\n",
        "\n",
        "# ... (rest of the code remains the same)\n",
        "\n",
        "# Check the number of samples in each generator\n",
        "print(f\"Training samples: {train_generator.samples}\")\n",
        "print(f\"Validation samples: {validation_generator.samples}\")\n",
        "print(f\"Training batches per epoch: {len(train_generator)}\")\n",
        "print(f\"Validation batches per epoch: {len(validation_generator)}\")"
      ],
      "metadata": {
        "id": "GL-o86dK3YxJ",
        "colab": {
          "base_uri": "https://localhost:8080/"
        },
        "outputId": "e65bc7f4-fce9-46fd-d293-0792c88aa391"
      },
      "execution_count": null,
      "outputs": [
        {
          "output_type": "stream",
          "name": "stdout",
          "text": [
            "Found 1191 images belonging to 2 classes.\n",
            "Found 297 images belonging to 2 classes.\n",
            "Training samples: 1191\n",
            "Validation samples: 297\n",
            "Training batches per epoch: 38\n",
            "Validation batches per epoch: 10\n"
          ]
        }
      ]
    },
    {
      "cell_type": "code",
      "source": [
        "# Create an ImageDataGenerator for EfficientNetB2 preprocessing (no augmentation for the test set)\n",
        "test_datagen = ImageDataGenerator(\n",
        "    preprocessing_function=preprocess_input  # EfficientNetB2-specific preprocessing\n",
        ")\n",
        "\n",
        "# Flow data from the test directory and apply preprocessing\n",
        "test_generator = test_datagen.flow_from_directory(\n",
        "    test_dir,\n",
        "    target_size=(224, 224),  # efficientnetB2 input size\n",
        "    batch_size=batch_size,\n",
        "    class_mode='binary',     # Binary classification for the test set\n",
        "    shuffle=False            # Do not shuffle test data to keep results consistent\n",
        ")\n",
        "\n",
        "# Check the number of samples in the test set\n",
        "print(f\"Test samples: {test_generator.samples}\")\n",
        "print(f\"Test batches: {len(test_generator)}\")"
      ],
      "metadata": {
        "id": "17sLRFDF3YzQ",
        "colab": {
          "base_uri": "https://localhost:8080/"
        },
        "outputId": "e549127e-5780-444d-9237-a0a9166477ee"
      },
      "execution_count": null,
      "outputs": [
        {
          "output_type": "stream",
          "name": "stdout",
          "text": [
            "Found 373 images belonging to 2 classes.\n",
            "Test samples: 373\n",
            "Test batches: 12\n"
          ]
        }
      ]
    },
    {
      "cell_type": "code",
      "source": [
        "\"\"\"EfficientNetB2 is a functional model, and its layers are interdependent.\n",
        "Adding the entire model instead of individual layers ensures the integrity of its structure,\n",
        " preventing errors during training.\n",
        " Using GlobalAveragePooling2D further optimizes the architecture for the task.\"\"\"\n",
        "\n",
        "import os\n",
        "from tensorflow.keras.layers import GlobalAveragePooling2D\n",
        "def create_model():\n",
        "    # Load EfficientNetB2 model with pretrained weights, excluding the top (fully connected) layers\n",
        "    efficientnet_base = EfficientNetB2(weights='imagenet', include_top=False, input_shape=(224, 224, 3))\n",
        "\n",
        "    # Freeze the layers of EfficientNetB2 to retain the pre-trained weights\n",
        "    efficientnet_base.trainable = False\n",
        "\n",
        "    # Build the model\n",
        "    model = Sequential([\n",
        "        efficientnet_base,  # Add the entire base model\n",
        "        GlobalAveragePooling2D(),  # Use global pooling instead of Flatten, This is more efficient and typically used for pre-trained convolutional models.\n",
        "        Dense(256, activation='relu'),\n",
        "        Dropout(0.5),\n",
        "        Dense(256, activation='relu'),\n",
        "        Dropout(0.5),\n",
        "        Dense(1, activation='sigmoid')  # For binary classification\n",
        "    ])\n",
        "\n",
        "    # Compile the model\n",
        "    model.compile(optimizer=\"adam\", loss=\"binary_crossentropy\", metrics=[\"accuracy\"])\n",
        "    return model\n",
        "\n",
        "# Ensure the directory for checkpoints exists\n",
        "model_dir = \"/content/drive/MyDrive/sh/final project/Original-Models\"\n",
        "if not os.path.exists(model_dir):\n",
        "    os.makedirs(model_dir)\n",
        "\n",
        "# Define the model\n",
        "model = create_model()\n"
      ],
      "metadata": {
        "id": "ULa1TqKF3Y-2",
        "colab": {
          "base_uri": "https://localhost:8080/"
        },
        "outputId": "e0c38d7f-02ea-4878-e9a9-35a37a03c68a"
      },
      "execution_count": null,
      "outputs": [
        {
          "output_type": "stream",
          "name": "stdout",
          "text": [
            "Downloading data from https://storage.googleapis.com/keras-applications/efficientnetb2_notop.h5\n",
            "\u001b[1m31790344/31790344\u001b[0m \u001b[32m━━━━━━━━━━━━━━━━━━━━\u001b[0m\u001b[37m\u001b[0m \u001b[1m0s\u001b[0m 0us/step\n"
          ]
        }
      ]
    },
    {
      "cell_type": "code",
      "source": [
        "# Define callbacks\n",
        "checkpoint_path = \"/content/drive/MyDrive/sh/final project/Original-Models/EfficientNetB2_{epoch:02d}-{val_accuracy:0.2f}.keras\"\n",
        "model_dir = \"/content/drive/MyDrive/sh/final project/Original-Models\"\n",
        "# ModelCheckpoint: Save best model based on val_accuracy\n",
        "checkpoint = ModelCheckpoint(\n",
        "    checkpoint_path,\n",
        "    monitor='val_accuracy',\n",
        "    verbose=1,\n",
        "    save_best_only=True,\n",
        "    mode='max'\n",
        ")\n",
        "\n",
        "early_stopping_monitor = EarlyStopping(patience = 10)\n",
        "\n",
        "# Train the model\n",
        "History = model.fit(\n",
        "    train_generator,\n",
        "    validation_data=validation_generator,\n",
        "    epochs=epochs,\n",
        "    callbacks=[checkpoint, early_stopping_monitor]\n",
        ")\n",
        "model.save('/content/drive/MyDrive/sh/final project/Original-Models/EfficientNetB2_best_model.h5')"
      ],
      "metadata": {
        "id": "fD9xlqdg3ZAl",
        "colab": {
          "base_uri": "https://localhost:8080/"
        },
        "outputId": "10e2e95f-ddec-45e2-9036-8ca91f0845e4"
      },
      "execution_count": null,
      "outputs": [
        {
          "metadata": {
            "tags": null
          },
          "name": "stdout",
          "output_type": "stream",
          "text": [
            "Epoch 1/30\n"
          ]
        },
        {
          "metadata": {
            "tags": null
          },
          "name": "stderr",
          "output_type": "stream",
          "text": [
            "/usr/local/lib/python3.10/dist-packages/keras/src/trainers/data_adapters/py_dataset_adapter.py:122: UserWarning: Your `PyDataset` class should call `super().__init__(**kwargs)` in its constructor. `**kwargs` can include `workers`, `use_multiprocessing`, `max_queue_size`. Do not pass these arguments to `fit()`, as they will be ignored.\n",
            "  self._warn_if_super_not_called()\n"
          ]
        },
        {
          "output_type": "stream",
          "name": "stdout",
          "text": [
            "\u001b[1m38/38\u001b[0m \u001b[32m━━━━━━━━━━━━━━━━━━━━\u001b[0m\u001b[37m\u001b[0m \u001b[1m0s\u001b[0m 5s/step - accuracy: 0.8165 - loss: 0.3769\n",
            "Epoch 1: val_accuracy improved from -inf to 0.60943, saving model to /content/drive/MyDrive/sh/final project/Original-Models/EfficientNetB2_01-0.61.keras\n",
            "\u001b[1m38/38\u001b[0m \u001b[32m━━━━━━━━━━━━━━━━━━━━\u001b[0m\u001b[37m\u001b[0m \u001b[1m388s\u001b[0m 8s/step - accuracy: 0.8186 - loss: 0.3734 - val_accuracy: 0.6094 - val_loss: 1.4095\n",
            "Epoch 2/30\n",
            "\u001b[1m38/38\u001b[0m \u001b[32m━━━━━━━━━━━━━━━━━━━━\u001b[0m\u001b[37m\u001b[0m \u001b[1m0s\u001b[0m 858ms/step - accuracy: 0.9634 - loss: 0.1066\n",
            "Epoch 2: val_accuracy improved from 0.60943 to 0.63636, saving model to /content/drive/MyDrive/sh/final project/Original-Models/EfficientNetB2_02-0.64.keras\n",
            "\u001b[1m38/38\u001b[0m \u001b[32m━━━━━━━━━━━━━━━━━━━━\u001b[0m\u001b[37m\u001b[0m \u001b[1m60s\u001b[0m 1s/step - accuracy: 0.9633 - loss: 0.1066 - val_accuracy: 0.6364 - val_loss: 1.4844\n",
            "Epoch 3/30\n",
            "\u001b[1m38/38\u001b[0m \u001b[32m━━━━━━━━━━━━━━━━━━━━\u001b[0m\u001b[37m\u001b[0m \u001b[1m0s\u001b[0m 896ms/step - accuracy: 0.9787 - loss: 0.0704\n",
            "Epoch 3: val_accuracy did not improve from 0.63636\n",
            "\u001b[1m38/38\u001b[0m \u001b[32m━━━━━━━━━━━━━━━━━━━━\u001b[0m\u001b[37m\u001b[0m \u001b[1m57s\u001b[0m 1s/step - accuracy: 0.9786 - loss: 0.0707 - val_accuracy: 0.6229 - val_loss: 1.8822\n",
            "Epoch 4/30\n",
            "\u001b[1m38/38\u001b[0m \u001b[32m━━━━━━━━━━━━━━━━━━━━\u001b[0m\u001b[37m\u001b[0m \u001b[1m0s\u001b[0m 833ms/step - accuracy: 0.9846 - loss: 0.0443\n",
            "Epoch 4: val_accuracy did not improve from 0.63636\n",
            "\u001b[1m38/38\u001b[0m \u001b[32m━━━━━━━━━━━━━━━━━━━━\u001b[0m\u001b[37m\u001b[0m \u001b[1m80s\u001b[0m 1s/step - accuracy: 0.9845 - loss: 0.0445 - val_accuracy: 0.6162 - val_loss: 2.1291\n",
            "Epoch 5/30\n",
            "\u001b[1m38/38\u001b[0m \u001b[32m━━━━━━━━━━━━━━━━━━━━\u001b[0m\u001b[37m\u001b[0m \u001b[1m0s\u001b[0m 846ms/step - accuracy: 0.9770 - loss: 0.0682\n",
            "Epoch 5: val_accuracy improved from 0.63636 to 0.64310, saving model to /content/drive/MyDrive/sh/final project/Original-Models/EfficientNetB2_05-0.64.keras\n",
            "\u001b[1m38/38\u001b[0m \u001b[32m━━━━━━━━━━━━━━━━━━━━\u001b[0m\u001b[37m\u001b[0m \u001b[1m82s\u001b[0m 1s/step - accuracy: 0.9770 - loss: 0.0682 - val_accuracy: 0.6431 - val_loss: 1.6267\n",
            "Epoch 6/30\n",
            "\u001b[1m38/38\u001b[0m \u001b[32m━━━━━━━━━━━━━━━━━━━━\u001b[0m\u001b[37m\u001b[0m \u001b[1m0s\u001b[0m 911ms/step - accuracy: 0.9879 - loss: 0.0442\n",
            "Epoch 6: val_accuracy did not improve from 0.64310\n",
            "\u001b[1m38/38\u001b[0m \u001b[32m━━━━━━━━━━━━━━━━━━━━\u001b[0m\u001b[37m\u001b[0m \u001b[1m57s\u001b[0m 1s/step - accuracy: 0.9878 - loss: 0.0444 - val_accuracy: 0.6296 - val_loss: 1.8737\n",
            "Epoch 7/30\n",
            "\u001b[1m37/38\u001b[0m \u001b[32m━━━━━━━━━━━━━━━━━━━\u001b[0m\u001b[37m━\u001b[0m \u001b[1m0s\u001b[0m 842ms/step - accuracy: 0.9874 - loss: 0.0513\n",
            "Epoch 7: val_accuracy improved from 0.64310 to 0.68350, saving model to /content/drive/MyDrive/sh/final project/Original-Models/EfficientNetB2_07-0.68.keras\n",
            "\u001b[1m38/38\u001b[0m \u001b[32m━━━━━━━━━━━━━━━━━━━━\u001b[0m\u001b[37m\u001b[0m \u001b[1m55s\u001b[0m 1s/step - accuracy: 0.9875 - loss: 0.0508 - val_accuracy: 0.6835 - val_loss: 1.7618\n",
            "Epoch 8/30\n",
            "\u001b[1m38/38\u001b[0m \u001b[32m━━━━━━━━━━━━━━━━━━━━\u001b[0m\u001b[37m\u001b[0m \u001b[1m0s\u001b[0m 834ms/step - accuracy: 0.9832 - loss: 0.0499\n",
            "Epoch 8: val_accuracy did not improve from 0.68350\n",
            "\u001b[1m38/38\u001b[0m \u001b[32m━━━━━━━━━━━━━━━━━━━━\u001b[0m\u001b[37m\u001b[0m \u001b[1m54s\u001b[0m 1s/step - accuracy: 0.9832 - loss: 0.0500 - val_accuracy: 0.6734 - val_loss: 1.5081\n",
            "Epoch 9/30\n",
            "\u001b[1m37/38\u001b[0m \u001b[32m━━━━━━━━━━━━━━━━━━━\u001b[0m\u001b[37m━\u001b[0m \u001b[1m0s\u001b[0m 853ms/step - accuracy: 0.9908 - loss: 0.0280\n",
            "Epoch 9: val_accuracy improved from 0.68350 to 0.69697, saving model to /content/drive/MyDrive/sh/final project/Original-Models/EfficientNetB2_09-0.70.keras\n",
            "\u001b[1m38/38\u001b[0m \u001b[32m━━━━━━━━━━━━━━━━━━━━\u001b[0m\u001b[37m\u001b[0m \u001b[1m83s\u001b[0m 1s/step - accuracy: 0.9906 - loss: 0.0285 - val_accuracy: 0.6970 - val_loss: 1.5424\n",
            "Epoch 10/30\n",
            "\u001b[1m38/38\u001b[0m \u001b[32m━━━━━━━━━━━━━━━━━━━━\u001b[0m\u001b[37m\u001b[0m \u001b[1m0s\u001b[0m 905ms/step - accuracy: 0.9801 - loss: 0.0480\n",
            "Epoch 10: val_accuracy did not improve from 0.69697\n",
            "\u001b[1m38/38\u001b[0m \u001b[32m━━━━━━━━━━━━━━━━━━━━\u001b[0m\u001b[37m\u001b[0m \u001b[1m84s\u001b[0m 1s/step - accuracy: 0.9802 - loss: 0.0480 - val_accuracy: 0.6667 - val_loss: 1.7332\n",
            "Epoch 11/30\n",
            "\u001b[1m37/38\u001b[0m \u001b[32m━━━━━━━━━━━━━━━━━━━\u001b[0m\u001b[37m━\u001b[0m \u001b[1m0s\u001b[0m 855ms/step - accuracy: 0.9760 - loss: 0.0582\n",
            "Epoch 11: val_accuracy did not improve from 0.69697\n",
            "\u001b[1m38/38\u001b[0m \u001b[32m━━━━━━━━━━━━━━━━━━━━\u001b[0m\u001b[37m\u001b[0m \u001b[1m55s\u001b[0m 1s/step - accuracy: 0.9760 - loss: 0.0585 - val_accuracy: 0.6801 - val_loss: 1.8009\n"
          ]
        },
        {
          "output_type": "stream",
          "name": "stderr",
          "text": [
            "WARNING:absl:You are saving your model as an HDF5 file via `model.save()` or `keras.saving.save_model(model)`. This file format is considered legacy. We recommend using instead the native Keras format, e.g. `model.save('my_model.keras')` or `keras.saving.save_model(model, 'my_model.keras')`. \n"
          ]
        }
      ]
    },
    {
      "cell_type": "code",
      "source": [],
      "metadata": {
        "id": "xOt2n7M_3ZEt"
      },
      "execution_count": null,
      "outputs": []
    },
    {
      "cell_type": "code",
      "source": [
        "import matplotlib.pyplot as plt\n",
        "\n",
        "# Extract the training history\n",
        "history = History.history\n",
        "\n",
        "# Plot training & validation accuracy\n",
        "plt.figure(figsize=(12, 6))\n",
        "\n",
        "plt.subplot(1, 2, 1)\n",
        "plt.plot(history['accuracy'], label='Train Accuracy')\n",
        "plt.plot(history['val_accuracy'], label='Validation Accuracy')\n",
        "plt.title('Model Accuracy')\n",
        "plt.xlabel('Epochs')\n",
        "plt.ylabel('Accuracy')\n",
        "plt.legend()\n",
        "\n",
        "# Plot training & validation loss\n",
        "plt.subplot(1, 2, 2)\n",
        "plt.plot(history['loss'], label='Train Loss')\n",
        "plt.plot(history['val_loss'], label='Validation Loss')\n",
        "plt.title('Model Loss')\n",
        "plt.xlabel('Epochs')\n",
        "plt.ylabel('Loss')\n",
        "plt.legend()\n",
        "\n",
        "plt.tight_layout()\n",
        "plt.show()"
      ],
      "metadata": {
        "id": "cXawEAu03ZL_",
        "colab": {
          "base_uri": "https://localhost:8080/",
          "height": 607
        },
        "outputId": "8d8ba39a-f71f-42ef-f6aa-2f4872c49cba"
      },
      "execution_count": null,
      "outputs": [
        {
          "output_type": "display_data",
          "data": {
            "text/plain": [
              "<Figure size 1200x600 with 2 Axes>"
            ],
            "image/png": "[encoded data removed]"
          },
          "metadata": {}
        }
      ]
    },
    {
      "cell_type": "code",
      "source": [
        "final_train_acc = History.history['accuracy'][-1]\n",
        "final_val_acc = History.history['val_accuracy'][-1]\n",
        "final_train_loss = History.history['loss'][-1]\n",
        "final_val_loss = History.history['val_loss'][-1]\n",
        "\n",
        "print(f\"Final Training Accuracy: {final_train_acc:.4f}\")\n",
        "print(f\"Final Validation Accuracy: {final_val_acc:.4f}\")\n",
        "print(f\"Final Training Loss: {final_train_loss:.4f}\")\n",
        "print(f\"Final Validation Loss: {final_val_loss:.4f}\")\n"
      ],
      "metadata": {
        "id": "Z7_yH7oQ3ZVJ",
        "colab": {
          "base_uri": "https://localhost:8080/"
        },
        "outputId": "5265b2c3-53bc-4c1a-f41b-d9652b732f6c"
      },
      "execution_count": null,
      "outputs": [
        {
          "output_type": "stream",
          "name": "stdout",
          "text": [
            "Final Training Accuracy: 0.9765\n",
            "Final Validation Accuracy: 0.6801\n",
            "Final Training Loss: 0.0646\n",
            "Final Validation Loss: 1.8009\n"
          ]
        }
      ]
    },
    {
      "cell_type": "code",
      "source": [
        "if 'lr' in History.history:\n",
        "    plt.plot(History.history['lr'], label='Learning Rate')\n",
        "    plt.title('Learning Rate Over Epochs')\n",
        "    plt.xlabel('Epochs')\n",
        "    plt.ylabel('Learning Rate')\n",
        "    plt.legend()\n",
        "    plt.show()"
      ],
      "metadata": {
        "id": "YdRXjM8v4OBV"
      },
      "execution_count": null,
      "outputs": []
    },
    {
      "cell_type": "code",
      "source": [],
      "metadata": {
        "id": "WpWFIsWI4ONA"
      },
      "execution_count": null,
      "outputs": []
    },
    {
      "cell_type": "code",
      "source": [
        "import json\n",
        "\n",
        "# Save history to a JSON file on Google Drive\n",
        "with open(\"/content/drive/MyDrive/sh/final project/Original-Models/training_history.json\", \"w\") as f:\n",
        "    json.dump(History.history, f)\n",
        "\n",
        "# Load the history later\n",
        "with open(\"/content/drive/MyDrive/sh/final project/Original-Models/training_history.json\", \"r\") as f:\n",
        "    loaded_history = json.load(f)\n",
        "    print(loaded_history)"
      ],
      "metadata": {
        "id": "dyCzTb_Z4UNV",
        "colab": {
          "base_uri": "https://localhost:8080/"
        },
        "outputId": "edeae0a8-5627-4171-ba6f-5205dee73d85"
      },
      "execution_count": null,
      "outputs": [
        {
          "output_type": "stream",
          "name": "stdout",
          "text": [
            "{'accuracy': [0.8992443084716797, 0.9605373740196228, 0.973971426486969, 0.984046995639801, 0.976490318775177, 0.984046995639801, 0.9882451891899109, 0.982367753982544, 0.986565887928009, 0.981528103351593, 0.976490318775177], 'loss': [0.23973801732063293, 0.10635849833488464, 0.08199652284383774, 0.05088070407509804, 0.06723084300756454, 0.05159427598118782, 0.041338104754686356, 0.05295785889029503, 0.036345481872558594, 0.047406576573848724, 0.0645991712808609], 'val_accuracy': [0.6094276309013367, 0.6363636255264282, 0.6228955984115601, 0.6161616444587708, 0.6430976390838623, 0.6296296119689941, 0.683501660823822, 0.6734007000923157, 0.6969696879386902, 0.6666666865348816, 0.680134654045105], 'val_loss': [1.4094688892364502, 1.4844067096710205, 1.8822202682495117, 2.1290838718414307, 1.626688838005066, 1.8737447261810303, 1.7617559432983398, 1.5081474781036377, 1.5424273014068604, 1.7332484722137451, 1.8008965253829956]}\n"
          ]
        }
      ]
    },
    {
      "cell_type": "code",
      "source": [
        "from sklearn.metrics import confusion_matrix, classification_report, f1_score, accuracy_score\n",
        "import numpy as np\n",
        "import tensorflow as tf\n",
        "checkpoint_path = '/content/drive/MyDrive/sh/final project/Original-Models/EfficientNetB2_best_model.h5'\n",
        "model = tf.keras.models.load_model(checkpoint_path)\n",
        "\n",
        "test_generator.reset()\n",
        "predictions = model.predict(test_generator, steps=len(test_generator), verbose=1)\n",
        "\n",
        "# Convert predictions to binary labels\n",
        "predicted_labels = np.where(predictions > 0.5, 1, 0).flatten()\n",
        "\n",
        "# Get the true labels\n",
        "true_labels = test_generator.classes\n",
        "\n",
        "# Confusion Matrix\n",
        "conf_matrix = confusion_matrix(true_labels, predicted_labels)\n",
        "print(\"Confusion Matrix:\\n\", conf_matrix)\n",
        "\n",
        "# Classification Report\n",
        "class_report = classification_report(true_labels, predicted_labels, target_names=['Healthy', 'Rotten'])\n",
        "print(\"\\nClassification Report:\\n\", class_report)\n",
        "\n",
        "# Accuracy Score\n",
        "accuracy = accuracy_score(true_labels, predicted_labels)\n",
        "print(\"\\nAccuracy:\", accuracy)\n",
        "\n",
        "# F1 Score\n",
        "f1 = f1_score(true_labels, predicted_labels)\n",
        "print(\"\\nF1 Score:\", f1)\n"
      ],
      "metadata": {
        "id": "5PX8Crse4UOe",
        "colab": {
          "base_uri": "https://localhost:8080/"
        },
        "outputId": "9d654b3c-195a-4c70-c209-aab6e76465fd"
      },
      "execution_count": null,
      "outputs": [
        {
          "output_type": "stream",
          "name": "stderr",
          "text": [
            "WARNING:absl:Compiled the loaded model, but the compiled metrics have yet to be built. `model.compile_metrics` will be empty until you train or evaluate the model.\n",
            "/usr/local/lib/python3.10/dist-packages/keras/src/trainers/data_adapters/py_dataset_adapter.py:122: UserWarning: Your `PyDataset` class should call `super().__init__(**kwargs)` in its constructor. `**kwargs` can include `workers`, `use_multiprocessing`, `max_queue_size`. Do not pass these arguments to `fit()`, as they will be ignored.\n",
            "  self._warn_if_super_not_called()\n"
          ]
        },
        {
          "output_type": "stream",
          "name": "stdout",
          "text": [
            "\u001b[1m12/12\u001b[0m \u001b[32m━━━━━━━━━━━━━━━━━━━━\u001b[0m\u001b[37m\u001b[0m \u001b[1m155s\u001b[0m 13s/step\n",
            "Confusion Matrix:\n",
            " [[166  19]\n",
            " [  4 184]]\n",
            "\n",
            "Classification Report:\n",
            "               precision    recall  f1-score   support\n",
            "\n",
            "     Healthy       0.98      0.90      0.94       185\n",
            "      Rotten       0.91      0.98      0.94       188\n",
            "\n",
            "    accuracy                           0.94       373\n",
            "   macro avg       0.94      0.94      0.94       373\n",
            "weighted avg       0.94      0.94      0.94       373\n",
            "\n",
            "\n",
            "Accuracy: 0.938337801608579\n",
            "\n",
            "F1 Score: 0.9411764705882353\n"
          ]
        }
      ]
    },
    {
      "cell_type": "code",
      "source": [
        "# Define where to save everything\n",
        "results_save_path = \"/content/drive/MyDrive/sh/final project/Original-Models/EfficientNetB2_results.txt\"\n",
        "conf_matrix_save_path = \"/content/drive/MyDrive/sh/final project/Original-Models/EfficientNetB2_confusion_matrix.png\"\n",
        "with open(results_save_path, \"w\") as file:\n",
        "    file.write(f\"Accuracy: {accuracy:.4f}\\n\")\n",
        "    file.write(f\"F1 Score: {f1:.4f}\\n\")\n",
        "    file.write(f\"classification Report:\\n {class_report}\\n\")\n",
        "    file.write(f\"Confusion Matrix:\\n{conf_matrix}\\n\")\n",
        "\n",
        "print(f\"Results saved to {results_save_path}\")"
      ],
      "metadata": {
        "id": "Dkk6M6qE4aeW"
      },
      "execution_count": null,
      "outputs": []
    },
    {
      "cell_type": "code",
      "source": [
        "import matplotlib.pyplot as plt  # Import the plotting library and assign it to the alias 'plt'\n",
        "import seaborn as sns\n",
        "# Plot confusion matrix\n",
        "plt.figure(figsize=(6, 6))\n",
        "sns.heatmap(conf_matrix, annot=True, fmt=\"d\", cmap=\"Blues\", xticklabels=[\"Healthy\", \"Rotten\"], yticklabels=[\"Healthy\", \"Rotten\"])\n",
        "plt.xlabel(\"Predicted Labels\")\n",
        "plt.ylabel(\"True Labels\")\n",
        "plt.title(\"Confusion Matrix\")\n",
        "\n",
        "# Save confusion matrix as an image\n",
        "plt.savefig(conf_matrix_save_path)\n",
        "print(f\"Confusion matrix saved to {conf_matrix_save_path}\")\n",
        "from IPython.display import Image\n",
        "Image(filename=conf_matrix_save_path)\n",
        "plt.close()  # Close the plot to free up memory"
      ],
      "metadata": {
        "id": "3jHlLCr-4kL_",
        "colab": {
          "base_uri": "https://localhost:8080/"
        },
        "outputId": "2a5881f9-bd99-4432-a95d-ea4ab6eac05c"
      },
      "execution_count": null,
      "outputs": [
        {
          "metadata": {
            "tags": null
          },
          "name": "stdout",
          "output_type": "stream",
          "text": [
            "Confusion matrix saved to /content/drive/MyDrive/sh/final project/Original-Models/EfficientNetB2_confusion_matrix.png\n"
          ]
        }
      ]
    }
  ]
}
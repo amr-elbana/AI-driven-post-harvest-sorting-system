{
  "cells": [
    {
      "cell_type": "markdown",
      "metadata": {
        "id": "view-in-github",
        "colab_type": "text"
      },
      "source": [
        "<a href=\"https://colab.research.google.com/github/amr-elbana/AI-driven-post-harvest-sorting-system/blob/Shahd-Efficientnet/Augmented_Dataset_Models/Orange_classification_efficientnetB2.ipynb\" target=\"_parent\"><img src=\"https://colab.research.google.com/assets/colab-badge.svg\" alt=\"Open In Colab\"/></a>"
      ]
    },
    {
      "cell_type": "code",
      "execution_count": null,
      "metadata": {
        "colab": {
          "base_uri": "https://localhost:8080/"
        },
        "id": "iV_FZLbMlm-k",
        "outputId": "3c10fc38-296f-478f-c674-bde8c6503a37"
      },
      "outputs": [
        {
          "output_type": "stream",
          "name": "stdout",
          "text": [
            "Drive already mounted at /content/drive; to attempt to forcibly remount, call drive.mount(\"/content/drive\", force_remount=True).\n"
          ]
        }
      ],
      "source": [
        "from google.colab import drive\n",
        "drive.mount('/content/drive')"
      ]
    },
    {
      "cell_type": "code",
      "execution_count": null,
      "metadata": {
        "id": "_DaHPav171SU"
      },
      "outputs": [],
      "source": [
        "import keras,os\n",
        "import numpy as np\n",
        "from keras.models import Sequential\n",
        "from keras.layers import Dense, Conv2D, MaxPool2D , Flatten\n",
        "from tensorflow.keras.preprocessing.image import ImageDataGenerator\n",
        "import tensorflow as tf\n",
        "from tensorflow.keras.applications.vgg16 import VGG16\n",
        "from tensorflow.keras.layers import Dense, Flatten, Dropout\n",
        "from tensorflow.keras.layers import Input, BatchNormalization\n",
        "from tensorflow.keras.regularizers import l2\n",
        "from tensorflow.keras.models import Model\n",
        "from tensorflow.keras.optimizers import Adam\n",
        "from tensorflow.keras.preprocessing.image import ImageDataGenerator\n",
        "from tensorflow.keras.applications.vgg16 import preprocess_input\n",
        "from tensorflow.keras.callbacks import ModelCheckpoint, EarlyStopping, ReduceLROnPlateau"
      ]
    },
    {
      "cell_type": "markdown",
      "metadata": {
        "id": "nmAz1KhYcAOj"
      },
      "source": [
        "# **DataSet**"
      ]
    },
    {
      "cell_type": "code",
      "execution_count": null,
      "metadata": {
        "id": "Ky6_g65DUSgm"
      },
      "outputs": [],
      "source": [
        "# Define paths and constants\n",
        "data_dir = \"/content/drive/MyDrive/final project/Dataset/All_oranges_Drive_Augmented\"\n",
        "test_dir = \"/content/drive/MyDrive/final project/Dataset/Test_Data\"\n",
        "batch_size = 32\n",
        "target_size = (224, 224)\n",
        "epochs = 50"
      ]
    },
    {
      "cell_type": "code",
      "execution_count": null,
      "metadata": {
        "colab": {
          "base_uri": "https://localhost:8080/"
        },
        "id": "dIJNGZTjUXGz",
        "outputId": "f1bf490b-9f3e-475b-8033-3268b2a1693f"
      },
      "outputs": [
        {
          "output_type": "stream",
          "name": "stdout",
          "text": [
            "Found 5961 images belonging to 2 classes.\n",
            "Found 1490 images belonging to 2 classes.\n",
            "Training samples: 5961\n",
            "Validation samples: 1490\n",
            "Training batches per epoch: 187\n",
            "Validation batches per epoch: 47\n"
          ]
        }
      ],
      "source": [
        "# Create an ImageDataGenerator with EfficientNetB2 preprocessing and data augmentation\n",
        "train_datagen = ImageDataGenerator(\n",
        "    preprocessing_function=preprocess_input,  # EfficientNetB2-specific preprocessing\n",
        "    validation_split=0.2,  # Use 20% of data for validation\n",
        "    rotation_range=20,      # Randomly rotate images by up to 20 degrees\n",
        "    width_shift_range=0.2,   # Randomly shift images horizontally by up to 20% of the width\n",
        "    height_shift_range=0.2,  # Randomly shift images vertically by up to 20% of the height\n",
        "    shear_range=0.2,        # Randomly apply shearing transformations\n",
        "    zoom_range=0.2,         # Randomly zoom in or out on images\n",
        "    horizontal_flip=True,   # Randomly flip images horizontally\n",
        "    fill_mode='nearest'     # Fill in missing pixels using the nearest neighbor\n",
        ")\n",
        "\n",
        "# Flow training data from the directory and apply preprocessing and augmentation\n",
        "train_generator = train_datagen.flow_from_directory(\n",
        "    data_dir,\n",
        "    target_size=target_size,      # Resize images to EfficientNetB2 input size\n",
        "    batch_size=batch_size,\n",
        "    class_mode='binary',          # Binary classification (healthy vs rotten)\n",
        "    subset='training',            # Use 80% of data for training\n",
        "    seed=42,                      # Set seed for reproducibility\n",
        "    shuffle=True                  # Shuffle the data to improve training\n",
        ")\n",
        "\n",
        "# Flow validation data from the directory and apply preprocessing (no augmentation for validation)\n",
        "validation_generator = train_datagen.flow_from_directory(\n",
        "    data_dir,\n",
        "    target_size=target_size,      # Resize images to EfficientNetB2 input size\n",
        "    batch_size=batch_size,\n",
        "    class_mode='binary',          # Binary classification (healthy vs rotten)\n",
        "    subset='validation',          # Use 20% of data for validation\n",
        "    shuffle=False                 # No need to shuffle validation data\n",
        ")\n",
        "\n",
        "# ... (rest of the code remains the same)\n",
        "\n",
        "# Check the number of samples in each generator\n",
        "print(f\"Training samples: {train_generator.samples}\")\n",
        "print(f\"Validation samples: {validation_generator.samples}\")\n",
        "print(f\"Training batches per epoch: {len(train_generator)}\")\n",
        "print(f\"Validation batches per epoch: {len(validation_generator)}\")"
      ]
    },
    {
      "cell_type": "code",
      "execution_count": null,
      "metadata": {
        "colab": {
          "base_uri": "https://localhost:8080/"
        },
        "id": "_vOZ0EYIlWMx",
        "outputId": "e519954c-8f0c-4460-a661-fc3653013980"
      },
      "outputs": [
        {
          "output_type": "stream",
          "name": "stdout",
          "text": [
            "Found 1868 images belonging to 2 classes.\n",
            "Test samples: 1868\n",
            "Test batches: 59\n"
          ]
        }
      ],
      "source": [
        "# Create an ImageDataGenerator for EfficientNetB2 preprocessing (no augmentation for the test set)\n",
        "test_datagen = ImageDataGenerator(\n",
        "    preprocessing_function=preprocess_input  # EfficientNetB2-specific preprocessing\n",
        ")\n",
        "\n",
        "# Flow data from the test directory and apply preprocessing\n",
        "test_generator = test_datagen.flow_from_directory(\n",
        "    test_dir,\n",
        "    target_size=(224, 224),  # efficientnetB2 input size\n",
        "    batch_size=batch_size,\n",
        "    class_mode='binary',     # Binary classification for the test set\n",
        "    shuffle=False            # Do not shuffle test data to keep results consistent\n",
        ")\n",
        "\n",
        "# Check the number of samples in the test set\n",
        "print(f\"Test samples: {test_generator.samples}\")\n",
        "print(f\"Test batches: {len(test_generator)}\")"
      ]
    },
    {
      "cell_type": "markdown",
      "metadata": {
        "id": "VX4Mp5JYcPKP"
      },
      "source": [
        "# **Model Architecture**"
      ]
    },
    {
      "cell_type": "code",
      "execution_count": null,
      "metadata": {
        "id": "xUo7vTHJBypu"
      },
      "outputs": [],
      "source": [
        "\"\"\"EfficientNetB2 is a functional model, and its layers are interdependent.\n",
        "Adding the entire model instead of individual layers ensures the integrity of its structure,\n",
        " preventing errors during training.\n",
        " Using GlobalAveragePooling2D further optimizes the architecture for the task.\"\"\"\n",
        "\n",
        "import os\n",
        "from tensorflow.keras.layers import GlobalAveragePooling2D\n",
        "def create_model():\n",
        "    # Load EfficientNetB2 model with pretrained weights, excluding the top (fully connected) layers\n",
        "    efficientnet_base = EfficientNetB2(weights='imagenet', include_top=False, input_shape=(224, 224, 3))\n",
        "\n",
        "    # Freeze the layers of EfficientNetB2 to retain the pre-trained weights\n",
        "    efficientnet_base.trainable = False\n",
        "\n",
        "    # Build the model\n",
        "    model = Sequential([\n",
        "        efficientnet_base,  # Add the entire base model\n",
        "        GlobalAveragePooling2D(),  # Use global pooling instead of Flatten, This is more efficient and typically used for pre-trained convolutional models.\n",
        "        Dense(256, activation='relu'),\n",
        "        Dropout(0.5),\n",
        "        Dense(256, activation='relu'),\n",
        "        Dropout(0.5),\n",
        "        Dense(1, activation='sigmoid')  # For binary classification\n",
        "    ])\n",
        "\n",
        "    # Compile the model\n",
        "    model.compile(optimizer=\"adam\", loss=\"binary_crossentropy\", metrics=[\"accuracy\"])\n",
        "    return model\n",
        "\n",
        "# Ensure the directory for checkpoints exists\n",
        "model_dir = \"/content/drive/MyDrive/final project/Models\"\n",
        "if not os.path.exists(model_dir):\n",
        "    os.makedirs(model_dir)\n",
        "\n",
        "# Define the model\n",
        "model = create_model()\n"
      ]
    },
    {
      "cell_type": "markdown",
      "metadata": {
        "id": "UVjuz9YVccdV"
      },
      "source": [
        "# **Training**"
      ]
    },
    {
      "cell_type": "code",
      "execution_count": null,
      "metadata": {
        "colab": {
          "base_uri": "https://localhost:8080/"
        },
        "id": "t0lXl3jLnUuR",
        "outputId": "d7c88d64-21e9-4396-a12a-33b467b70b29"
      },
      "outputs": [
        {
          "output_type": "stream",
          "name": "stdout",
          "text": [
            "Epoch 1/50\n"
          ]
        },
        {
          "output_type": "stream",
          "name": "stderr",
          "text": [
            "/usr/local/lib/python3.10/dist-packages/keras/src/trainers/data_adapters/py_dataset_adapter.py:122: UserWarning: Your `PyDataset` class should call `super().__init__(**kwargs)` in its constructor. `**kwargs` can include `workers`, `use_multiprocessing`, `max_queue_size`. Do not pass these arguments to `fit()`, as they will be ignored.\n",
            "  self._warn_if_super_not_called()\n"
          ]
        },
        {
          "output_type": "stream",
          "name": "stdout",
          "text": [
            "\u001b[1m187/187\u001b[0m \u001b[32m━━━━━━━━━━━━━━━━━━━━\u001b[0m\u001b[37m\u001b[0m \u001b[1m0s\u001b[0m 8s/step - accuracy: 0.8608 - loss: 0.3185\n",
            "Epoch 1: val_accuracy improved from -inf to 0.94899, saving model to /content/drive/MyDrive/final project/Models/EfficientNetB2_01-0.95.keras\n",
            "\u001b[1m187/187\u001b[0m \u001b[32m━━━━━━━━━━━━━━━━━━━━\u001b[0m\u001b[37m\u001b[0m \u001b[1m2193s\u001b[0m 11s/step - accuracy: 0.8610 - loss: 0.3180 - val_accuracy: 0.9490 - val_loss: 0.1307\n",
            "Epoch 2/50\n",
            "\u001b[1m187/187\u001b[0m \u001b[32m━━━━━━━━━━━━━━━━━━━━\u001b[0m\u001b[37m\u001b[0m \u001b[1m0s\u001b[0m 780ms/step - accuracy: 0.9393 - loss: 0.1527\n",
            "Epoch 2: val_accuracy improved from 0.94899 to 0.97114, saving model to /content/drive/MyDrive/final project/Models/EfficientNetB2_02-0.97.keras\n",
            "\u001b[1m187/187\u001b[0m \u001b[32m━━━━━━━━━━━━━━━━━━━━\u001b[0m\u001b[37m\u001b[0m \u001b[1m204s\u001b[0m 1s/step - accuracy: 0.9393 - loss: 0.1527 - val_accuracy: 0.9711 - val_loss: 0.0852\n",
            "Epoch 3/50\n",
            "\u001b[1m187/187\u001b[0m \u001b[32m━━━━━━━━━━━━━━━━━━━━\u001b[0m\u001b[37m\u001b[0m \u001b[1m0s\u001b[0m 764ms/step - accuracy: 0.9506 - loss: 0.1312\n",
            "Epoch 3: val_accuracy improved from 0.97114 to 0.97315, saving model to /content/drive/MyDrive/final project/Models/EfficientNetB2_03-0.97.keras\n",
            "\u001b[1m187/187\u001b[0m \u001b[32m━━━━━━━━━━━━━━━━━━━━\u001b[0m\u001b[37m\u001b[0m \u001b[1m200s\u001b[0m 1s/step - accuracy: 0.9506 - loss: 0.1312 - val_accuracy: 0.9732 - val_loss: 0.0737\n",
            "Epoch 4/50\n",
            "\u001b[1m187/187\u001b[0m \u001b[32m━━━━━━━━━━━━━━━━━━━━\u001b[0m\u001b[37m\u001b[0m \u001b[1m0s\u001b[0m 766ms/step - accuracy: 0.9611 - loss: 0.1037\n",
            "Epoch 4: val_accuracy improved from 0.97315 to 0.98188, saving model to /content/drive/MyDrive/final project/Models/EfficientNetB2_04-0.98.keras\n",
            "\u001b[1m187/187\u001b[0m \u001b[32m━━━━━━━━━━━━━━━━━━━━\u001b[0m\u001b[37m\u001b[0m \u001b[1m197s\u001b[0m 1s/step - accuracy: 0.9611 - loss: 0.1038 - val_accuracy: 0.9819 - val_loss: 0.0645\n",
            "Epoch 5/50\n",
            "\u001b[1m187/187\u001b[0m \u001b[32m━━━━━━━━━━━━━━━━━━━━\u001b[0m\u001b[37m\u001b[0m \u001b[1m0s\u001b[0m 768ms/step - accuracy: 0.9570 - loss: 0.1083\n",
            "Epoch 5: val_accuracy did not improve from 0.98188\n",
            "\u001b[1m187/187\u001b[0m \u001b[32m━━━━━━━━━━━━━━━━━━━━\u001b[0m\u001b[37m\u001b[0m \u001b[1m202s\u001b[0m 1s/step - accuracy: 0.9570 - loss: 0.1083 - val_accuracy: 0.9772 - val_loss: 0.0588\n",
            "Epoch 6/50\n",
            "\u001b[1m187/187\u001b[0m \u001b[32m━━━━━━━━━━━━━━━━━━━━\u001b[0m\u001b[37m\u001b[0m \u001b[1m0s\u001b[0m 760ms/step - accuracy: 0.9685 - loss: 0.0880\n",
            "Epoch 6: val_accuracy improved from 0.98188 to 0.98523, saving model to /content/drive/MyDrive/final project/Models/EfficientNetB2_06-0.99.keras\n",
            "\u001b[1m187/187\u001b[0m \u001b[32m━━━━━━━━━━━━━━━━━━━━\u001b[0m\u001b[37m\u001b[0m \u001b[1m203s\u001b[0m 1s/step - accuracy: 0.9685 - loss: 0.0880 - val_accuracy: 0.9852 - val_loss: 0.0419\n",
            "Epoch 7/50\n",
            "\u001b[1m187/187\u001b[0m \u001b[32m━━━━━━━━━━━━━━━━━━━━\u001b[0m\u001b[37m\u001b[0m \u001b[1m0s\u001b[0m 751ms/step - accuracy: 0.9688 - loss: 0.0891\n",
            "Epoch 7: val_accuracy did not improve from 0.98523\n",
            "\u001b[1m187/187\u001b[0m \u001b[32m━━━━━━━━━━━━━━━━━━━━\u001b[0m\u001b[37m\u001b[0m \u001b[1m194s\u001b[0m 1s/step - accuracy: 0.9688 - loss: 0.0891 - val_accuracy: 0.9711 - val_loss: 0.0634\n",
            "Epoch 8/50\n",
            "\u001b[1m187/187\u001b[0m \u001b[32m━━━━━━━━━━━━━━━━━━━━\u001b[0m\u001b[37m\u001b[0m \u001b[1m0s\u001b[0m 777ms/step - accuracy: 0.9664 - loss: 0.0804\n",
            "Epoch 8: val_accuracy did not improve from 0.98523\n",
            "\u001b[1m187/187\u001b[0m \u001b[32m━━━━━━━━━━━━━━━━━━━━\u001b[0m\u001b[37m\u001b[0m \u001b[1m198s\u001b[0m 1s/step - accuracy: 0.9664 - loss: 0.0804 - val_accuracy: 0.9785 - val_loss: 0.0529\n",
            "Epoch 9/50\n",
            "\u001b[1m187/187\u001b[0m \u001b[32m━━━━━━━━━━━━━━━━━━━━\u001b[0m\u001b[37m\u001b[0m \u001b[1m0s\u001b[0m 763ms/step - accuracy: 0.9635 - loss: 0.0940\n",
            "Epoch 9: val_accuracy improved from 0.98523 to 0.98591, saving model to /content/drive/MyDrive/final project/Models/EfficientNetB2_09-0.99.keras\n",
            "\u001b[1m187/187\u001b[0m \u001b[32m━━━━━━━━━━━━━━━━━━━━\u001b[0m\u001b[37m\u001b[0m \u001b[1m203s\u001b[0m 1s/step - accuracy: 0.9635 - loss: 0.0940 - val_accuracy: 0.9859 - val_loss: 0.0339\n",
            "Epoch 10/50\n",
            "\u001b[1m187/187\u001b[0m \u001b[32m━━━━━━━━━━━━━━━━━━━━\u001b[0m\u001b[37m\u001b[0m \u001b[1m0s\u001b[0m 770ms/step - accuracy: 0.9678 - loss: 0.0795\n",
            "Epoch 10: val_accuracy improved from 0.98591 to 0.98658, saving model to /content/drive/MyDrive/final project/Models/EfficientNetB2_10-0.99.keras\n",
            "\u001b[1m187/187\u001b[0m \u001b[32m━━━━━━━━━━━━━━━━━━━━\u001b[0m\u001b[37m\u001b[0m \u001b[1m201s\u001b[0m 1s/step - accuracy: 0.9679 - loss: 0.0795 - val_accuracy: 0.9866 - val_loss: 0.0344\n",
            "Epoch 11/50\n",
            "\u001b[1m187/187\u001b[0m \u001b[32m━━━━━━━━━━━━━━━━━━━━\u001b[0m\u001b[37m\u001b[0m \u001b[1m0s\u001b[0m 768ms/step - accuracy: 0.9721 - loss: 0.0802\n",
            "Epoch 11: val_accuracy did not improve from 0.98658\n",
            "\u001b[1m187/187\u001b[0m \u001b[32m━━━━━━━━━━━━━━━━━━━━\u001b[0m\u001b[37m\u001b[0m \u001b[1m235s\u001b[0m 1s/step - accuracy: 0.9721 - loss: 0.0802 - val_accuracy: 0.9839 - val_loss: 0.0453\n",
            "Epoch 12/50\n",
            "\u001b[1m187/187\u001b[0m \u001b[32m━━━━━━━━━━━━━━━━━━━━\u001b[0m\u001b[37m\u001b[0m \u001b[1m0s\u001b[0m 761ms/step - accuracy: 0.9744 - loss: 0.0755\n",
            "Epoch 12: val_accuracy improved from 0.98658 to 0.99262, saving model to /content/drive/MyDrive/final project/Models/EfficientNetB2_12-0.99.keras\n",
            "\u001b[1m187/187\u001b[0m \u001b[32m━━━━━━━━━━━━━━━━━━━━\u001b[0m\u001b[37m\u001b[0m \u001b[1m196s\u001b[0m 1s/step - accuracy: 0.9744 - loss: 0.0755 - val_accuracy: 0.9926 - val_loss: 0.0315\n",
            "Epoch 13/50\n",
            "\u001b[1m187/187\u001b[0m \u001b[32m━━━━━━━━━━━━━━━━━━━━\u001b[0m\u001b[37m\u001b[0m \u001b[1m0s\u001b[0m 756ms/step - accuracy: 0.9742 - loss: 0.0800\n",
            "Epoch 13: val_accuracy did not improve from 0.99262\n",
            "\u001b[1m187/187\u001b[0m \u001b[32m━━━━━━━━━━━━━━━━━━━━\u001b[0m\u001b[37m\u001b[0m \u001b[1m201s\u001b[0m 1s/step - accuracy: 0.9742 - loss: 0.0799 - val_accuracy: 0.9805 - val_loss: 0.0432\n",
            "Epoch 14/50\n",
            "\u001b[1m187/187\u001b[0m \u001b[32m━━━━━━━━━━━━━━━━━━━━\u001b[0m\u001b[37m\u001b[0m \u001b[1m0s\u001b[0m 764ms/step - accuracy: 0.9730 - loss: 0.0746\n",
            "Epoch 14: val_accuracy did not improve from 0.99262\n",
            "\u001b[1m187/187\u001b[0m \u001b[32m━━━━━━━━━━━━━━━━━━━━\u001b[0m\u001b[37m\u001b[0m \u001b[1m195s\u001b[0m 1s/step - accuracy: 0.9730 - loss: 0.0746 - val_accuracy: 0.9899 - val_loss: 0.0315\n",
            "Epoch 15/50\n",
            "\u001b[1m187/187\u001b[0m \u001b[32m━━━━━━━━━━━━━━━━━━━━\u001b[0m\u001b[37m\u001b[0m \u001b[1m0s\u001b[0m 764ms/step - accuracy: 0.9758 - loss: 0.0687\n",
            "Epoch 15: val_accuracy did not improve from 0.99262\n",
            "\u001b[1m187/187\u001b[0m \u001b[32m━━━━━━━━━━━━━━━━━━━━\u001b[0m\u001b[37m\u001b[0m \u001b[1m197s\u001b[0m 1s/step - accuracy: 0.9758 - loss: 0.0687 - val_accuracy: 0.9859 - val_loss: 0.0316\n",
            "Epoch 16/50\n",
            "\u001b[1m187/187\u001b[0m \u001b[32m━━━━━━━━━━━━━━━━━━━━\u001b[0m\u001b[37m\u001b[0m \u001b[1m0s\u001b[0m 763ms/step - accuracy: 0.9799 - loss: 0.0606\n",
            "Epoch 16: val_accuracy did not improve from 0.99262\n",
            "\u001b[1m187/187\u001b[0m \u001b[32m━━━━━━━━━━━━━━━━━━━━\u001b[0m\u001b[37m\u001b[0m \u001b[1m202s\u001b[0m 1s/step - accuracy: 0.9798 - loss: 0.0606 - val_accuracy: 0.9926 - val_loss: 0.0324\n",
            "Epoch 17/50\n",
            "\u001b[1m187/187\u001b[0m \u001b[32m━━━━━━━━━━━━━━━━━━━━\u001b[0m\u001b[37m\u001b[0m \u001b[1m0s\u001b[0m 771ms/step - accuracy: 0.9763 - loss: 0.0681\n",
            "Epoch 17: val_accuracy did not improve from 0.99262\n",
            "\u001b[1m187/187\u001b[0m \u001b[32m━━━━━━━━━━━━━━━━━━━━\u001b[0m\u001b[37m\u001b[0m \u001b[1m237s\u001b[0m 1s/step - accuracy: 0.9763 - loss: 0.0680 - val_accuracy: 0.9893 - val_loss: 0.0281\n",
            "Epoch 18/50\n",
            "\u001b[1m187/187\u001b[0m \u001b[32m━━━━━━━━━━━━━━━━━━━━\u001b[0m\u001b[37m\u001b[0m \u001b[1m0s\u001b[0m 776ms/step - accuracy: 0.9801 - loss: 0.0608\n",
            "Epoch 18: val_accuracy did not improve from 0.99262\n",
            "\u001b[1m187/187\u001b[0m \u001b[32m━━━━━━━━━━━━━━━━━━━━\u001b[0m\u001b[37m\u001b[0m \u001b[1m229s\u001b[0m 1s/step - accuracy: 0.9801 - loss: 0.0608 - val_accuracy: 0.9872 - val_loss: 0.0370\n",
            "Epoch 19/50\n",
            "\u001b[1m187/187\u001b[0m \u001b[32m━━━━━━━━━━━━━━━━━━━━\u001b[0m\u001b[37m\u001b[0m \u001b[1m0s\u001b[0m 764ms/step - accuracy: 0.9767 - loss: 0.0604\n",
            "Epoch 19: val_accuracy did not improve from 0.99262\n",
            "\u001b[1m187/187\u001b[0m \u001b[32m━━━━━━━━━━━━━━━━━━━━\u001b[0m\u001b[37m\u001b[0m \u001b[1m200s\u001b[0m 1s/step - accuracy: 0.9767 - loss: 0.0603 - val_accuracy: 0.9886 - val_loss: 0.0323\n",
            "Epoch 20/50\n",
            "\u001b[1m187/187\u001b[0m \u001b[32m━━━━━━━━━━━━━━━━━━━━\u001b[0m\u001b[37m\u001b[0m \u001b[1m0s\u001b[0m 757ms/step - accuracy: 0.9784 - loss: 0.0602\n",
            "Epoch 20: val_accuracy did not improve from 0.99262\n",
            "\u001b[1m187/187\u001b[0m \u001b[32m━━━━━━━━━━━━━━━━━━━━\u001b[0m\u001b[37m\u001b[0m \u001b[1m196s\u001b[0m 1s/step - accuracy: 0.9784 - loss: 0.0602 - val_accuracy: 0.9906 - val_loss: 0.0302\n",
            "Epoch 21/50\n",
            "\u001b[1m187/187\u001b[0m \u001b[32m━━━━━━━━━━━━━━━━━━━━\u001b[0m\u001b[37m\u001b[0m \u001b[1m0s\u001b[0m 781ms/step - accuracy: 0.9750 - loss: 0.0648\n",
            "Epoch 21: val_accuracy did not improve from 0.99262\n",
            "\u001b[1m187/187\u001b[0m \u001b[32m━━━━━━━━━━━━━━━━━━━━\u001b[0m\u001b[37m\u001b[0m \u001b[1m205s\u001b[0m 1s/step - accuracy: 0.9750 - loss: 0.0647 - val_accuracy: 0.9919 - val_loss: 0.0204\n",
            "Epoch 22/50\n",
            "\u001b[1m187/187\u001b[0m \u001b[32m━━━━━━━━━━━━━━━━━━━━\u001b[0m\u001b[37m\u001b[0m \u001b[1m0s\u001b[0m 763ms/step - accuracy: 0.9824 - loss: 0.0468\n",
            "Epoch 22: val_accuracy improved from 0.99262 to 0.99463, saving model to /content/drive/MyDrive/final project/Models/EfficientNetB2_22-0.99.keras\n",
            "\u001b[1m187/187\u001b[0m \u001b[32m━━━━━━━━━━━━━━━━━━━━\u001b[0m\u001b[37m\u001b[0m \u001b[1m196s\u001b[0m 1s/step - accuracy: 0.9823 - loss: 0.0469 - val_accuracy: 0.9946 - val_loss: 0.0224\n",
            "Epoch 23/50\n",
            "\u001b[1m187/187\u001b[0m \u001b[32m━━━━━━━━━━━━━━━━━━━━\u001b[0m\u001b[37m\u001b[0m \u001b[1m0s\u001b[0m 765ms/step - accuracy: 0.9766 - loss: 0.0598\n",
            "Epoch 23: val_accuracy did not improve from 0.99463\n",
            "\u001b[1m187/187\u001b[0m \u001b[32m━━━━━━━━━━━━━━━━━━━━\u001b[0m\u001b[37m\u001b[0m \u001b[1m197s\u001b[0m 1s/step - accuracy: 0.9766 - loss: 0.0598 - val_accuracy: 0.9906 - val_loss: 0.0244\n",
            "Epoch 24/50\n",
            "\u001b[1m187/187\u001b[0m \u001b[32m━━━━━━━━━━━━━━━━━━━━\u001b[0m\u001b[37m\u001b[0m \u001b[1m0s\u001b[0m 761ms/step - accuracy: 0.9807 - loss: 0.0588\n",
            "Epoch 24: val_accuracy did not improve from 0.99463\n",
            "\u001b[1m187/187\u001b[0m \u001b[32m━━━━━━━━━━━━━━━━━━━━\u001b[0m\u001b[37m\u001b[0m \u001b[1m203s\u001b[0m 1s/step - accuracy: 0.9807 - loss: 0.0588 - val_accuracy: 0.9940 - val_loss: 0.0213\n",
            "Epoch 25/50\n",
            "\u001b[1m187/187\u001b[0m \u001b[32m━━━━━━━━━━━━━━━━━━━━\u001b[0m\u001b[37m\u001b[0m \u001b[1m0s\u001b[0m 760ms/step - accuracy: 0.9791 - loss: 0.0561\n",
            "Epoch 25: val_accuracy did not improve from 0.99463\n",
            "\u001b[1m187/187\u001b[0m \u001b[32m━━━━━━━━━━━━━━━━━━━━\u001b[0m\u001b[37m\u001b[0m \u001b[1m196s\u001b[0m 1s/step - accuracy: 0.9791 - loss: 0.0561 - val_accuracy: 0.9913 - val_loss: 0.0254\n",
            "Epoch 26/50\n",
            "\u001b[1m187/187\u001b[0m \u001b[32m━━━━━━━━━━━━━━━━━━━━\u001b[0m\u001b[37m\u001b[0m \u001b[1m0s\u001b[0m 769ms/step - accuracy: 0.9833 - loss: 0.0465\n",
            "Epoch 26: val_accuracy did not improve from 0.99463\n",
            "\u001b[1m187/187\u001b[0m \u001b[32m━━━━━━━━━━━━━━━━━━━━\u001b[0m\u001b[37m\u001b[0m \u001b[1m197s\u001b[0m 1s/step - accuracy: 0.9832 - loss: 0.0465 - val_accuracy: 0.9893 - val_loss: 0.0230\n",
            "Epoch 27/50\n",
            "\u001b[1m187/187\u001b[0m \u001b[32m━━━━━━━━━━━━━━━━━━━━\u001b[0m\u001b[37m\u001b[0m \u001b[1m0s\u001b[0m 764ms/step - accuracy: 0.9801 - loss: 0.0543\n",
            "Epoch 27: val_accuracy did not improve from 0.99463\n",
            "\u001b[1m187/187\u001b[0m \u001b[32m━━━━━━━━━━━━━━━━━━━━\u001b[0m\u001b[37m\u001b[0m \u001b[1m196s\u001b[0m 1s/step - accuracy: 0.9801 - loss: 0.0544 - val_accuracy: 0.9879 - val_loss: 0.0268\n",
            "Epoch 28/50\n",
            "\u001b[1m187/187\u001b[0m \u001b[32m━━━━━━━━━━━━━━━━━━━━\u001b[0m\u001b[37m\u001b[0m \u001b[1m0s\u001b[0m 758ms/step - accuracy: 0.9820 - loss: 0.0543\n",
            "Epoch 28: val_accuracy did not improve from 0.99463\n",
            "\u001b[1m187/187\u001b[0m \u001b[32m━━━━━━━━━━━━━━━━━━━━\u001b[0m\u001b[37m\u001b[0m \u001b[1m200s\u001b[0m 1s/step - accuracy: 0.9820 - loss: 0.0542 - val_accuracy: 0.9940 - val_loss: 0.0178\n",
            "Epoch 29/50\n",
            "\u001b[1m187/187\u001b[0m \u001b[32m━━━━━━━━━━━━━━━━━━━━\u001b[0m\u001b[37m\u001b[0m \u001b[1m0s\u001b[0m 773ms/step - accuracy: 0.9786 - loss: 0.0557\n",
            "Epoch 29: val_accuracy did not improve from 0.99463\n",
            "\u001b[1m187/187\u001b[0m \u001b[32m━━━━━━━━━━━━━━━━━━━━\u001b[0m\u001b[37m\u001b[0m \u001b[1m207s\u001b[0m 1s/step - accuracy: 0.9786 - loss: 0.0557 - val_accuracy: 0.9940 - val_loss: 0.0158\n",
            "Epoch 30/50\n",
            "\u001b[1m187/187\u001b[0m \u001b[32m━━━━━━━━━━━━━━━━━━━━\u001b[0m\u001b[37m\u001b[0m \u001b[1m0s\u001b[0m 773ms/step - accuracy: 0.9836 - loss: 0.0417\n",
            "Epoch 30: val_accuracy did not improve from 0.99463\n",
            "\u001b[1m187/187\u001b[0m \u001b[32m━━━━━━━━━━━━━━━━━━━━\u001b[0m\u001b[37m\u001b[0m \u001b[1m201s\u001b[0m 1s/step - accuracy: 0.9836 - loss: 0.0417 - val_accuracy: 0.9926 - val_loss: 0.0182\n",
            "Epoch 31/50\n",
            "\u001b[1m187/187\u001b[0m \u001b[32m━━━━━━━━━━━━━━━━━━━━\u001b[0m\u001b[37m\u001b[0m \u001b[1m0s\u001b[0m 781ms/step - accuracy: 0.9800 - loss: 0.0524\n",
            "Epoch 31: val_accuracy did not improve from 0.99463\n",
            "\u001b[1m187/187\u001b[0m \u001b[32m━━━━━━━━━━━━━━━━━━━━\u001b[0m\u001b[37m\u001b[0m \u001b[1m201s\u001b[0m 1s/step - accuracy: 0.9800 - loss: 0.0524 - val_accuracy: 0.9946 - val_loss: 0.0161\n",
            "Epoch 32/50\n",
            "\u001b[1m187/187\u001b[0m \u001b[32m━━━━━━━━━━━━━━━━━━━━\u001b[0m\u001b[37m\u001b[0m \u001b[1m0s\u001b[0m 778ms/step - accuracy: 0.9794 - loss: 0.0535\n",
            "Epoch 32: val_accuracy did not improve from 0.99463\n",
            "\u001b[1m187/187\u001b[0m \u001b[32m━━━━━━━━━━━━━━━━━━━━\u001b[0m\u001b[37m\u001b[0m \u001b[1m200s\u001b[0m 1s/step - accuracy: 0.9794 - loss: 0.0535 - val_accuracy: 0.9919 - val_loss: 0.0242\n",
            "Epoch 33/50\n",
            "\u001b[1m187/187\u001b[0m \u001b[32m━━━━━━━━━━━━━━━━━━━━\u001b[0m\u001b[37m\u001b[0m \u001b[1m0s\u001b[0m 770ms/step - accuracy: 0.9813 - loss: 0.0521\n",
            "Epoch 33: val_accuracy did not improve from 0.99463\n",
            "\u001b[1m187/187\u001b[0m \u001b[32m━━━━━━━━━━━━━━━━━━━━\u001b[0m\u001b[37m\u001b[0m \u001b[1m232s\u001b[0m 1s/step - accuracy: 0.9813 - loss: 0.0521 - val_accuracy: 0.9913 - val_loss: 0.0287\n",
            "Epoch 34/50\n",
            "\u001b[1m187/187\u001b[0m \u001b[32m━━━━━━━━━━━━━━━━━━━━\u001b[0m\u001b[37m\u001b[0m \u001b[1m0s\u001b[0m 770ms/step - accuracy: 0.9833 - loss: 0.0487\n",
            "Epoch 34: val_accuracy improved from 0.99463 to 0.99597, saving model to /content/drive/MyDrive/final project/Models/EfficientNetB2_34-1.00.keras\n",
            "\u001b[1m187/187\u001b[0m \u001b[32m━━━━━━━━━━━━━━━━━━━━\u001b[0m\u001b[37m\u001b[0m \u001b[1m229s\u001b[0m 1s/step - accuracy: 0.9833 - loss: 0.0487 - val_accuracy: 0.9960 - val_loss: 0.0152\n",
            "Epoch 35/50\n",
            "\u001b[1m187/187\u001b[0m \u001b[32m━━━━━━━━━━━━━━━━━━━━\u001b[0m\u001b[37m\u001b[0m \u001b[1m0s\u001b[0m 771ms/step - accuracy: 0.9831 - loss: 0.0461\n",
            "Epoch 35: val_accuracy did not improve from 0.99597\n",
            "\u001b[1m187/187\u001b[0m \u001b[32m━━━━━━━━━━━━━━━━━━━━\u001b[0m\u001b[37m\u001b[0m \u001b[1m198s\u001b[0m 1s/step - accuracy: 0.9831 - loss: 0.0461 - val_accuracy: 0.9940 - val_loss: 0.0198\n",
            "Epoch 36/50\n",
            "\u001b[1m187/187\u001b[0m \u001b[32m━━━━━━━━━━━━━━━━━━━━\u001b[0m\u001b[37m\u001b[0m \u001b[1m0s\u001b[0m 791ms/step - accuracy: 0.9850 - loss: 0.0476\n",
            "Epoch 36: val_accuracy did not improve from 0.99597\n",
            "\u001b[1m187/187\u001b[0m \u001b[32m━━━━━━━━━━━━━━━━━━━━\u001b[0m\u001b[37m\u001b[0m \u001b[1m201s\u001b[0m 1s/step - accuracy: 0.9850 - loss: 0.0476 - val_accuracy: 0.9940 - val_loss: 0.0145\n",
            "Epoch 37/50\n",
            "\u001b[1m187/187\u001b[0m \u001b[32m━━━━━━━━━━━━━━━━━━━━\u001b[0m\u001b[37m\u001b[0m \u001b[1m0s\u001b[0m 780ms/step - accuracy: 0.9858 - loss: 0.0403\n",
            "Epoch 37: val_accuracy did not improve from 0.99597\n",
            "\u001b[1m187/187\u001b[0m \u001b[32m━━━━━━━━━━━━━━━━━━━━\u001b[0m\u001b[37m\u001b[0m \u001b[1m234s\u001b[0m 1s/step - accuracy: 0.9858 - loss: 0.0403 - val_accuracy: 0.9940 - val_loss: 0.0180\n",
            "Epoch 38/50\n",
            "\u001b[1m187/187\u001b[0m \u001b[32m━━━━━━━━━━━━━━━━━━━━\u001b[0m\u001b[37m\u001b[0m \u001b[1m0s\u001b[0m 780ms/step - accuracy: 0.9808 - loss: 0.0598\n",
            "Epoch 38: val_accuracy did not improve from 0.99597\n",
            "\u001b[1m187/187\u001b[0m \u001b[32m━━━━━━━━━━━━━━━━━━━━\u001b[0m\u001b[37m\u001b[0m \u001b[1m234s\u001b[0m 1s/step - accuracy: 0.9808 - loss: 0.0598 - val_accuracy: 0.9946 - val_loss: 0.0195\n",
            "Epoch 39/50\n",
            "\u001b[1m187/187\u001b[0m \u001b[32m━━━━━━━━━━━━━━━━━━━━\u001b[0m\u001b[37m\u001b[0m \u001b[1m0s\u001b[0m 765ms/step - accuracy: 0.9859 - loss: 0.0446\n",
            "Epoch 39: val_accuracy did not improve from 0.99597\n",
            "\u001b[1m187/187\u001b[0m \u001b[32m━━━━━━━━━━━━━━━━━━━━\u001b[0m\u001b[37m\u001b[0m \u001b[1m199s\u001b[0m 1s/step - accuracy: 0.9859 - loss: 0.0446 - val_accuracy: 0.9913 - val_loss: 0.0177\n",
            "Epoch 40/50\n",
            "\u001b[1m187/187\u001b[0m \u001b[32m━━━━━━━━━━━━━━━━━━━━\u001b[0m\u001b[37m\u001b[0m \u001b[1m0s\u001b[0m 769ms/step - accuracy: 0.9850 - loss: 0.0407\n",
            "Epoch 40: val_accuracy improved from 0.99597 to 0.99664, saving model to /content/drive/MyDrive/final project/Models/EfficientNetB2_40-1.00.keras\n",
            "\u001b[1m187/187\u001b[0m \u001b[32m━━━━━━━━━━━━━━━━━━━━\u001b[0m\u001b[37m\u001b[0m \u001b[1m200s\u001b[0m 1s/step - accuracy: 0.9850 - loss: 0.0407 - val_accuracy: 0.9966 - val_loss: 0.0137\n",
            "Epoch 41/50\n",
            "\u001b[1m187/187\u001b[0m \u001b[32m━━━━━━━━━━━━━━━━━━━━\u001b[0m\u001b[37m\u001b[0m \u001b[1m0s\u001b[0m 770ms/step - accuracy: 0.9841 - loss: 0.0434\n",
            "Epoch 41: val_accuracy did not improve from 0.99664\n",
            "\u001b[1m187/187\u001b[0m \u001b[32m━━━━━━━━━━━━━━━━━━━━\u001b[0m\u001b[37m\u001b[0m \u001b[1m200s\u001b[0m 1s/step - accuracy: 0.9841 - loss: 0.0434 - val_accuracy: 0.9919 - val_loss: 0.0196\n",
            "Epoch 42/50\n",
            "\u001b[1m187/187\u001b[0m \u001b[32m━━━━━━━━━━━━━━━━━━━━\u001b[0m\u001b[37m\u001b[0m \u001b[1m0s\u001b[0m 775ms/step - accuracy: 0.9807 - loss: 0.0469\n",
            "Epoch 42: val_accuracy did not improve from 0.99664\n",
            "\u001b[1m187/187\u001b[0m \u001b[32m━━━━━━━━━━━━━━━━━━━━\u001b[0m\u001b[37m\u001b[0m \u001b[1m234s\u001b[0m 1s/step - accuracy: 0.9807 - loss: 0.0469 - val_accuracy: 0.9919 - val_loss: 0.0256\n",
            "Epoch 43/50\n",
            "\u001b[1m187/187\u001b[0m \u001b[32m━━━━━━━━━━━━━━━━━━━━\u001b[0m\u001b[37m\u001b[0m \u001b[1m0s\u001b[0m 765ms/step - accuracy: 0.9852 - loss: 0.0390\n",
            "Epoch 43: val_accuracy did not improve from 0.99664\n",
            "\u001b[1m187/187\u001b[0m \u001b[32m━━━━━━━━━━━━━━━━━━━━\u001b[0m\u001b[37m\u001b[0m \u001b[1m228s\u001b[0m 1s/step - accuracy: 0.9852 - loss: 0.0390 - val_accuracy: 0.9946 - val_loss: 0.0168\n",
            "Epoch 44/50\n",
            "\u001b[1m187/187\u001b[0m \u001b[32m━━━━━━━━━━━━━━━━━━━━\u001b[0m\u001b[37m\u001b[0m \u001b[1m0s\u001b[0m 774ms/step - accuracy: 0.9849 - loss: 0.0387\n",
            "Epoch 44: val_accuracy did not improve from 0.99664\n",
            "\u001b[1m187/187\u001b[0m \u001b[32m━━━━━━━━━━━━━━━━━━━━\u001b[0m\u001b[37m\u001b[0m \u001b[1m203s\u001b[0m 1s/step - accuracy: 0.9849 - loss: 0.0387 - val_accuracy: 0.9926 - val_loss: 0.0203\n",
            "Epoch 45/50\n",
            "\u001b[1m187/187\u001b[0m \u001b[32m━━━━━━━━━━━━━━━━━━━━\u001b[0m\u001b[37m\u001b[0m \u001b[1m0s\u001b[0m 775ms/step - accuracy: 0.9818 - loss: 0.0450\n",
            "Epoch 45: val_accuracy improved from 0.99664 to 0.99732, saving model to /content/drive/MyDrive/final project/Models/EfficientNetB2_45-1.00.keras\n",
            "\u001b[1m187/187\u001b[0m \u001b[32m━━━━━━━━━━━━━━━━━━━━\u001b[0m\u001b[37m\u001b[0m \u001b[1m201s\u001b[0m 1s/step - accuracy: 0.9818 - loss: 0.0450 - val_accuracy: 0.9973 - val_loss: 0.0134\n",
            "Epoch 46/50\n",
            "\u001b[1m187/187\u001b[0m \u001b[32m━━━━━━━━━━━━━━━━━━━━\u001b[0m\u001b[37m\u001b[0m \u001b[1m0s\u001b[0m 767ms/step - accuracy: 0.9843 - loss: 0.0400\n",
            "Epoch 46: val_accuracy did not improve from 0.99732\n",
            "\u001b[1m187/187\u001b[0m \u001b[32m━━━━━━━━━━━━━━━━━━━━\u001b[0m\u001b[37m\u001b[0m \u001b[1m202s\u001b[0m 1s/step - accuracy: 0.9843 - loss: 0.0400 - val_accuracy: 0.9940 - val_loss: 0.0191\n",
            "Epoch 47/50\n",
            "\u001b[1m187/187\u001b[0m \u001b[32m━━━━━━━━━━━━━━━━━━━━\u001b[0m\u001b[37m\u001b[0m \u001b[1m0s\u001b[0m 779ms/step - accuracy: 0.9840 - loss: 0.0433\n",
            "Epoch 47: val_accuracy did not improve from 0.99732\n",
            "\u001b[1m187/187\u001b[0m \u001b[32m━━━━━━━━━━━━━━━━━━━━\u001b[0m\u001b[37m\u001b[0m \u001b[1m205s\u001b[0m 1s/step - accuracy: 0.9840 - loss: 0.0433 - val_accuracy: 0.9973 - val_loss: 0.0111\n",
            "Epoch 48/50\n",
            "\u001b[1m187/187\u001b[0m \u001b[32m━━━━━━━━━━━━━━━━━━━━\u001b[0m\u001b[37m\u001b[0m \u001b[1m0s\u001b[0m 774ms/step - accuracy: 0.9805 - loss: 0.0570\n",
            "Epoch 48: val_accuracy did not improve from 0.99732\n",
            "\u001b[1m187/187\u001b[0m \u001b[32m━━━━━━━━━━━━━━━━━━━━\u001b[0m\u001b[37m\u001b[0m \u001b[1m200s\u001b[0m 1s/step - accuracy: 0.9805 - loss: 0.0569 - val_accuracy: 0.9940 - val_loss: 0.0157\n",
            "Epoch 49/50\n",
            "\u001b[1m187/187\u001b[0m \u001b[32m━━━━━━━━━━━━━━━━━━━━\u001b[0m\u001b[37m\u001b[0m \u001b[1m0s\u001b[0m 781ms/step - accuracy: 0.9830 - loss: 0.0449\n",
            "Epoch 49: val_accuracy did not improve from 0.99732\n",
            "\u001b[1m187/187\u001b[0m \u001b[32m━━━━━━━━━━━━━━━━━━━━\u001b[0m\u001b[37m\u001b[0m \u001b[1m202s\u001b[0m 1s/step - accuracy: 0.9830 - loss: 0.0449 - val_accuracy: 0.9946 - val_loss: 0.0161\n",
            "Epoch 50/50\n",
            "\u001b[1m187/187\u001b[0m \u001b[32m━━━━━━━━━━━━━━━━━━━━\u001b[0m\u001b[37m\u001b[0m \u001b[1m0s\u001b[0m 765ms/step - accuracy: 0.9862 - loss: 0.0348\n",
            "Epoch 50: val_accuracy did not improve from 0.99732\n",
            "\u001b[1m187/187\u001b[0m \u001b[32m━━━━━━━━━━━━━━━━━━━━\u001b[0m\u001b[37m\u001b[0m \u001b[1m198s\u001b[0m 1s/step - accuracy: 0.9862 - loss: 0.0348 - val_accuracy: 0.9960 - val_loss: 0.0104\n"
          ]
        },
        {
          "output_type": "stream",
          "name": "stderr",
          "text": [
            "WARNING:absl:You are saving your model as an HDF5 file via `model.save()` or `keras.saving.save_model(model)`. This file format is considered legacy. We recommend using instead the native Keras format, e.g. `model.save('my_model.keras')` or `keras.saving.save_model(model, 'my_model.keras')`. \n"
          ]
        }
      ],
      "source": [
        "# Define callbacks\n",
        "checkpoint_path = \"/content/drive/MyDrive/final project/Models/EfficientNetB2_{epoch:02d}-{val_accuracy:0.2f}.keras\"\n",
        "model_dir = \"/content/drive/MyDrive/final project/Models\"\n",
        "# ModelCheckpoint: Save best model based on val_accuracy\n",
        "checkpoint = ModelCheckpoint(\n",
        "    checkpoint_path,\n",
        "    monitor='val_accuracy',\n",
        "    verbose=1,\n",
        "    save_best_only=True,\n",
        "    mode='max'\n",
        ")\n",
        "\n",
        "early_stopping_monitor = EarlyStopping(patience = 10)\n",
        "\n",
        "# Train the model\n",
        "History = model.fit(\n",
        "    train_generator,\n",
        "    validation_data=validation_generator,\n",
        "    epochs=epochs,\n",
        "    callbacks=[checkpoint, early_stopping_monitor]\n",
        ")\n",
        "model.save('/content/drive/MyDrive/final project/Models/EfficientNetB2_best_model.h5')"
      ]
    },
    {
      "cell_type": "markdown",
      "metadata": {
        "id": "F9aR50ZCdP4u"
      },
      "source": [
        "# **History Plotting**"
      ]
    },
    {
      "cell_type": "code",
      "execution_count": null,
      "metadata": {
        "colab": {
          "base_uri": "https://localhost:8080/",
          "height": 607
        },
        "id": "irlKtp0pLy3N",
        "outputId": "b6e93797-c742-4524-cac9-f5b8c66aee79"
      },
      "outputs": [
        {
          "output_type": "display_data",
          "data": {
            "text/plain": [
              "<Figure size 1200x600 with 2 Axes>"
            ],
            "image/png": "[encoded data removed]"
          },
          "metadata": {}
        }
      ],
      "source": [
        "import matplotlib.pyplot as plt\n",
        "\n",
        "# Extract the training history\n",
        "history = History.history\n",
        "\n",
        "# Plot training & validation accuracy\n",
        "plt.figure(figsize=(12, 6))\n",
        "\n",
        "plt.subplot(1, 2, 1)\n",
        "plt.plot(history['accuracy'], label='Train Accuracy')\n",
        "plt.plot(history['val_accuracy'], label='Validation Accuracy')\n",
        "plt.title('Model Accuracy')\n",
        "plt.xlabel('Epochs')\n",
        "plt.ylabel('Accuracy')\n",
        "plt.legend()\n",
        "\n",
        "# Plot training & validation loss\n",
        "plt.subplot(1, 2, 2)\n",
        "plt.plot(history['loss'], label='Train Loss')\n",
        "plt.plot(history['val_loss'], label='Validation Loss')\n",
        "plt.title('Model Loss')\n",
        "plt.xlabel('Epochs')\n",
        "plt.ylabel('Loss')\n",
        "plt.legend()\n",
        "\n",
        "plt.tight_layout()\n",
        "plt.show()"
      ]
    },
    {
      "cell_type": "code",
      "execution_count": null,
      "metadata": {
        "colab": {
          "base_uri": "https://localhost:8080/"
        },
        "id": "2nFYB1A4M09u",
        "outputId": "76a8b44a-2b42-441d-fd97-5223f961238e"
      },
      "outputs": [
        {
          "output_type": "stream",
          "name": "stdout",
          "text": [
            "Final Training Accuracy: 0.9859\n",
            "Final Validation Accuracy: 0.9960\n",
            "Final Training Loss: 0.0377\n",
            "Final Validation Loss: 0.0104\n"
          ]
        }
      ],
      "source": [
        "final_train_acc = History.history['accuracy'][-1]\n",
        "final_val_acc = History.history['val_accuracy'][-1]\n",
        "final_train_loss = History.history['loss'][-1]\n",
        "final_val_loss = History.history['val_loss'][-1]\n",
        "\n",
        "print(f\"Final Training Accuracy: {final_train_acc:.4f}\")\n",
        "print(f\"Final Validation Accuracy: {final_val_acc:.4f}\")\n",
        "print(f\"Final Training Loss: {final_train_loss:.4f}\")\n",
        "print(f\"Final Validation Loss: {final_val_loss:.4f}\")\n"
      ]
    },
    {
      "cell_type": "code",
      "execution_count": null,
      "metadata": {
        "id": "--osi_NzM4af"
      },
      "outputs": [],
      "source": [
        "if 'lr' in History.history:\n",
        "    plt.plot(History.history['lr'], label='Learning Rate')\n",
        "    plt.title('Learning Rate Over Epochs')\n",
        "    plt.xlabel('Epochs')\n",
        "    plt.ylabel('Learning Rate')\n",
        "    plt.legend()\n",
        "    plt.show()"
      ]
    },
    {
      "cell_type": "code",
      "execution_count": null,
      "metadata": {
        "colab": {
          "base_uri": "https://localhost:8080/"
        },
        "id": "yqyyTw4VM8Gw",
        "outputId": "c6acaaea-1754-46ad-eb1d-16e714d9b819"
      },
      "outputs": [
        {
          "output_type": "stream",
          "name": "stdout",
          "text": [
            "Training stopped at epoch: 50\n"
          ]
        }
      ],
      "source": [
        "print(f\"Training stopped at epoch: {len(History.history['loss'])}\")\n"
      ]
    },
    {
      "cell_type": "markdown",
      "metadata": {
        "id": "-lsXaEavddtj"
      },
      "source": [
        "# **History Saving**"
      ]
    },
    {
      "cell_type": "code",
      "execution_count": null,
      "metadata": {
        "colab": {
          "base_uri": "https://localhost:8080/"
        },
        "id": "PEToKlePM92F",
        "outputId": "7da870b3-6ecb-4139-8f04-d8831b732272"
      },
      "outputs": [
        {
          "output_type": "stream",
          "name": "stdout",
          "text": [
            "{'accuracy': [0.9042106866836548, 0.9416205286979675, 0.9508471488952637, 0.9558798670768738, 0.9582284688949585, 0.964938759803772, 0.9677906632423401, 0.9674551486968994, 0.965945303440094, 0.9693004488945007, 0.9724878668785095, 0.9733266234397888, 0.9760107398033142, 0.9766817688941956, 0.9743331670761108, 0.9766817688941956, 0.9775205254554749, 0.9773527979850769, 0.9786948561668396, 0.9778560400009155, 0.9776883125305176, 0.9802046418190002, 0.9766817688941956, 0.9800369143486023, 0.9791980981826782, 0.9807079434394836, 0.9780238270759583, 0.9832242727279663, 0.9822177290916443, 0.982553243637085, 0.9812111854553223, 0.981378972530365, 0.9800369143486023, 0.982553243637085, 0.9805401563644409, 0.9842308163642883, 0.9859083890914917, 0.9810434579849243, 0.984398603439331, 0.9849018454551697, 0.9847341179847717, 0.9822177290916443, 0.9817144870758057, 0.983559787273407, 0.983559787273407, 0.9874182343482971, 0.9842308163642883, 0.982385516166687, 0.982553243637085, 0.9859083890914917], 'loss': [0.2371087372303009, 0.14914041757583618, 0.13201968371868134, 0.11650051176548004, 0.10401167720556259, 0.09434513747692108, 0.09081757813692093, 0.07975643128156662, 0.08813496679067612, 0.0785086452960968, 0.07746047526597977, 0.07589327543973923, 0.07016224414110184, 0.0665501207113266, 0.06868728995323181, 0.0649200975894928, 0.06037464737892151, 0.06157264485955238, 0.05840207263827324, 0.06246945634484291, 0.06083930283784866, 0.054536305367946625, 0.058713149279356, 0.05678117647767067, 0.05639553815126419, 0.05556739121675491, 0.061205293983221054, 0.04833461716771126, 0.0487816147506237, 0.04772773012518883, 0.051544174551963806, 0.04797549545764923, 0.05566314980387688, 0.04769110679626465, 0.052978478372097015, 0.04702681303024292, 0.03873669356107712, 0.056859374046325684, 0.04508790746331215, 0.04247041791677475, 0.043479274958372116, 0.04607240855693817, 0.043975066393613815, 0.04116514325141907, 0.04247453436255455, 0.034251101315021515, 0.04394977167248726, 0.049895670264959335, 0.04670611768960953, 0.03769997879862785], 'val_accuracy': [0.9489932656288147, 0.9711409211158752, 0.9731543660163879, 0.9818791747093201, 0.9771811962127686, 0.9852349162101746, 0.9711409211158752, 0.9785234928131104, 0.9859060645103455, 0.9865771532058716, 0.9838926196098328, 0.9926174283027649, 0.980536937713623, 0.9899328947067261, 0.9859060645103455, 0.9926174283027649, 0.9892617464065552, 0.9872483015060425, 0.9885905981063843, 0.990604043006897, 0.991946280002594, 0.9946308732032776, 0.990604043006897, 0.9939597249031067, 0.9912751913070679, 0.9892617464065552, 0.9879194498062134, 0.9939597249031067, 0.9939597249031067, 0.9926174283027649, 0.9946308732032776, 0.991946280002594, 0.9912751913070679, 0.9959731698036194, 0.9939597249031067, 0.9939597249031067, 0.9939597249031067, 0.9946308732032776, 0.9912751913070679, 0.9966443181037903, 0.991946280002594, 0.991946280002594, 0.9946308732032776, 0.9926174283027649, 0.9973154067993164, 0.9939597249031067, 0.9973154067993164, 0.9939597249031067, 0.9946308732032776, 0.9959731698036194], 'val_loss': [0.13067196309566498, 0.08521342277526855, 0.07367748022079468, 0.06454471498727798, 0.05880488082766533, 0.041903771460056305, 0.06341759860515594, 0.052945468574762344, 0.03388621285557747, 0.03443792089819908, 0.04525778815150261, 0.0314628966152668, 0.043162912130355835, 0.031497955322265625, 0.031608741730451584, 0.0324455089867115, 0.028104271739721298, 0.03695075586438179, 0.03225776553153992, 0.030238375067710876, 0.020426258444786072, 0.02243642881512642, 0.024389559403061867, 0.021329695358872414, 0.025389105081558228, 0.023047028109431267, 0.026848439127206802, 0.017751729115843773, 0.015843834728002548, 0.01823699288070202, 0.016068410128355026, 0.024196617305278778, 0.028682366013526917, 0.01520338375121355, 0.019843433052301407, 0.014510360546410084, 0.017990345135331154, 0.019505826756358147, 0.01773286797106266, 0.01368302945047617, 0.019562438130378723, 0.0256365817040205, 0.016823595389723778, 0.020326904952526093, 0.01344345137476921, 0.019117694348096848, 0.011106299236416817, 0.01573638990521431, 0.016111118718981743, 0.01041960995644331]}\n"
          ]
        }
      ],
      "source": [
        "import json\n",
        "\n",
        "# Save history to a JSON file on Google Drive\n",
        "with open(\"/content/drive/MyDrive/final project/Models/training_history.json\", \"w\") as f:\n",
        "    json.dump(History.history, f)\n",
        "\n",
        "# Load the history later\n",
        "with open(\"/content/drive/MyDrive/final project/Models/training_history.json\", \"r\") as f:\n",
        "    loaded_history = json.load(f)\n",
        "    print(loaded_history)"
      ]
    },
    {
      "cell_type": "markdown",
      "metadata": {
        "id": "LfRJ3N-ydkOn"
      },
      "source": [
        "# **Model Evaluation Using Test Data**"
      ]
    },
    {
      "cell_type": "code",
      "execution_count": null,
      "metadata": {
        "id": "QaZYtwgHE8YV",
        "colab": {
          "base_uri": "https://localhost:8080/"
        },
        "outputId": "ab895111-3e0d-481d-d32a-c3a2a9a2956e"
      },
      "outputs": [
        {
          "output_type": "stream",
          "name": "stderr",
          "text": [
            "WARNING:absl:Compiled the loaded model, but the compiled metrics have yet to be built. `model.compile_metrics` will be empty until you train or evaluate the model.\n"
          ]
        },
        {
          "output_type": "stream",
          "name": "stdout",
          "text": [
            "\u001b[1m59/59\u001b[0m \u001b[32m━━━━━━━━━━━━━━━━━━━━\u001b[0m\u001b[37m\u001b[0m \u001b[1m514s\u001b[0m 9s/step\n",
            "Confusion Matrix:\n",
            " [[929   2]\n",
            " [  5 932]]\n",
            "\n",
            "Classification Report:\n",
            "               precision    recall  f1-score   support\n",
            "\n",
            "     Healthy       0.99      1.00      1.00       931\n",
            "      Rotten       1.00      0.99      1.00       937\n",
            "\n",
            "    accuracy                           1.00      1868\n",
            "   macro avg       1.00      1.00      1.00      1868\n",
            "weighted avg       1.00      1.00      1.00      1868\n",
            "\n",
            "\n",
            "Accuracy: 0.9962526766595289\n",
            "\n",
            "F1 Score: 0.9962586851950829\n"
          ]
        }
      ],
      "source": [
        "from sklearn.metrics import confusion_matrix, classification_report, f1_score, accuracy_score\n",
        "import numpy as np\n",
        "import tensorflow as tf\n",
        "checkpoint_path = '/content/drive/MyDrive/final project/Models/EfficientNetB2_best_model.h5'\n",
        "model = tf.keras.models.load_model(checkpoint_path)\n",
        "\n",
        "test_generator.reset()\n",
        "predictions = model.predict(test_generator, steps=len(test_generator), verbose=1)\n",
        "\n",
        "# Convert predictions to binary labels\n",
        "predicted_labels = np.where(predictions > 0.5, 1, 0).flatten()\n",
        "\n",
        "# Get the true labels\n",
        "true_labels = test_generator.classes\n",
        "\n",
        "# Confusion Matrix\n",
        "conf_matrix = confusion_matrix(true_labels, predicted_labels)\n",
        "print(\"Confusion Matrix:\\n\", conf_matrix)\n",
        "\n",
        "# Classification Report\n",
        "class_report = classification_report(true_labels, predicted_labels, target_names=['Healthy', 'Rotten'])\n",
        "print(\"\\nClassification Report:\\n\", class_report)\n",
        "\n",
        "# Accuracy Score\n",
        "accuracy = accuracy_score(true_labels, predicted_labels)\n",
        "print(\"\\nAccuracy:\", accuracy)\n",
        "\n",
        "# F1 Score\n",
        "f1 = f1_score(true_labels, predicted_labels)\n",
        "print(\"\\nF1 Score:\", f1)\n"
      ]
    },
    {
      "cell_type": "code",
      "execution_count": null,
      "metadata": {
        "id": "yhoJ8dKm-Gse",
        "colab": {
          "base_uri": "https://localhost:8080/"
        },
        "outputId": "78907bad-1c9d-4b4a-a012-312ac297e8a0"
      },
      "outputs": [
        {
          "output_type": "stream",
          "name": "stdout",
          "text": [
            "Results saved to /content/drive/MyDrive/final project/Models/EfficientNetB2_results.txt\n"
          ]
        }
      ],
      "source": [
        "# Define where to save everything\n",
        "results_save_path = \"/content/drive/MyDrive/final project/Models/EfficientNetB2_results.txt\"\n",
        "conf_matrix_save_path = \"/content/drive/MyDrive/final project/Models/EfficientNetB2_confusion_matrix.png\"\n",
        "with open(results_save_path, \"w\") as file:\n",
        "    file.write(f\"Accuracy: {accuracy:.4f}\\n\")\n",
        "    file.write(f\"F1 Score: {f1:.4f}\\n\")\n",
        "    file.write(f\"classification Report:\\n {class_report}\\n\")\n",
        "    file.write(f\"Confusion Matrix:\\n{conf_matrix}\\n\")\n",
        "\n",
        "print(f\"Results saved to {results_save_path}\")"
      ]
    },
    {
      "cell_type": "code",
      "execution_count": null,
      "metadata": {
        "id": "AEo7B46bFFX_",
        "colab": {
          "base_uri": "https://localhost:8080/"
        },
        "outputId": "b3129410-816b-4473-f7b2-8f2570a73e5f"
      },
      "outputs": [
        {
          "output_type": "stream",
          "name": "stdout",
          "text": [
            "Confusion matrix saved to /content/drive/MyDrive/final project/Models/EfficientNetB2_confusion_matrix.png\n"
          ]
        }
      ],
      "source": [
        "import matplotlib.pyplot as plt  # Import the plotting library and assign it to the alias 'plt'\n",
        "import seaborn as sns\n",
        "# Plot confusion matrix\n",
        "plt.figure(figsize=(6, 6))\n",
        "sns.heatmap(conf_matrix, annot=True, fmt=\"d\", cmap=\"Blues\", xticklabels=[\"Healthy\", \"Rotten\"], yticklabels=[\"Healthy\", \"Rotten\"])\n",
        "plt.xlabel(\"Predicted Labels\")\n",
        "plt.ylabel(\"True Labels\")\n",
        "plt.title(\"Confusion Matrix\")\n",
        "\n",
        "# Save confusion matrix as an image\n",
        "plt.savefig(conf_matrix_save_path)\n",
        "print(f\"Confusion matrix saved to {conf_matrix_save_path}\")\n",
        "from IPython.display import Image\n",
        "Image(filename=conf_matrix_save_path)\n",
        "plt.close()  # Close the plot to free up memory"
      ]
    }
  ],
  "metadata": {
    "accelerator": "GPU",
    "colab": {
      "gpuType": "T4",
      "provenance": [],
      "include_colab_link": true
    },
    "kernelspec": {
      "display_name": "Python 3",
      "name": "python3"
    },
    "language_info": {
      "name": "python"
    }
  },
  "nbformat": 4,
  "nbformat_minor": 0
}